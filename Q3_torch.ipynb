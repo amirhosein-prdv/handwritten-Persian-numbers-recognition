{
 "cells": [
  {
   "cell_type": "markdown",
   "id": "f906e2ef",
   "metadata": {
    "_uuid": "65670791be0f9dbdabacec767b7aa930f88f57cb",
    "papermill": {
     "duration": 0.034574,
     "end_time": "2022-05-09T12:02:18.699520",
     "exception": false,
     "start_time": "2022-05-09T12:02:18.664946",
     "status": "completed"
    },
    "tags": []
   },
   "source": [
    "## Imports library"
   ]
  },
  {
   "cell_type": "code",
   "execution_count": 1,
   "id": "1f2e4fe9",
   "metadata": {
    "_uuid": "8b92df54d984e6e40ada9af22e0212e435dbf783",
    "execution": {
     "iopub.execute_input": "2022-05-09T12:02:18.892703Z",
     "iopub.status.busy": "2022-05-09T12:02:18.892405Z",
     "iopub.status.idle": "2022-05-09T12:02:21.954031Z",
     "shell.execute_reply": "2022-05-09T12:02:21.953164Z"
    },
    "papermill": {
     "duration": 3.099219,
     "end_time": "2022-05-09T12:02:21.956488",
     "exception": false,
     "start_time": "2022-05-09T12:02:18.857269",
     "status": "completed"
    },
    "tags": []
   },
   "outputs": [],
   "source": [
    "#pytorch utility imports\n",
    "import torch\n",
    "import torchvision\n",
    "import torchvision.transforms as transforms\n",
    "from torch.utils.data import DataLoader, TensorDataset\n",
    "from torchvision.utils import make_grid\n",
    "\n",
    "#neural net imports\n",
    "import torch.nn as nn\n",
    "import torch.nn.functional as F\n",
    "import torch.optim as optim\n",
    "from torch.autograd import Variable\n",
    "\n",
    "#import external libraries\n",
    "import matplotlib.pyplot as plt\n",
    "from sklearn.model_selection import train_test_split\n",
    "import math\n",
    "import time\n",
    "%matplotlib inline"
   ]
  },
  {
   "cell_type": "markdown",
   "id": "a27121a0",
   "metadata": {
    "_uuid": "a37121ac5ef70c0cb0899b0d8d996c40b450c826",
    "papermill": {
     "duration": 0.032122,
     "end_time": "2022-05-09T12:02:22.024578",
     "exception": false,
     "start_time": "2022-05-09T12:02:21.992456",
     "status": "completed"
    },
    "tags": []
   },
   "source": [
    "Check for CUDA"
   ]
  },
  {
   "cell_type": "code",
   "execution_count": 4,
   "id": "91f2ed55",
   "metadata": {
    "_uuid": "cc31bfe822c48ef3a7911eb3a3f62e4116f6befc",
    "execution": {
     "iopub.execute_input": "2022-05-09T12:02:22.094237Z",
     "iopub.status.busy": "2022-05-09T12:02:22.093928Z",
     "iopub.status.idle": "2022-05-09T12:02:22.170890Z",
     "shell.execute_reply": "2022-05-09T12:02:22.169962Z"
    },
    "papermill": {
     "duration": 0.114138,
     "end_time": "2022-05-09T12:02:22.173993",
     "exception": false,
     "start_time": "2022-05-09T12:02:22.059855",
     "status": "completed"
    },
    "tags": []
   },
   "outputs": [
    {
     "name": "stdout",
     "output_type": "stream",
     "text": [
      "True\n",
      "True\n",
      "cuda\n"
     ]
    }
   ],
   "source": [
    "print(torch.cuda.is_available())\n",
    "print(torch.backends.cudnn.enabled)\n",
    "\n",
    "if torch.cuda.is_available():\n",
    "    device = torch.device('cuda')\n",
    "    print(device)"
   ]
  },
  {
   "cell_type": "markdown",
   "id": "a8a25de5",
   "metadata": {
    "_uuid": "3f5ceccdfd524d9e51c2670a58449ce49e12363a",
    "papermill": {
     "duration": 0.031859,
     "end_time": "2022-05-09T12:02:22.239531",
     "exception": false,
     "start_time": "2022-05-09T12:02:22.207672",
     "status": "completed"
    },
    "tags": []
   },
   "source": [
    "## Read inputs"
   ]
  },
  {
   "cell_type": "markdown",
   "id": "0bdaf23b",
   "metadata": {
    "_uuid": "d9dd9d5effcb7f16090ce11cfcd748ea7fc651e5",
    "papermill": {
     "duration": 0.033365,
     "end_time": "2022-05-09T12:02:22.304623",
     "exception": false,
     "start_time": "2022-05-09T12:02:22.271258",
     "status": "completed"
    },
    "tags": []
   },
   "source": [
    "### Separate into labels and training images and reshape the images"
   ]
  },
  {
   "cell_type": "code",
   "execution_count": 5,
   "id": "a9c1834b",
   "metadata": {
    "execution": {
     "iopub.execute_input": "2022-05-09T12:02:22.371916Z",
     "iopub.status.busy": "2022-05-09T12:02:22.371680Z",
     "iopub.status.idle": "2022-05-09T12:02:22.732056Z",
     "shell.execute_reply": "2022-05-09T12:02:22.731057Z"
    },
    "papermill": {
     "duration": 0.397653,
     "end_time": "2022-05-09T12:02:22.734615",
     "exception": false,
     "start_time": "2022-05-09T12:02:22.336962",
     "status": "completed"
    },
    "tags": []
   },
   "outputs": [],
   "source": [
    "\n",
    "# Hoda Dataset Reader\n",
    "# Python code for reading Hoda farsi digit dataset.\n",
    "\n",
    "import struct\n",
    "import numpy as np\n",
    "import cv2\n",
    "\n",
    "\n",
    "def __convert_to_one_hot(vector, num_classes):\n",
    "    result = np.zeros(shape=[len(vector), num_classes])\n",
    "    result[np.arange(len(vector)), vector] = 1\n",
    "    return result\n",
    "\n",
    "\n",
    "def __resize_image(src_image, dst_image_height, dst_image_width):\n",
    "    src_image_height = src_image.shape[0]\n",
    "    src_image_width = src_image.shape[1]\n",
    "\n",
    "    if src_image_height > dst_image_height or src_image_width > dst_image_width:\n",
    "        height_scale = dst_image_height / src_image_height\n",
    "        width_scale = dst_image_width / src_image_width\n",
    "        scale = min(height_scale, width_scale)\n",
    "        img = cv2.resize(src=src_image, dsize=(0, 0), fx=scale, fy=scale, interpolation=cv2.INTER_CUBIC)\n",
    "    else:\n",
    "        img = src_image\n",
    "\n",
    "    img_height = img.shape[0]\n",
    "    img_width = img.shape[1]\n",
    "\n",
    "    dst_image = np.zeros(shape=[dst_image_height, dst_image_width], dtype=np.uint8)\n",
    "\n",
    "    y_offset = (dst_image_height - img_height) // 2\n",
    "    x_offset = (dst_image_width - img_width) // 2\n",
    "\n",
    "    dst_image[y_offset:y_offset+img_height, x_offset:x_offset+img_width] = img\n",
    "\n",
    "    return dst_image\n",
    "\n",
    "\n",
    "def read_hoda_cdb(file_name):\n",
    "    with open(file_name, 'rb') as binary_file:\n",
    "\n",
    "        data = binary_file.read()\n",
    "\n",
    "        offset = 0\n",
    "\n",
    "        # read private header\n",
    "\n",
    "        yy = struct.unpack_from('H', data, offset)[0]\n",
    "        offset += 2\n",
    "\n",
    "        m = struct.unpack_from('B', data, offset)[0]\n",
    "        offset += 1\n",
    "\n",
    "        d = struct.unpack_from('B', data, offset)[0]\n",
    "        offset += 1\n",
    "\n",
    "        H = struct.unpack_from('B', data, offset)[0]\n",
    "        offset += 1\n",
    "\n",
    "        W = struct.unpack_from('B', data, offset)[0]\n",
    "        offset += 1\n",
    "\n",
    "        TotalRec = struct.unpack_from('I', data, offset)[0]\n",
    "        offset += 4\n",
    "\n",
    "        LetterCount = struct.unpack_from('128I', data, offset)\n",
    "        offset += 128 * 4\n",
    "\n",
    "        imgType = struct.unpack_from('B', data, offset)[0]  # 0: binary, 1: gray\n",
    "        offset += 1\n",
    "\n",
    "        Comments = struct.unpack_from('256c', data, offset)\n",
    "        offset += 256 * 1\n",
    "\n",
    "        Reserved = struct.unpack_from('245c', data, offset)\n",
    "        offset += 245 * 1\n",
    "\n",
    "        if (W > 0) and (H > 0):\n",
    "            normal = True\n",
    "        else:\n",
    "            normal = False\n",
    "\n",
    "        images = []\n",
    "        labels = []\n",
    "\n",
    "        for i in range(TotalRec):\n",
    "\n",
    "            StartByte = struct.unpack_from('B', data, offset)[0]  # must be 0xff\n",
    "            offset += 1\n",
    "\n",
    "            label = struct.unpack_from('B', data, offset)[0]\n",
    "            offset += 1\n",
    "\n",
    "            if not normal:\n",
    "                W = struct.unpack_from('B', data, offset)[0]\n",
    "                offset += 1\n",
    "\n",
    "                H = struct.unpack_from('B', data, offset)[0]\n",
    "                offset += 1\n",
    "\n",
    "            ByteCount = struct.unpack_from('H', data, offset)[0]\n",
    "            offset += 2\n",
    "\n",
    "            image = np.zeros(shape=[H, W], dtype=np.uint8)\n",
    "\n",
    "            if imgType == 0:\n",
    "                # Binary\n",
    "                for y in range(H):\n",
    "                    bWhite = True\n",
    "                    counter = 0\n",
    "                    while counter < W:\n",
    "                        WBcount = struct.unpack_from('B', data, offset)[0]\n",
    "                        offset += 1\n",
    "                        # x = 0\n",
    "                        # while x < WBcount:\n",
    "                        #     if bWhite:\n",
    "                        #         image[y, x + counter] = 0  # Background\n",
    "                        #     else:\n",
    "                        #         image[y, x + counter] = 255  # ForeGround\n",
    "                        #     x += 1\n",
    "                        if bWhite:\n",
    "                            image[y, counter:counter + WBcount] = 0  # Background\n",
    "                        else:\n",
    "                            image[y, counter:counter + WBcount] = 255  # ForeGround\n",
    "                        bWhite = not bWhite  # black white black white ...\n",
    "                        counter += WBcount\n",
    "            else:\n",
    "                # GrayScale mode\n",
    "                data = struct.unpack_from('{}B'.format(W * H), data, offset)\n",
    "                offset += W * H\n",
    "                image = np.asarray(data, dtype=np.uint8).reshape([W, H]).T\n",
    "\n",
    "            images.append(image)\n",
    "            labels.append(label)\n",
    "\n",
    "        return images, labels\n",
    "\n",
    "\n",
    "def read_hoda_dataset(dataset_path, images_height=32, images_width=32, one_hot=False, reshape=True):\n",
    "    images, labels = read_hoda_cdb(dataset_path)\n",
    "    assert len(images) == len(labels)\n",
    "\n",
    "    X = np.zeros(shape=[len(images), images_height, images_width], dtype=np.float32)\n",
    "    Y = np.zeros(shape=[len(labels)], dtype=int)\n",
    "\n",
    "    for i in range(len(images)):\n",
    "        image = images[i]\n",
    "        # Image resizing.\n",
    "        image = __resize_image(src_image=image, dst_image_height=images_height, dst_image_width=images_width)\n",
    "        # Image normalization.\n",
    "        image = image / 255\n",
    "        # Image binarization.\n",
    "        image = np.where(image >= 0.5, 1, 0)\n",
    "        # Image.\n",
    "        X[i] = image\n",
    "        # Label.\n",
    "        Y[i] = labels[i]\n",
    "\n",
    "    if one_hot:\n",
    "        Y = __convert_to_one_hot(Y, 10).astype(dtype=np.float32)\n",
    "    else:\n",
    "        Y = Y.astype(dtype=np.float32)\n",
    "\n",
    "    if reshape:\n",
    "        X = X.reshape(-1, images_height * images_width)\n",
    "    else:\n",
    "        X = X.reshape(-1, images_height, images_width, 1)\n",
    "\n",
    "    return X, Y"
   ]
  },
  {
   "cell_type": "code",
   "execution_count": 24,
   "id": "c19e6552",
   "metadata": {},
   "outputs": [],
   "source": [
    "dataset_path = \"D:\\\\learning\\\\EE Courses\\\\Neural Network (D. Kalhor)\\\\HW\\\\HW Extra\\\\handwritten-Persian-numbers-recognition\\\\Data\\\\Hoda Dataset\\\\\"\n",
    "# size of images\n",
    "image_height = 40\n",
    "image_width = 40"
   ]
  },
  {
   "cell_type": "code",
   "execution_count": 31,
   "id": "2a181689",
   "metadata": {
    "execution": {
     "iopub.execute_input": "2022-05-09T12:02:22.805773Z",
     "iopub.status.busy": "2022-05-09T12:02:22.804727Z",
     "iopub.status.idle": "2022-05-09T12:02:34.771273Z",
     "shell.execute_reply": "2022-05-09T12:02:34.770193Z"
    },
    "papermill": {
     "duration": 12.004128,
     "end_time": "2022-05-09T12:02:34.773981",
     "exception": false,
     "start_time": "2022-05-09T12:02:22.769853",
     "status": "completed"
    },
    "tags": []
   },
   "outputs": [],
   "source": [
    "# load train images\n",
    "train_images, train_labels = read_hoda_dataset(dataset_path=dataset_path+\"Train 60000.cdb\",\n",
    "                                images_height=image_height,\n",
    "                                images_width=image_width,\n",
    "                                one_hot=False,\n",
    "                                reshape=True)"
   ]
  },
  {
   "cell_type": "code",
   "execution_count": 32,
   "id": "81c9a665",
   "metadata": {},
   "outputs": [],
   "source": [
    "# load test images\n",
    "X_test, y_test = read_hoda_dataset(dataset_path=dataset_path+\"Test 20000.cdb\",\n",
    "                                images_height=image_height,\n",
    "                                images_width=image_width,\n",
    "                                one_hot=False,\n",
    "                                reshape=True)"
   ]
  },
  {
   "cell_type": "code",
   "execution_count": 33,
   "id": "d66df787",
   "metadata": {
    "execution": {
     "iopub.execute_input": "2022-05-09T12:02:34.841382Z",
     "iopub.status.busy": "2022-05-09T12:02:34.841118Z",
     "iopub.status.idle": "2022-05-09T12:02:35.129254Z",
     "shell.execute_reply": "2022-05-09T12:02:35.128220Z"
    },
    "papermill": {
     "duration": 0.324069,
     "end_time": "2022-05-09T12:02:35.131853",
     "exception": false,
     "start_time": "2022-05-09T12:02:34.807784",
     "status": "completed"
    },
    "tags": []
   },
   "outputs": [],
   "source": [
    "# make val dataset\n",
    "test_images, val_images, test_labels, val_labels = train_test_split(\n",
    "    X_test.astype(np.float32), y_test, test_size=0.3, random_state=1374)"
   ]
  },
  {
   "cell_type": "code",
   "execution_count": 36,
   "id": "24e109fa",
   "metadata": {},
   "outputs": [
    {
     "name": "stdout",
     "output_type": "stream",
     "text": [
      "(60000, 1600)\n",
      "(14000, 1600)\n",
      "(6000, 1600)\n"
     ]
    }
   ],
   "source": [
    "# shape of train, test and validation dataset respectively\n",
    "print(train_images.shape)\n",
    "print(test_images.shape)\n",
    "print(val_images.shape)"
   ]
  },
  {
   "cell_type": "code",
   "execution_count": 37,
   "id": "c8a17b4a",
   "metadata": {
    "_uuid": "a0467a07f79074cb03dfafcf70a989a1de654e8e",
    "execution": {
     "iopub.execute_input": "2022-05-09T12:02:35.201989Z",
     "iopub.status.busy": "2022-05-09T12:02:35.201147Z",
     "iopub.status.idle": "2022-05-09T12:02:35.207360Z",
     "shell.execute_reply": "2022-05-09T12:02:35.206465Z"
    },
    "papermill": {
     "duration": 0.043284,
     "end_time": "2022-05-09T12:02:35.209420",
     "exception": false,
     "start_time": "2022-05-09T12:02:35.166136",
     "status": "completed"
    },
    "tags": []
   },
   "outputs": [],
   "source": [
    "train_images = train_images.reshape(train_images.shape[0], image_height, image_width)\n",
    "val_images = val_images.reshape(val_images.shape[0], image_height, image_width)\n",
    "test_images = test_images.reshape(test_images.shape[0], image_height, image_width)"
   ]
  },
  {
   "cell_type": "markdown",
   "id": "be52a9b4",
   "metadata": {
    "_uuid": "f5cc49c6ced3bbacfc4f2dbdfab19471ec4ddb04",
    "papermill": {
     "duration": 0.033579,
     "end_time": "2022-05-09T12:02:35.275860",
     "exception": false,
     "start_time": "2022-05-09T12:02:35.242281",
     "status": "completed"
    },
    "tags": []
   },
   "source": [
    "### Plot some samples"
   ]
  },
  {
   "cell_type": "code",
   "execution_count": 42,
   "id": "e9b5684c",
   "metadata": {
    "_uuid": "1de567ffcf179220917f3344066454f32a6127bb",
    "execution": {
     "iopub.execute_input": "2022-05-09T12:02:35.346067Z",
     "iopub.status.busy": "2022-05-09T12:02:35.345797Z",
     "iopub.status.idle": "2022-05-09T12:02:35.737136Z",
     "shell.execute_reply": "2022-05-09T12:02:35.736144Z"
    },
    "papermill": {
     "duration": 0.430442,
     "end_time": "2022-05-09T12:02:35.739446",
     "exception": false,
     "start_time": "2022-05-09T12:02:35.309004",
     "status": "completed"
    },
    "tags": []
   },
   "outputs": [
    {
     "data": {
      "image/png": "[encoded data removed]",
      "text/plain": [
       "<Figure size 432x288 with 3 Axes>"
      ]
     },
     "metadata": {
      "needs_background": "light"
     },
     "output_type": "display_data"
    }
   ],
   "source": [
    "#train samples\n",
    "for i in range(6, 9):\n",
    "    plt.subplot(330 + (i+1))\n",
    "    plt.imshow(train_images[i].squeeze(), cmap=plt.get_cmap('gray'))\n",
    "    plt.title(train_labels[i])"
   ]
  },
  {
   "cell_type": "code",
   "execution_count": 45,
   "id": "d7f40f72",
   "metadata": {
    "_uuid": "1ebccd63893509f0bddea4d0d6f783206796edf5",
    "execution": {
     "iopub.execute_input": "2022-05-09T12:02:35.809182Z",
     "iopub.status.busy": "2022-05-09T12:02:35.808882Z",
     "iopub.status.idle": "2022-05-09T12:02:36.142274Z",
     "shell.execute_reply": "2022-05-09T12:02:36.141321Z"
    },
    "papermill": {
     "duration": 0.370632,
     "end_time": "2022-05-09T12:02:36.144627",
     "exception": false,
     "start_time": "2022-05-09T12:02:35.773995",
     "status": "completed"
    },
    "scrolled": true,
    "tags": []
   },
   "outputs": [
    {
     "data": {
      "image/png": "[encoded data removed]",
      "text/plain": [
       "<Figure size 432x288 with 3 Axes>"
      ]
     },
     "metadata": {
      "needs_background": "light"
     },
     "output_type": "display_data"
    }
   ],
   "source": [
    "#test samples\n",
    "for i in range(6, 9):\n",
    "    plt.subplot(330 + (i+1))\n",
    "    plt.imshow(test_images[i].squeeze(), cmap=plt.get_cmap('gray'))"
   ]
  },
  {
   "cell_type": "code",
   "execution_count": 44,
   "id": "fcbab19c",
   "metadata": {},
   "outputs": [
    {
     "data": {
      "image/png": "[encoded data removed]",
      "text/plain": [
       "<Figure size 432x288 with 3 Axes>"
      ]
     },
     "metadata": {
      "needs_background": "light"
     },
     "output_type": "display_data"
    }
   ],
   "source": [
    "#val samples\n",
    "for i in range(6, 9):\n",
    "    plt.subplot(330 + (i+1))\n",
    "    plt.imshow(val_images[i].squeeze(), cmap=plt.get_cmap('gray'))"
   ]
  },
  {
   "cell_type": "markdown",
   "id": "dc3ab027",
   "metadata": {
    "_uuid": "fa81fe0a91f7894e144d09b9268d67a6773c51b6",
    "papermill": {
     "duration": 0.034062,
     "end_time": "2022-05-09T12:02:36.213389",
     "exception": false,
     "start_time": "2022-05-09T12:02:36.179327",
     "status": "completed"
    },
    "tags": []
   },
   "source": [
    "### Convert images to tensors and Normalize it"
   ]
  },
  {
   "cell_type": "code",
   "execution_count": 46,
   "id": "bdc20b9a",
   "metadata": {
    "_uuid": "d39d3fb5b0613fabf72d4a17ddf638bf4ad28700",
    "execution": {
     "iopub.execute_input": "2022-05-09T12:02:36.283176Z",
     "iopub.status.busy": "2022-05-09T12:02:36.282151Z",
     "iopub.status.idle": "2022-05-09T12:02:36.638669Z",
     "shell.execute_reply": "2022-05-09T12:02:36.637723Z"
    },
    "papermill": {
     "duration": 0.394683,
     "end_time": "2022-05-09T12:02:36.641392",
     "exception": false,
     "start_time": "2022-05-09T12:02:36.246709",
     "status": "completed"
    },
    "tags": []
   },
   "outputs": [],
   "source": [
    "#train\n",
    "train_images_tensor = torch.tensor(train_images)/255.0\n",
    "train_labels_tensor = torch.tensor(train_labels)\n",
    "train_tensor = TensorDataset(train_images_tensor, train_labels_tensor.type(torch.LongTensor))\n",
    "\n",
    "#val\n",
    "val_images_tensor = torch.tensor(val_images)/255.0\n",
    "val_labels_tensor = torch.tensor(val_labels)\n",
    "val_tensor = TensorDataset(val_images_tensor, val_labels_tensor.type(torch.LongTensor))\n",
    "\n",
    "#test\n",
    "test_images_tensor = torch.tensor(test_images)/255.0"
   ]
  },
  {
   "cell_type": "markdown",
   "id": "0cb81b6d",
   "metadata": {
    "_uuid": "eea027734384efcc2ff337c0211d2685d95989b0",
    "papermill": {
     "duration": 0.034263,
     "end_time": "2022-05-09T12:02:36.711175",
     "exception": false,
     "start_time": "2022-05-09T12:02:36.676912",
     "status": "completed"
    },
    "tags": []
   },
   "source": [
    "### Load images into the data generator"
   ]
  },
  {
   "cell_type": "code",
   "execution_count": 48,
   "id": "7986f968",
   "metadata": {
    "_uuid": "62de8a26a44cafbf5274ee914142fb56a58b25d4",
    "execution": {
     "iopub.execute_input": "2022-05-09T12:02:36.782840Z",
     "iopub.status.busy": "2022-05-09T12:02:36.782323Z",
     "iopub.status.idle": "2022-05-09T12:02:36.788984Z",
     "shell.execute_reply": "2022-05-09T12:02:36.787908Z"
    },
    "papermill": {
     "duration": 0.046903,
     "end_time": "2022-05-09T12:02:36.791674",
     "exception": false,
     "start_time": "2022-05-09T12:02:36.744771",
     "status": "completed"
    },
    "tags": []
   },
   "outputs": [],
   "source": [
    "train_loader = DataLoader(train_tensor, batch_size=16, num_workers=4, shuffle=True)\n",
    "val_loader = DataLoader(val_tensor, batch_size=16, num_workers=4, shuffle=True)\n",
    "test_loader = DataLoader(test_images_tensor, batch_size=16, num_workers=4, shuffle=False)"
   ]
  },
  {
   "cell_type": "markdown",
   "id": "f4a6067f",
   "metadata": {},
   "source": [
    "## Model"
   ]
  },
  {
   "cell_type": "markdown",
   "id": "a393b19a",
   "metadata": {
    "_uuid": "f99f8c9b1bfe0474f27b72005e7708b6d9fd091a",
    "papermill": {
     "duration": 0.047608,
     "end_time": "2022-05-09T12:02:36.943584",
     "exception": false,
     "start_time": "2022-05-09T12:02:36.895976",
     "status": "completed"
    },
    "tags": []
   },
   "source": [
    "### Define the DCNN Model"
   ]
  },
  {
   "cell_type": "code",
   "execution_count": 51,
   "id": "3adeb18a",
   "metadata": {
    "_uuid": "16954f2ed80f6ecceff5b48e7566415857432a76",
    "execution": {
     "iopub.execute_input": "2022-05-09T12:02:37.011780Z",
     "iopub.status.busy": "2022-05-09T12:02:37.011442Z",
     "iopub.status.idle": "2022-05-09T12:02:37.022902Z",
     "shell.execute_reply": "2022-05-09T12:02:37.021801Z"
    },
    "papermill": {
     "duration": 0.04764,
     "end_time": "2022-05-09T12:02:37.025045",
     "exception": false,
     "start_time": "2022-05-09T12:02:36.977405",
     "status": "completed"
    },
    "tags": []
   },
   "outputs": [],
   "source": [
    "class Net(nn.Module):\n",
    "    def __init__(self):\n",
    "        super(Net, self).__init__()\n",
    "        \n",
    "        self.conv_block_1 = nn.Sequential(\n",
    "            nn.Conv2d(1, 64, kernel_size=3, stride=1, padding=1),\n",
    "            nn.ReLU(inplace=True),\n",
    "            nn.BatchNorm2d(64),\n",
    "            nn.MaxPool2d(kernel_size=3, stride=2),\n",
    "            nn.Dropout2d(0.1)\n",
    "        )\n",
    "        \n",
    "        self.conv_block_2 = nn.Sequential(\n",
    "            nn.Conv2d(64, 128, kernel_size=3, stride=1, padding=1),\n",
    "            nn.ReLU(inplace=True),\n",
    "            nn.BatchNorm2d(128),\n",
    "            nn.Conv2d(128, 128, kernel_size=3, stride=1, padding=1),\n",
    "            nn.ReLU(inplace=True),\n",
    "            nn.BatchNorm2d(128),\n",
    "            nn.MaxPool2d(kernel_size=3, stride=2),\n",
    "            nn.Dropout2d(0.2) \n",
    "        )\n",
    "        \n",
    "        self.conv_block_3 = nn.Sequential(\n",
    "            nn.Conv2d(128, 256, kernel_size=3, stride=1, padding=1),\n",
    "            nn.ReLU(inplace=True),\n",
    "            nn.BatchNorm2d(256),\n",
    "            nn.Conv2d(256, 256, kernel_size=3, stride=1, padding=1),\n",
    "            nn.ReLU(inplace=True),\n",
    "            nn.BatchNorm2d(256),\n",
    "            nn.MaxPool2d(kernel_size=3, stride=2),\n",
    "            nn.Dropout2d(0.3) \n",
    "        )\n",
    "        \n",
    "        self.conv_block_4 = nn.Sequential(\n",
    "            nn.Conv2d(256, 512, kernel_size=3, stride=1, padding=1),\n",
    "            nn.ReLU(inplace=True),\n",
    "            nn.BatchNorm2d(512),\n",
    "            nn.Conv2d(512, 512, kernel_size=3, stride=1, padding=1),\n",
    "            nn.ReLU(inplace=True),\n",
    "            nn.BatchNorm2d(512),\n",
    "            nn.MaxPool2d(kernel_size=3, stride=2),\n",
    "            nn.Dropout2d(0.4) \n",
    "        )\n",
    "        \n",
    "        self.classification_block = nn.Sequential(\n",
    "            nn.Flatten(),\n",
    "            nn.Linear(512*8*8, 1024),\n",
    "            nn.BatchNorm1d(64),\n",
    "            nn.Dropout(0.5),\n",
    "            nn.Linear(1024, 10)\n",
    "        )\n",
    "        \n",
    "    def forward(self, x):\n",
    "        x = self.conv_block_1(x)\n",
    "        x = self.conv_block_2(x)\n",
    "        x = self.conv_block_3(x)\n",
    "        x = self.conv_block_4(x)\n",
    "        x = x.view(x.size(0), -1)\n",
    "        x = self.linear_block(x)\n",
    "        \n",
    "        return x"
   ]
  },
  {
   "cell_type": "code",
   "execution_count": 53,
   "id": "dcea0430",
   "metadata": {
    "_uuid": "5e5650a4bca10a0bae89ae6d384826128ab7f138",
    "execution": {
     "iopub.execute_input": "2022-05-09T12:02:37.095341Z",
     "iopub.status.busy": "2022-05-09T12:02:37.095123Z",
     "iopub.status.idle": "2022-05-09T12:02:37.130470Z",
     "shell.execute_reply": "2022-05-09T12:02:37.129499Z"
    },
    "papermill": {
     "duration": 0.073554,
     "end_time": "2022-05-09T12:02:37.132592",
     "exception": false,
     "start_time": "2022-05-09T12:02:37.059038",
     "status": "completed"
    },
    "tags": []
   },
   "outputs": [
    {
     "data": {
      "text/plain": [
       "Net(\n",
       "  (conv_block_1): Sequential(\n",
       "    (0): Conv2d(1, 64, kernel_size=(3, 3), stride=(1, 1), padding=(1, 1))\n",
       "    (1): ReLU(inplace=True)\n",
       "    (2): BatchNorm2d(64, eps=1e-05, momentum=0.1, affine=True, track_running_stats=True)\n",
       "    (3): MaxPool2d(kernel_size=3, stride=2, padding=0, dilation=1, ceil_mode=False)\n",
       "    (4): Dropout2d(p=0.1, inplace=False)\n",
       "  )\n",
       "  (conv_block_2): Sequential(\n",
       "    (0): Conv2d(64, 128, kernel_size=(3, 3), stride=(1, 1), padding=(1, 1))\n",
       "    (1): ReLU(inplace=True)\n",
       "    (2): BatchNorm2d(128, eps=1e-05, momentum=0.1, affine=True, track_running_stats=True)\n",
       "    (3): Conv2d(128, 128, kernel_size=(3, 3), stride=(1, 1), padding=(1, 1))\n",
       "    (4): ReLU(inplace=True)\n",
       "    (5): BatchNorm2d(128, eps=1e-05, momentum=0.1, affine=True, track_running_stats=True)\n",
       "    (6): MaxPool2d(kernel_size=3, stride=2, padding=0, dilation=1, ceil_mode=False)\n",
       "    (7): Dropout2d(p=0.2, inplace=False)\n",
       "  )\n",
       "  (conv_block_3): Sequential(\n",
       "    (0): Conv2d(128, 256, kernel_size=(3, 3), stride=(1, 1), padding=(1, 1))\n",
       "    (1): ReLU(inplace=True)\n",
       "    (2): BatchNorm2d(256, eps=1e-05, momentum=0.1, affine=True, track_running_stats=True)\n",
       "    (3): Conv2d(256, 256, kernel_size=(3, 3), stride=(1, 1), padding=(1, 1))\n",
       "    (4): ReLU(inplace=True)\n",
       "    (5): BatchNorm2d(256, eps=1e-05, momentum=0.1, affine=True, track_running_stats=True)\n",
       "    (6): MaxPool2d(kernel_size=3, stride=2, padding=0, dilation=1, ceil_mode=False)\n",
       "    (7): Dropout2d(p=0.3, inplace=False)\n",
       "  )\n",
       "  (conv_block_4): Sequential(\n",
       "    (0): Conv2d(256, 512, kernel_size=(3, 3), stride=(1, 1), padding=(1, 1))\n",
       "    (1): ReLU(inplace=True)\n",
       "    (2): BatchNorm2d(512, eps=1e-05, momentum=0.1, affine=True, track_running_stats=True)\n",
       "    (3): Conv2d(512, 512, kernel_size=(3, 3), stride=(1, 1), padding=(1, 1))\n",
       "    (4): ReLU(inplace=True)\n",
       "    (5): BatchNorm2d(512, eps=1e-05, momentum=0.1, affine=True, track_running_stats=True)\n",
       "    (6): MaxPool2d(kernel_size=3, stride=2, padding=0, dilation=1, ceil_mode=False)\n",
       "    (7): Dropout2d(p=0.4, inplace=False)\n",
       "  )\n",
       "  (classification_block): Sequential(\n",
       "    (0): Flatten(start_dim=1, end_dim=-1)\n",
       "    (1): Linear(in_features=32768, out_features=1024, bias=True)\n",
       "    (2): BatchNorm1d(64, eps=1e-05, momentum=0.1, affine=True, track_running_stats=True)\n",
       "    (3): Dropout(p=0.5, inplace=False)\n",
       "    (4): Linear(in_features=1024, out_features=10, bias=True)\n",
       "  )\n",
       ")"
      ]
     },
     "execution_count": 53,
     "metadata": {},
     "output_type": "execute_result"
    }
   ],
   "source": [
    "DCNN_model = Net()\n",
    "DCNN_model"
   ]
  },
  {
   "cell_type": "markdown",
   "id": "63688270",
   "metadata": {
    "_uuid": "8c78e04e0466bb60c949f78e0ebb68e1bf5f34a5",
    "papermill": {
     "duration": 0.035138,
     "end_time": "2022-05-09T12:02:37.202280",
     "exception": false,
     "start_time": "2022-05-09T12:02:37.167142",
     "status": "completed"
    },
    "tags": []
   },
   "source": [
    "### Define the optimizer and loss functions"
   ]
  },
  {
   "cell_type": "code",
   "execution_count": 54,
   "id": "ee36e852",
   "metadata": {
    "_uuid": "c68365a15bee252bdbd5096228e5538ff695478f",
    "execution": {
     "iopub.execute_input": "2022-05-09T12:02:37.274941Z",
     "iopub.status.busy": "2022-05-09T12:02:37.274606Z",
     "iopub.status.idle": "2022-05-09T12:02:40.624985Z",
     "shell.execute_reply": "2022-05-09T12:02:40.623864Z"
    },
    "papermill": {
     "duration": 3.390775,
     "end_time": "2022-05-09T12:02:40.627723",
     "exception": false,
     "start_time": "2022-05-09T12:02:37.236948",
     "status": "completed"
    },
    "tags": []
   },
   "outputs": [],
   "source": [
    "optimizer = optim.Adam(params=DCNN_model.parameters(), lr=0.003)\n",
    "optimizer = optim.Adadelta(params=DCNN_model.parameters(), lr=0.003)\n",
    "optimizer = optim.SGD(params=DCNN_model.parameters(), lr=0.1, momentum=0.9)\n",
    "criterion = nn.CrossEntropyLoss()\n",
    "\n",
    "exp_lr_scheduler = optim.lr_scheduler.StepLR(optimizer, step_size=7, gamma=0.1)\n",
    "\n",
    "if torch.cuda.is_available():\n",
    "    DCNN_model = DCNN_model.cuda()\n",
    "    criterion = criterion.cuda()"
   ]
  },
  {
   "cell_type": "markdown",
   "id": "a918b14e",
   "metadata": {
    "_uuid": "ead9edefdda79f314421cefe8b174eb22f3502a5",
    "papermill": {
     "duration": 0.035704,
     "end_time": "2022-05-09T12:02:40.700746",
     "exception": false,
     "start_time": "2022-05-09T12:02:40.665042",
     "status": "completed"
    },
    "tags": []
   },
   "source": [
    "### Training the Model"
   ]
  },
  {
   "cell_type": "code",
   "execution_count": 55,
   "id": "557c270b",
   "metadata": {
    "_uuid": "7a6d0608892e522c76c7616dcd67c740b792f528",
    "execution": {
     "iopub.execute_input": "2022-05-09T12:02:40.773164Z",
     "iopub.status.busy": "2022-05-09T12:02:40.772333Z",
     "iopub.status.idle": "2022-05-09T12:02:40.787008Z",
     "shell.execute_reply": "2022-05-09T12:02:40.786137Z"
    },
    "papermill": {
     "duration": 0.053176,
     "end_time": "2022-05-09T12:02:40.789195",
     "exception": false,
     "start_time": "2022-05-09T12:02:40.736019",
     "status": "completed"
    },
    "tags": []
   },
   "outputs": [],
   "source": [
    "acc={'Val_acc':[] , 'Loss':[]}\n",
    "\n",
    "def train_model(num_epoch):\n",
    "    conv_model.train()\n",
    "    \n",
    "    for batch_idx, (data, target) in enumerate(train_loader):\n",
    "        data = data.unsqueeze(1)\n",
    "        data, target = data, target\n",
    "        \n",
    "        if torch.cuda.is_available():\n",
    "            data = data.cuda()\n",
    "            target = target.cuda()\n",
    "            \n",
    "        optimizer.zero_grad()\n",
    "        output = conv_model(data)\n",
    "        loss = criterion(output, target)\n",
    "        loss.backward()\n",
    "        optimizer.step()\n",
    "        \n",
    "        if (batch_idx + 1)% 100 == 0:\n",
    "            print('Train Epoch: {} [{}/{} ({:.0f}%)]\\tLoss: {:.6f}'.format(\n",
    "                num_epoch, (batch_idx + 1) * len(data), len(train_loader.dataset),\n",
    "                100. * (batch_idx + 1) / len(train_loader), loss.data))\n",
    "    exp_lr_scheduler.step()\n",
    "    \n",
    "def evaluate(data_loader):\n",
    "    conv_model.eval()\n",
    "    loss = 0\n",
    "    correct = 0\n",
    "    \n",
    "    for data, target in data_loader:\n",
    "        data = data.unsqueeze(1)\n",
    "        data, target = data, target\n",
    "        \n",
    "        if torch.cuda.is_available():\n",
    "            data = data.cuda()\n",
    "            target = target.cuda()\n",
    "        \n",
    "        output = conv_model(data)\n",
    "        \n",
    "        loss += F.cross_entropy(output, target, reduction='sum').data\n",
    "\n",
    "        pred = output.data.max(1, keepdim=True)[1]\n",
    "        correct += pred.eq(target.data.view_as(pred)).cpu().sum()\n",
    "        \n",
    "    loss /= len(data_loader.dataset)\n",
    "    \n",
    "    acc['Val_acc'].append(100. * correct / len(data_loader.dataset))\n",
    "    acc['Loss'].append(loss)\n",
    "        \n",
    "    print('\\nAverage Val Loss: {:.4f}, Val Accuracy: {}/{} ({:.3f}%)\\n'.format(\n",
    "        loss, correct, len(data_loader.dataset),\n",
    "        100. * correct / len(data_loader.dataset)))\n",
    "    "
   ]
  },
  {
   "cell_type": "markdown",
   "id": "7fba3397",
   "metadata": {
    "papermill": {
     "duration": 0.034322,
     "end_time": "2022-05-09T12:02:40.859374",
     "exception": false,
     "start_time": "2022-05-09T12:02:40.825052",
     "status": "completed"
    },
    "tags": []
   },
   "source": [
    "**after 8 epoch we get to 99 percent accuracy so we decrease the num_epoch from 25 to 10**"
   ]
  },
  {
   "cell_type": "code",
   "execution_count": null,
   "id": "04382410",
   "metadata": {
    "_uuid": "aa9e16954b11b99d018779f3322285a6c6ddfaf2",
    "execution": {
     "iopub.execute_input": "2022-05-09T12:02:40.942911Z",
     "iopub.status.busy": "2022-05-09T12:02:40.942509Z",
     "iopub.status.idle": "2022-05-09T12:07:07.707275Z",
     "shell.execute_reply": "2022-05-09T12:07:07.704541Z"
    },
    "papermill": {
     "duration": 266.814823,
     "end_time": "2022-05-09T12:07:07.709913",
     "exception": false,
     "start_time": "2022-05-09T12:02:40.895090",
     "status": "completed"
    },
    "tags": []
   },
   "outputs": [],
   "source": [
    "#num_epochs = 10\n",
    "start_time = time.time()\n",
    "while(True):\n",
    "    try:\n",
    "        num_epochs = 10\n",
    "        for n in range(num_epochs):\n",
    "            train_model(n)\n",
    "            evaluate(val_loader)\n",
    "        break\n",
    "    except:\n",
    "        pass\n",
    "print(\"--- %s seconds ---\" % (time.time() - start_time))"
   ]
  },
  {
   "cell_type": "markdown",
   "id": "88219cb1",
   "metadata": {
    "_uuid": "fee45fa16f75c08e1a9c628d88bb9d3176ee3a79",
    "papermill": {
     "duration": 0.151917,
     "end_time": "2022-05-09T12:07:08.016292",
     "exception": false,
     "start_time": "2022-05-09T12:07:07.864375",
     "status": "completed"
    },
    "tags": []
   },
   "source": [
    "### Make predictions on the test set"
   ]
  },
  {
   "cell_type": "code",
   "execution_count": 17,
   "id": "65915343",
   "metadata": {
    "_uuid": "ff6cd03cb966c7f9c728f014c74edf87546c3d54",
    "execution": {
     "iopub.execute_input": "2022-05-09T12:07:08.325086Z",
     "iopub.status.busy": "2022-05-09T12:07:08.324193Z",
     "iopub.status.idle": "2022-05-09T12:07:08.333100Z",
     "shell.execute_reply": "2022-05-09T12:07:08.332148Z"
    },
    "papermill": {
     "duration": 0.166299,
     "end_time": "2022-05-09T12:07:08.335647",
     "exception": false,
     "start_time": "2022-05-09T12:07:08.169348",
     "status": "completed"
    },
    "tags": []
   },
   "outputs": [],
   "source": [
    "def make_predictions(data_loader):\n",
    "    conv_model.eval()\n",
    "    test_preds = torch.LongTensor()\n",
    "    \n",
    "    for i, data in enumerate(data_loader):\n",
    "        data = data.unsqueeze(1)\n",
    "        \n",
    "        if torch.cuda.is_available():\n",
    "            data = data.cuda()\n",
    "            \n",
    "        output = conv_model(data)\n",
    "        \n",
    "        preds = output.cpu().data.max(1, keepdim=True)[1]\n",
    "        test_preds = torch.cat((test_preds, preds), dim=0)\n",
    "        \n",
    "    return test_preds"
   ]
  },
  {
   "cell_type": "code",
   "execution_count": 18,
   "id": "28c6705e",
   "metadata": {
    "_uuid": "5b624de03cbfef7b1e11f1bcf0efa6721c8112bd",
    "execution": {
     "iopub.execute_input": "2022-05-09T12:07:08.710539Z",
     "iopub.status.busy": "2022-05-09T12:07:08.710137Z",
     "iopub.status.idle": "2022-05-09T12:07:11.417290Z",
     "shell.execute_reply": "2022-05-09T12:07:11.416193Z"
    },
    "papermill": {
     "duration": 2.932859,
     "end_time": "2022-05-09T12:07:11.419977",
     "exception": false,
     "start_time": "2022-05-09T12:07:08.487118",
     "status": "completed"
    },
    "tags": []
   },
   "outputs": [],
   "source": [
    "test_set_preds = make_predictions(test_loader)"
   ]
  },
  {
   "cell_type": "code",
   "execution_count": 19,
   "id": "af03566f",
   "metadata": {
    "execution": {
     "iopub.execute_input": "2022-05-09T12:07:11.685486Z",
     "iopub.status.busy": "2022-05-09T12:07:11.685157Z",
     "iopub.status.idle": "2022-05-09T12:07:12.074060Z",
     "shell.execute_reply": "2022-05-09T12:07:12.072870Z"
    },
    "papermill": {
     "duration": 0.523798,
     "end_time": "2022-05-09T12:07:12.076404",
     "exception": false,
     "start_time": "2022-05-09T12:07:11.552606",
     "status": "completed"
    },
    "tags": []
   },
   "outputs": [
    {
     "name": "stdout",
     "output_type": "stream",
     "text": [
      " 0    9    2    3    6    1    9    8    4   "
     ]
    },
    {
     "data": {
      "image/png": "[encoded data removed]",
      "text/plain": [
       "<Figure size 432x288 with 9 Axes>"
      ]
     },
     "metadata": {},
     "output_type": "display_data"
    }
   ],
   "source": [
    "#test samples\n",
    "for i in range(9):\n",
    "    plt.subplot(1,9,i+1, xticks=[], yticks=[])\n",
    "    print(f' {test_set_preds[i].item()}' , end=\"   \")\n",
    "    plt.imshow(test_images[i].squeeze(), cmap=plt.get_cmap('gray'))\n",
    "plt.show()\n",
    "\n",
    "\n"
   ]
  },
  {
   "cell_type": "code",
   "execution_count": 20,
   "id": "b33370ba",
   "metadata": {
    "execution": {
     "iopub.execute_input": "2022-05-09T12:07:12.369909Z",
     "iopub.status.busy": "2022-05-09T12:07:12.369340Z",
     "iopub.status.idle": "2022-05-09T12:07:12.379357Z",
     "shell.execute_reply": "2022-05-09T12:07:12.378238Z"
    },
    "papermill": {
     "duration": 0.14983,
     "end_time": "2022-05-09T12:07:12.381649",
     "exception": false,
     "start_time": "2022-05-09T12:07:12.231819",
     "status": "completed"
    },
    "tags": []
   },
   "outputs": [
    {
     "data": {
      "text/plain": [
       "0.9945833333333334"
      ]
     },
     "execution_count": 20,
     "metadata": {},
     "output_type": "execute_result"
    }
   ],
   "source": [
    "from sklearn.metrics import accuracy_score\n",
    "\n",
    "\n",
    "accuracy_score(test_labels , test_set_preds)"
   ]
  },
  {
   "cell_type": "code",
   "execution_count": 21,
   "id": "08e37fbf",
   "metadata": {
    "execution": {
     "iopub.execute_input": "2022-05-09T12:07:12.650720Z",
     "iopub.status.busy": "2022-05-09T12:07:12.650405Z",
     "iopub.status.idle": "2022-05-09T12:07:12.724989Z",
     "shell.execute_reply": "2022-05-09T12:07:12.724123Z"
    },
    "papermill": {
     "duration": 0.210448,
     "end_time": "2022-05-09T12:07:12.727049",
     "exception": false,
     "start_time": "2022-05-09T12:07:12.516601",
     "status": "completed"
    },
    "tags": []
   },
   "outputs": [],
   "source": [
    "wrongs=[]\n",
    "for i,v in enumerate(test_set_preds):\n",
    "    if v.item() != test_labels[i]:\n",
    "        wrongs.append(i)"
   ]
  },
  {
   "cell_type": "code",
   "execution_count": 22,
   "id": "c7169410",
   "metadata": {
    "execution": {
     "iopub.execute_input": "2022-05-09T12:07:12.997664Z",
     "iopub.status.busy": "2022-05-09T12:07:12.997279Z",
     "iopub.status.idle": "2022-05-09T12:07:13.384586Z",
     "shell.execute_reply": "2022-05-09T12:07:13.383377Z"
    },
    "papermill": {
     "duration": 0.523867,
     "end_time": "2022-05-09T12:07:13.387155",
     "exception": false,
     "start_time": "2022-05-09T12:07:12.863288",
     "status": "completed"
    },
    "tags": []
   },
   "outputs": [
    {
     "name": "stdout",
     "output_type": "stream",
     "text": [
      " 3    3    4    5    5    3    9    7    6   "
     ]
    },
    {
     "data": {
      "image/png": "[encoded data removed]",
      "text/plain": [
       "<Figure size 432x288 with 9 Axes>"
      ]
     },
     "metadata": {},
     "output_type": "display_data"
    }
   ],
   "source": [
    "#Mistakes\n",
    "for i,value in enumerate(wrongs[:9]):\n",
    "    plt.subplot(1,9,i+1, xticks=[], yticks=[])\n",
    "    print(f' {test_set_preds[value].item()}' , end=\"   \")\n",
    "    plt.imshow(test_images[value].squeeze(), cmap=plt.get_cmap('gray'))\n",
    "plt.show()\n"
   ]
  }
 ],
 "metadata": {
  "kernelspec": {
   "display_name": "Python 3 (ipykernel)",
   "language": "python",
   "name": "python3"
  },
  "language_info": {
   "codemirror_mode": {
    "name": "ipython",
    "version": 3
   },
   "file_extension": ".py",
   "mimetype": "text/x-python",
   "name": "python",
   "nbconvert_exporter": "python",
   "pygments_lexer": "ipython3",
   "version": "3.9.6"
  },
  "papermill": {
   "default_parameters": {},
   "duration": 306.418504,
   "end_time": "2022-05-09T12:07:15.167891",
   "environment_variables": {},
   "exception": null,
   "input_path": "__notebook__.ipynb",
   "output_path": "__notebook__.ipynb",
   "parameters": {},
   "start_time": "2022-05-09T12:02:08.749387",
   "version": "2.3.4"
  }
 },
 "nbformat": 4,
 "nbformat_minor": 5
}
