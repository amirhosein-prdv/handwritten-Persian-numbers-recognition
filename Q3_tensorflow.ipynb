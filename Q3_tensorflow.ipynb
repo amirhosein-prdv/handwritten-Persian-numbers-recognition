{
 "cells": [
  {
   "cell_type": "markdown",
   "id": "7f5c583d",
   "metadata": {},
   "source": [
    "## Add Library"
   ]
  },
  {
   "cell_type": "code",
   "execution_count": 1,
   "id": "4e84d566",
   "metadata": {
    "_cell_guid": "b1076dfc-b9ad-4769-8c92-a6c4dae69d19",
    "_uuid": "8f2839f25d086af736a60e9eeb907d3b93b6e0e5",
    "execution": {
     "iopub.execute_input": "2022-11-19T18:12:16.774311Z",
     "iopub.status.busy": "2022-11-19T18:12:16.773854Z",
     "iopub.status.idle": "2022-11-19T18:12:23.055918Z",
     "shell.execute_reply": "2022-11-19T18:12:23.054935Z"
    },
    "papermill": {
     "duration": 6.292464,
     "end_time": "2022-11-19T18:12:23.058352",
     "exception": false,
     "start_time": "2022-11-19T18:12:16.765888",
     "status": "completed"
    },
    "tags": []
   },
   "outputs": [],
   "source": [
    "import tensorflow as tf\n",
    "from tensorflow.keras.models import Sequential\n",
    "from tensorflow.keras.callbacks import TensorBoard, ModelCheckpoint, EarlyStopping\n",
    "from tensorflow.keras.layers import Input, Dense, Dropout, Activation, Flatten, Conv2D, MaxPooling2D, BatchNormalization\n",
    "from tensorflow.keras.utils import to_categorical\n",
    "from tensorflow.keras.optimizers import SGD, Adam, Adadelta\n",
    "\n",
    "from sklearn.metrics import confusion_matrix, f1_score, precision_score, recall_score\n",
    "\n",
    "\n",
    "import matplotlib.pyplot as plt\n",
    "import numpy as np\n",
    "import pandas as pd \n",
    "import os\n",
    "import cv2\n",
    "import pickle\n",
    "import random \n",
    "import time\n",
    "import zipfile\n",
    "from shutil import copyfile\n",
    "from sklearn.model_selection import train_test_split"
   ]
  },
  {
   "cell_type": "markdown",
   "id": "9054a949",
   "metadata": {},
   "source": [
    "## Add dataset"
   ]
  },
  {
   "cell_type": "markdown",
   "id": "dc499e1b",
   "metadata": {},
   "source": [
    "### Read HODA Dataset"
   ]
  },
  {
   "cell_type": "code",
   "execution_count": 2,
   "id": "5aac56be",
   "metadata": {
    "execution": {
     "iopub.execute_input": "2022-11-19T18:12:23.070047Z",
     "iopub.status.busy": "2022-11-19T18:12:23.069081Z",
     "iopub.status.idle": "2022-11-19T18:12:23.093265Z",
     "shell.execute_reply": "2022-11-19T18:12:23.092328Z"
    },
    "papermill": {
     "duration": 0.032222,
     "end_time": "2022-11-19T18:12:23.095340",
     "exception": false,
     "start_time": "2022-11-19T18:12:23.063118",
     "status": "completed"
    },
    "tags": []
   },
   "outputs": [],
   "source": [
    "# Hoda Dataset Reader\n",
    "\n",
    "import struct\n",
    "import numpy as np\n",
    "import cv2\n",
    "\n",
    "\n",
    "def __convert_to_one_hot(vector, num_classes):\n",
    "    result = np.zeros(shape=[len(vector), num_classes])\n",
    "    result[np.arange(len(vector)), vector] = 1\n",
    "    return result\n",
    "\n",
    "\n",
    "def __resize_image(src_image, dst_image_height, dst_image_width):\n",
    "    src_image_height = src_image.shape[0]\n",
    "    src_image_width = src_image.shape[1]\n",
    "\n",
    "    if src_image_height > dst_image_height or src_image_width > dst_image_width:\n",
    "        height_scale = dst_image_height / src_image_height\n",
    "        width_scale = dst_image_width / src_image_width\n",
    "        scale = min(height_scale, width_scale)\n",
    "        img = cv2.resize(src=src_image, dsize=(0, 0), fx=scale, fy=scale, interpolation=cv2.INTER_CUBIC)\n",
    "    else:\n",
    "        img = src_image\n",
    "\n",
    "    img_height = img.shape[0]\n",
    "    img_width = img.shape[1]\n",
    "\n",
    "    dst_image = np.zeros(shape=[dst_image_height, dst_image_width], dtype=np.uint8)\n",
    "\n",
    "    y_offset = (dst_image_height - img_height) // 2\n",
    "    x_offset = (dst_image_width - img_width) // 2\n",
    "\n",
    "    dst_image[y_offset:y_offset+img_height, x_offset:x_offset+img_width] = img\n",
    "\n",
    "    return dst_image\n",
    "\n",
    "\n",
    "def read_hoda_cdb(file_name):\n",
    "    with open(file_name, 'rb') as binary_file:\n",
    "\n",
    "        data = binary_file.read()\n",
    "\n",
    "        offset = 0\n",
    "\n",
    "        # read private header\n",
    "\n",
    "        yy = struct.unpack_from('H', data, offset)[0]\n",
    "        offset += 2\n",
    "\n",
    "        m = struct.unpack_from('B', data, offset)[0]\n",
    "        offset += 1\n",
    "\n",
    "        d = struct.unpack_from('B', data, offset)[0]\n",
    "        offset += 1\n",
    "\n",
    "        H = struct.unpack_from('B', data, offset)[0]\n",
    "        offset += 1\n",
    "\n",
    "        W = struct.unpack_from('B', data, offset)[0]\n",
    "        offset += 1\n",
    "\n",
    "        TotalRec = struct.unpack_from('I', data, offset)[0]\n",
    "        offset += 4\n",
    "\n",
    "        LetterCount = struct.unpack_from('128I', data, offset)\n",
    "        offset += 128 * 4\n",
    "\n",
    "        imgType = struct.unpack_from('B', data, offset)[0]  # 0: binary, 1: gray\n",
    "        offset += 1\n",
    "\n",
    "        Comments = struct.unpack_from('256c', data, offset)\n",
    "        offset += 256 * 1\n",
    "\n",
    "        Reserved = struct.unpack_from('245c', data, offset)\n",
    "        offset += 245 * 1\n",
    "\n",
    "        if (W > 0) and (H > 0):\n",
    "            normal = True\n",
    "        else:\n",
    "            normal = False\n",
    "\n",
    "        images = []\n",
    "        labels = []\n",
    "\n",
    "        for i in range(TotalRec):\n",
    "\n",
    "            StartByte = struct.unpack_from('B', data, offset)[0]  # must be 0xff\n",
    "            offset += 1\n",
    "\n",
    "            label = struct.unpack_from('B', data, offset)[0]\n",
    "            offset += 1\n",
    "\n",
    "            if not normal:\n",
    "                W = struct.unpack_from('B', data, offset)[0]\n",
    "                offset += 1\n",
    "\n",
    "                H = struct.unpack_from('B', data, offset)[0]\n",
    "                offset += 1\n",
    "\n",
    "            ByteCount = struct.unpack_from('H', data, offset)[0]\n",
    "            offset += 2\n",
    "\n",
    "            image = np.zeros(shape=[H, W], dtype=np.uint8)\n",
    "\n",
    "            if imgType == 0:\n",
    "                # Binary\n",
    "                for y in range(H):\n",
    "                    bWhite = True\n",
    "                    counter = 0\n",
    "                    while counter < W:\n",
    "                        WBcount = struct.unpack_from('B', data, offset)[0]\n",
    "                        offset += 1\n",
    "                        # x = 0\n",
    "                        # while x < WBcount:\n",
    "                        #     if bWhite:\n",
    "                        #         image[y, x + counter] = 0  # Background\n",
    "                        #     else:\n",
    "                        #         image[y, x + counter] = 255  # ForeGround\n",
    "                        #     x += 1\n",
    "                        if bWhite:\n",
    "                            image[y, counter:counter + WBcount] = 0  # Background\n",
    "                        else:\n",
    "                            image[y, counter:counter + WBcount] = 255  # ForeGround\n",
    "                        bWhite = not bWhite  # black white black white ...\n",
    "                        counter += WBcount\n",
    "            else:\n",
    "                # GrayScale mode\n",
    "                data = struct.unpack_from('{}B'.format(W * H), data, offset)\n",
    "                offset += W * H\n",
    "                image = np.asarray(data, dtype=np.uint8).reshape([W, H]).T\n",
    "\n",
    "            images.append(image)\n",
    "            labels.append(label)\n",
    "\n",
    "        return images, labels\n",
    "\n",
    "\n",
    "def read_hoda_dataset(dataset_path, images_height=32, images_width=32, one_hot=False, reshape=True):\n",
    "    images, labels = read_hoda_cdb(dataset_path)\n",
    "    assert len(images) == len(labels)\n",
    "\n",
    "    X = np.zeros(shape=[len(images), images_height, images_width], dtype=np.float32)\n",
    "    Y = np.zeros(shape=[len(labels)], dtype=int)\n",
    "\n",
    "    for i in range(len(images)):\n",
    "        image = images[i]\n",
    "        # Image resizing.\n",
    "        image = __resize_image(src_image=image, dst_image_height=images_height, dst_image_width=images_width)\n",
    "        # Image normalization.\n",
    "        image = image / 255\n",
    "        # Image binarization.\n",
    "        image = np.where(image >= 0.5, 1, 0)\n",
    "        # Image.\n",
    "        X[i] = image\n",
    "        # Label.\n",
    "        Y[i] = labels[i]\n",
    "\n",
    "    if one_hot:\n",
    "        Y = __convert_to_one_hot(Y, 10).astype(dtype=np.float32)\n",
    "    else:\n",
    "        Y = Y.astype(dtype=np.float32)\n",
    "\n",
    "    if reshape:\n",
    "        X = X.reshape(-1, images_height * images_width)\n",
    "    else:\n",
    "        X = X.reshape(-1, images_height, images_width, 1)\n",
    "\n",
    "    return X, Y"
   ]
  },
  {
   "cell_type": "code",
   "execution_count": 3,
   "id": "c6fa03c2",
   "metadata": {},
   "outputs": [],
   "source": [
    "dataset_path = \"D:\\\\learning\\\\EE Courses\\\\Neural Network (D. Kalhor)\\\\HW\\\\HW Extra\\\\handwritten-Persian-numbers-recognition\\\\Data\\\\Hoda Dataset\\\\\"\n",
    "# size of images\n",
    "image_size = 40"
   ]
  },
  {
   "cell_type": "markdown",
   "id": "1d1bf44c",
   "metadata": {},
   "source": [
    "### Load trainand test dataset"
   ]
  },
  {
   "cell_type": "code",
   "execution_count": 4,
   "id": "ebe775c8",
   "metadata": {},
   "outputs": [],
   "source": [
    "# load train images\n",
    "train_images, train_labels = read_hoda_dataset(dataset_path=dataset_path+\"Train 60000.cdb\",\n",
    "                                images_height=image_size,\n",
    "                                images_width=image_size,\n",
    "                                one_hot=False,\n",
    "                                reshape=True)"
   ]
  },
  {
   "cell_type": "code",
   "execution_count": 5,
   "id": "580b326e",
   "metadata": {},
   "outputs": [],
   "source": [
    "# load test images\n",
    "X_test, y_test = read_hoda_dataset(dataset_path=dataset_path+\"Test 20000.cdb\",\n",
    "                                images_height=image_size,\n",
    "                                images_width=image_size,\n",
    "                                one_hot=False,\n",
    "                                reshape=True)"
   ]
  },
  {
   "cell_type": "code",
   "execution_count": 6,
   "id": "00e1b2be",
   "metadata": {},
   "outputs": [],
   "source": [
    "# make val dataset\n",
    "test_images, val_images, test_labels, val_labels = train_test_split(\n",
    "    X_test.astype(np.float32), y_test, test_size=0.5, random_state=1234)"
   ]
  },
  {
   "cell_type": "code",
   "execution_count": 7,
   "id": "e2e221c8",
   "metadata": {},
   "outputs": [
    {
     "name": "stdout",
     "output_type": "stream",
     "text": [
      "(60000, 1600)\n",
      "(10000, 1600)\n",
      "(10000, 1600)\n"
     ]
    }
   ],
   "source": [
    "# shape of train, test and validation dataset respectively\n",
    "print(train_images.shape)\n",
    "print(test_images.shape)\n",
    "print(val_images.shape)"
   ]
  },
  {
   "cell_type": "code",
   "execution_count": 8,
   "id": "15663acb",
   "metadata": {},
   "outputs": [],
   "source": [
    "# reshape images to the required size \n",
    "train_images = train_images.reshape(train_images.shape[0], image_size, image_size)\n",
    "val_images = val_images.reshape(val_images.shape[0], image_size, image_size)\n",
    "test_images = test_images.reshape(test_images.shape[0], image_size, image_size)"
   ]
  },
  {
   "cell_type": "code",
   "execution_count": 9,
   "id": "9994e2ef",
   "metadata": {},
   "outputs": [
    {
     "name": "stdout",
     "output_type": "stream",
     "text": [
      "(60000, 40, 40)\n"
     ]
    }
   ],
   "source": [
    "# shape of sample respectively\n",
    "print(train_images.shape)"
   ]
  },
  {
   "cell_type": "markdown",
   "id": "efc6dc06",
   "metadata": {},
   "source": [
    "### Show dataset sample"
   ]
  },
  {
   "cell_type": "code",
   "execution_count": 10,
   "id": "ed9bd58e",
   "metadata": {
    "scrolled": true
   },
   "outputs": [
    {
     "data": {
      "image/png": "[encoded data removed]",
      "text/plain": [
       "<Figure size 432x288 with 3 Axes>"
      ]
     },
     "metadata": {
      "needs_background": "light"
     },
     "output_type": "display_data"
    }
   ],
   "source": [
    "#train samples\n",
    "for i in range(6, 9):\n",
    "    plt.subplot(330 + (i+1))\n",
    "    plt.imshow(train_images[i].squeeze(), cmap=plt.get_cmap('gray'))\n",
    "    plt.title(train_labels[i])"
   ]
  },
  {
   "cell_type": "code",
   "execution_count": 11,
   "id": "ecf2f6e4",
   "metadata": {},
   "outputs": [
    {
     "data": {
      "image/png": "[encoded data removed]",
      "text/plain": [
       "<Figure size 432x288 with 3 Axes>"
      ]
     },
     "metadata": {
      "needs_background": "light"
     },
     "output_type": "display_data"
    }
   ],
   "source": [
    "#test samples\n",
    "for i in range(6, 9):\n",
    "    plt.subplot(330 + (i+1))\n",
    "    plt.imshow(test_images[i].squeeze(), cmap=plt.get_cmap('gray'))\n",
    "    plt.title(test_labels[i])"
   ]
  },
  {
   "cell_type": "code",
   "execution_count": 12,
   "id": "fe614024",
   "metadata": {
    "scrolled": true
   },
   "outputs": [
    {
     "data": {
      "image/png": "[encoded data removed]",
      "text/plain": [
       "<Figure size 432x288 with 3 Axes>"
      ]
     },
     "metadata": {
      "needs_background": "light"
     },
     "output_type": "display_data"
    }
   ],
   "source": [
    "#val samples\n",
    "for i in range(6, 9):\n",
    "    plt.subplot(330 + (i+1))\n",
    "    plt.imshow(val_images[i].squeeze(), cmap=plt.get_cmap('gray'))\n",
    "    plt.title(val_labels[i])"
   ]
  },
  {
   "cell_type": "markdown",
   "id": "0c1ae316",
   "metadata": {
    "papermill": {
     "duration": 0.004535,
     "end_time": "2022-11-19T18:12:32.549123",
     "exception": false,
     "start_time": "2022-11-19T18:12:32.544588",
     "status": "completed"
    },
    "tags": []
   },
   "source": [
    "## Preprocessing data"
   ]
  },
  {
   "cell_type": "code",
   "execution_count": 13,
   "id": "8739ecbb",
   "metadata": {
    "execution": {
     "iopub.execute_input": "2022-11-19T18:12:32.559931Z",
     "iopub.status.busy": "2022-11-19T18:12:32.559384Z",
     "iopub.status.idle": "2022-11-19T18:12:32.566588Z",
     "shell.execute_reply": "2022-11-19T18:12:32.565769Z"
    },
    "papermill": {
     "duration": 0.014836,
     "end_time": "2022-11-19T18:12:32.568577",
     "exception": false,
     "start_time": "2022-11-19T18:12:32.553741",
     "status": "completed"
    },
    "tags": []
   },
   "outputs": [],
   "source": [
    "def preprocess_data(X_train, y_train, X_test, y_test, X_val, y_val):\n",
    "    \n",
    "    # reshape images to the required size \n",
    "    X_train = X_train.reshape(X_train.shape[0], X_train.shape[1], X_train.shape[2], 1)\n",
    "    X_test = X_test.reshape(X_test.shape[0], X_test.shape[1], X_test.shape[2], 1)\n",
    "    X_val = X_val.reshape(X_val.shape[0], X_val.shape[1], X_val.shape[2], 1)\n",
    "\n",
    "    \n",
    "    \n",
    "    # convert image values from integers to floats\n",
    "    X_train = X_train.astype('float32')\n",
    "    X_test = X_test.astype('float32')\n",
    "    X_val = X_val.astype('float32')\n",
    "\n",
    "\n",
    "\n",
    "    # normalization \n",
    "#     X_train = X_train/255.0\n",
    "#     X_test = X_test/255.0\n",
    "#     X_test = X_val/255.0\n",
    "    \n",
    "    \n",
    "    # One-hot encoding label \n",
    "    y_train = to_categorical(y_train)\n",
    "    y_test = to_categorical(y_test)\n",
    "    y_val = to_categorical(y_val)\n",
    "\n",
    "\n",
    "    return X_train, y_train, X_test, y_test, X_val, y_val"
   ]
  },
  {
   "cell_type": "markdown",
   "id": "d0b5b786",
   "metadata": {
    "papermill": {
     "duration": 0.004461,
     "end_time": "2022-11-19T18:12:32.577642",
     "exception": false,
     "start_time": "2022-11-19T18:12:32.573181",
     "status": "completed"
    },
    "tags": []
   },
   "source": [
    "## Define Model"
   ]
  },
  {
   "cell_type": "code",
   "execution_count": 14,
   "id": "5b590ac0",
   "metadata": {
    "execution": {
     "iopub.execute_input": "2022-11-19T18:12:32.589672Z",
     "iopub.status.busy": "2022-11-19T18:12:32.588897Z",
     "iopub.status.idle": "2022-11-19T18:12:32.596806Z",
     "shell.execute_reply": "2022-11-19T18:12:32.595961Z"
    },
    "papermill": {
     "duration": 0.016165,
     "end_time": "2022-11-19T18:12:32.598750",
     "exception": false,
     "start_time": "2022-11-19T18:12:32.582585",
     "status": "completed"
    },
    "tags": []
   },
   "outputs": [],
   "source": [
    "def DCNN():\n",
    "    model = Sequential()\n",
    "    \n",
    "    # Input layer\n",
    "    model.add(Input(shape=(image_size, image_size,1)))\n",
    "    \n",
    "    # Convolutional Block 1\n",
    "    model.add(Conv2D(64, (3,3), strides=1, padding='same'))\n",
    "    model.add(Activation('relu'))\n",
    "    model.add(BatchNormalization())\n",
    "    model.add(MaxPooling2D(pool_size=(3,3), strides=2))\n",
    "    model.add(Dropout(0.1))\n",
    "\n",
    "    # Convolutional Block 2\n",
    "    model.add(Conv2D(128, (3,3), strides=1, padding='same'))\n",
    "    model.add(Activation('relu'))\n",
    "    model.add(BatchNormalization())\n",
    "    model.add(Conv2D(128, (3,3), strides=1, padding='same'))\n",
    "    model.add(Activation('relu'))\n",
    "    model.add(BatchNormalization())\n",
    "    model.add(MaxPooling2D(pool_size=(3,3), strides=2))\n",
    "    model.add(Dropout(0.2))\n",
    "    \n",
    "    # Convolutional Block 3\n",
    "    model.add(Conv2D(256, (3,3), strides=1, padding='same'))\n",
    "    model.add(Activation('relu'))\n",
    "    model.add(BatchNormalization())\n",
    "    model.add(Conv2D(256, (3,3), strides=1, padding='same'))\n",
    "    model.add(Activation('relu'))\n",
    "    model.add(BatchNormalization())\n",
    "    model.add(MaxPooling2D(pool_size=(3,3), strides=2))\n",
    "    model.add(Dropout(0.3))\n",
    "    \n",
    "    # Convolutional Block 4\n",
    "    model.add(Conv2D(512, (3,3), strides=1, padding='same'))\n",
    "    model.add(Activation('relu'))\n",
    "    model.add(BatchNormalization())\n",
    "    model.add(Conv2D(512, (3,3), strides=1, padding='same'))\n",
    "    model.add(Activation('relu'))\n",
    "    model.add(BatchNormalization())\n",
    "    model.add(MaxPooling2D(pool_size=(3,3), strides=2))\n",
    "    model.add(Dropout(0.4))\n",
    "\n",
    "    # Classification Block \n",
    "    model.add(Flatten())\n",
    "    model.add(Dense(1024, activation='relu'))  \n",
    "    model.add(BatchNormalization())\n",
    "    model.add(Dropout(0.5))\n",
    "    \n",
    "    # The output layer\n",
    "    model.add(Dense(10, activation='softmax'))  \n",
    "    \n",
    "    \n",
    "    # Optimizer\n",
    "    \n",
    "    opt = SGD(momentum=0.9) # Momentum optimizer\n",
    "#     opt = Adam() # Adam optimizer\n",
    "#     opt = Adadelta() # Adadelta optimizer\n",
    "\n",
    "\n",
    "    model.compile(loss = 'categorical_crossentropy', \n",
    "                    optimizer = opt, \n",
    "                    metrics = ['accuracy']) \n",
    "    return model\n",
    "\n",
    "optimization = 'Adam'"
   ]
  },
  {
   "cell_type": "code",
   "execution_count": 15,
   "id": "9d509d5b",
   "metadata": {
    "execution": {
     "iopub.execute_input": "2022-11-19T18:12:32.609903Z",
     "iopub.status.busy": "2022-11-19T18:12:32.609099Z",
     "iopub.status.idle": "2022-11-19T18:12:35.553949Z",
     "shell.execute_reply": "2022-11-19T18:12:35.552768Z"
    },
    "papermill": {
     "duration": 2.952509,
     "end_time": "2022-11-19T18:12:35.556035",
     "exception": false,
     "start_time": "2022-11-19T18:12:32.603526",
     "status": "completed"
    },
    "tags": []
   },
   "outputs": [
    {
     "name": "stdout",
     "output_type": "stream",
     "text": [
      "Model: \"sequential\"\n",
      "_________________________________________________________________\n",
      "Layer (type)                 Output Shape              Param #   \n",
      "=================================================================\n",
      "conv2d (Conv2D)              (None, 40, 40, 64)        640       \n",
      "_________________________________________________________________\n",
      "activation (Activation)      (None, 40, 40, 64)        0         \n",
      "_________________________________________________________________\n",
      "batch_normalization (BatchNo (None, 40, 40, 64)        256       \n",
      "_________________________________________________________________\n",
      "max_pooling2d (MaxPooling2D) (None, 19, 19, 64)        0         \n",
      "_________________________________________________________________\n",
      "dropout (Dropout)            (None, 19, 19, 64)        0         \n",
      "_________________________________________________________________\n",
      "conv2d_1 (Conv2D)            (None, 19, 19, 128)       73856     \n",
      "_________________________________________________________________\n",
      "activation_1 (Activation)    (None, 19, 19, 128)       0         \n",
      "_________________________________________________________________\n",
      "batch_normalization_1 (Batch (None, 19, 19, 128)       512       \n",
      "_________________________________________________________________\n",
      "conv2d_2 (Conv2D)            (None, 19, 19, 128)       147584    \n",
      "_________________________________________________________________\n",
      "activation_2 (Activation)    (None, 19, 19, 128)       0         \n",
      "_________________________________________________________________\n",
      "batch_normalization_2 (Batch (None, 19, 19, 128)       512       \n",
      "_________________________________________________________________\n",
      "max_pooling2d_1 (MaxPooling2 (None, 9, 9, 128)         0         \n",
      "_________________________________________________________________\n",
      "dropout_1 (Dropout)          (None, 9, 9, 128)         0         \n",
      "_________________________________________________________________\n",
      "conv2d_3 (Conv2D)            (None, 9, 9, 256)         295168    \n",
      "_________________________________________________________________\n",
      "activation_3 (Activation)    (None, 9, 9, 256)         0         \n",
      "_________________________________________________________________\n",
      "batch_normalization_3 (Batch (None, 9, 9, 256)         1024      \n",
      "_________________________________________________________________\n",
      "conv2d_4 (Conv2D)            (None, 9, 9, 256)         590080    \n",
      "_________________________________________________________________\n",
      "activation_4 (Activation)    (None, 9, 9, 256)         0         \n",
      "_________________________________________________________________\n",
      "batch_normalization_4 (Batch (None, 9, 9, 256)         1024      \n",
      "_________________________________________________________________\n",
      "max_pooling2d_2 (MaxPooling2 (None, 4, 4, 256)         0         \n",
      "_________________________________________________________________\n",
      "dropout_2 (Dropout)          (None, 4, 4, 256)         0         \n",
      "_________________________________________________________________\n",
      "conv2d_5 (Conv2D)            (None, 4, 4, 512)         1180160   \n",
      "_________________________________________________________________\n",
      "activation_5 (Activation)    (None, 4, 4, 512)         0         \n",
      "_________________________________________________________________\n",
      "batch_normalization_5 (Batch (None, 4, 4, 512)         2048      \n",
      "_________________________________________________________________\n",
      "conv2d_6 (Conv2D)            (None, 4, 4, 512)         2359808   \n",
      "_________________________________________________________________\n",
      "activation_6 (Activation)    (None, 4, 4, 512)         0         \n",
      "_________________________________________________________________\n",
      "batch_normalization_6 (Batch (None, 4, 4, 512)         2048      \n",
      "_________________________________________________________________\n",
      "max_pooling2d_3 (MaxPooling2 (None, 1, 1, 512)         0         \n",
      "_________________________________________________________________\n",
      "dropout_3 (Dropout)          (None, 1, 1, 512)         0         \n",
      "_________________________________________________________________\n",
      "flatten (Flatten)            (None, 512)               0         \n",
      "_________________________________________________________________\n",
      "dense (Dense)                (None, 1024)              525312    \n",
      "_________________________________________________________________\n",
      "batch_normalization_7 (Batch (None, 1024)              4096      \n",
      "_________________________________________________________________\n",
      "dropout_4 (Dropout)          (None, 1024)              0         \n",
      "_________________________________________________________________\n",
      "dense_1 (Dense)              (None, 10)                10250     \n",
      "=================================================================\n",
      "Total params: 5,194,378\n",
      "Trainable params: 5,188,618\n",
      "Non-trainable params: 5,760\n",
      "_________________________________________________________________\n"
     ]
    }
   ],
   "source": [
    "DCNN_model = DCNN()\n",
    "DCNN_model.summary()"
   ]
  },
  {
   "cell_type": "markdown",
   "id": "82735c1b",
   "metadata": {
    "papermill": {
     "duration": 0.005199,
     "end_time": "2022-11-19T18:12:35.566411",
     "exception": false,
     "start_time": "2022-11-19T18:12:35.561212",
     "status": "completed"
    },
    "tags": []
   },
   "source": [
    "## Training model"
   ]
  },
  {
   "cell_type": "code",
   "execution_count": 16,
   "id": "e520adea",
   "metadata": {
    "execution": {
     "iopub.execute_input": "2022-11-19T18:12:35.577395Z",
     "iopub.status.busy": "2022-11-19T18:12:35.577107Z",
     "iopub.status.idle": "2022-11-19T18:12:35.586019Z",
     "shell.execute_reply": "2022-11-19T18:12:35.585160Z"
    },
    "papermill": {
     "duration": 0.016642,
     "end_time": "2022-11-19T18:12:35.588008",
     "exception": false,
     "start_time": "2022-11-19T18:12:35.571366",
     "status": "completed"
    },
    "tags": []
   },
   "outputs": [],
   "source": [
    "def train_model(model, X_train, y_train, X_test, y_test, X_val, y_val, epochs = 50, batch_size = 64):\n",
    "    \n",
    "    # Preprocess all training and testing data\n",
    "    X_train, y_train, X_test, y_test, X_val, y_val= preprocess_data(X_train, y_train,\n",
    "                                                                  X_test, y_test, \n",
    "                                                                  X_val, y_val)\n",
    "\n",
    "    # Callbacks\n",
    "    tensorboard_callback = TensorBoard(log_dir=f\"./logs_{optimization}\")\n",
    "    model_checkpoint_callback = ModelCheckpoint(filepath=f\"./checkpoint_{optimization}\",\n",
    "                                                verbose=1, \n",
    "                                                save_best_only=True,\n",
    "#                                                 save_weights_only=True, \n",
    "                                                monitor='val_accuracy', \n",
    "                                                mode='max'\n",
    "                                               )\n",
    "    earlyStopping_callback = EarlyStopping(monitor='val_accuracy', patience=5, verbose=1, mode='max',)\n",
    "    \n",
    "    # Fitting the model on the training set\n",
    "    history = model.fit(X_train, y_train, \n",
    "                        epochs = epochs, \n",
    "                        batch_size = batch_size, \n",
    "                        steps_per_epoch = X_train.shape[0]//batch_size,\n",
    "                        validation_data = (X_val,y_val), \n",
    "                        callbacks = [tensorboard_callback, model_checkpoint_callback, earlyStopping_callback]\n",
    "                       )\n",
    "    \n",
    "    \n",
    "    # evaluating the model\n",
    "    print(\"\\n\\nmodel evaluation :\")\n",
    "    _, acc = model.evaluate(X_val, y_val, verbose = 1)\n",
    "    print('validation accuracy : %.3f' % (acc * 100.0))\n",
    "    \n",
    "    return history"
   ]
  },
  {
   "cell_type": "code",
   "execution_count": 17,
   "id": "9064c0bb",
   "metadata": {
    "execution": {
     "iopub.execute_input": "2022-11-19T18:12:35.599117Z",
     "iopub.status.busy": "2022-11-19T18:12:35.598849Z",
     "iopub.status.idle": "2022-11-19T18:13:47.089018Z",
     "shell.execute_reply": "2022-11-19T18:13:47.088132Z"
    },
    "papermill": {
     "duration": 71.497949,
     "end_time": "2022-11-19T18:13:47.091117",
     "exception": false,
     "start_time": "2022-11-19T18:12:35.593168",
     "status": "completed"
    },
    "scrolled": false,
    "tags": []
   },
   "outputs": [
    {
     "name": "stdout",
     "output_type": "stream",
     "text": [
      "Epoch 1/50\n",
      "937/937 [==============================] - 33s 32ms/step - loss: 0.1406 - accuracy: 0.9586 - val_loss: 0.0593 - val_accuracy: 0.9831\n",
      "\n",
      "Epoch 00001: val_accuracy improved from -inf to 0.98310, saving model to .\\checkpoint_Adam\n",
      "INFO:tensorflow:Assets written to: .\\checkpoint_Adam\\assets\n",
      "Epoch 2/50\n",
      "937/937 [==============================] - 30s 31ms/step - loss: 0.0356 - accuracy: 0.9898 - val_loss: 0.0381 - val_accuracy: 0.9887\n",
      "\n",
      "Epoch 00002: val_accuracy improved from 0.98310 to 0.98870, saving model to .\\checkpoint_Adam\n",
      "INFO:tensorflow:Assets written to: .\\checkpoint_Adam\\assets\n",
      "Epoch 3/50\n",
      "937/937 [==============================] - 29s 31ms/step - loss: 0.0234 - accuracy: 0.9928 - val_loss: 0.0243 - val_accuracy: 0.9933\n",
      "\n",
      "Epoch 00003: val_accuracy improved from 0.98870 to 0.99330, saving model to .\\checkpoint_Adam\n",
      "INFO:tensorflow:Assets written to: .\\checkpoint_Adam\\assets\n",
      "Epoch 4/50\n",
      "937/937 [==============================] - 29s 31ms/step - loss: 0.0191 - accuracy: 0.9940 - val_loss: 0.0416 - val_accuracy: 0.9881\n",
      "\n",
      "Epoch 00004: val_accuracy did not improve from 0.99330\n",
      "Epoch 5/50\n",
      "937/937 [==============================] - 29s 31ms/step - loss: 0.0156 - accuracy: 0.9953 - val_loss: 0.0414 - val_accuracy: 0.9908\n",
      "\n",
      "Epoch 00005: val_accuracy did not improve from 0.99330\n",
      "Epoch 6/50\n",
      "937/937 [==============================] - 29s 31ms/step - loss: 0.0118 - accuracy: 0.9963 - val_loss: 0.0257 - val_accuracy: 0.9929\n",
      "\n",
      "Epoch 00006: val_accuracy did not improve from 0.99330\n",
      "Epoch 7/50\n",
      "937/937 [==============================] - 29s 31ms/step - loss: 0.0093 - accuracy: 0.9971 - val_loss: 0.0217 - val_accuracy: 0.9943\n",
      "\n",
      "Epoch 00007: val_accuracy improved from 0.99330 to 0.99430, saving model to .\\checkpoint_Adam\n",
      "INFO:tensorflow:Assets written to: .\\checkpoint_Adam\\assets\n",
      "Epoch 8/50\n",
      "937/937 [==============================] - 29s 31ms/step - loss: 0.0097 - accuracy: 0.9971 - val_loss: 0.0159 - val_accuracy: 0.9958\n",
      "\n",
      "Epoch 00008: val_accuracy improved from 0.99430 to 0.99580, saving model to .\\checkpoint_Adam\n",
      "INFO:tensorflow:Assets written to: .\\checkpoint_Adam\\assets\n",
      "Epoch 9/50\n",
      "937/937 [==============================] - 29s 31ms/step - loss: 0.0074 - accuracy: 0.9975 - val_loss: 0.0193 - val_accuracy: 0.9949\n",
      "\n",
      "Epoch 00009: val_accuracy did not improve from 0.99580\n",
      "Epoch 10/50\n",
      "937/937 [==============================] - 29s 31ms/step - loss: 0.0071 - accuracy: 0.9979 - val_loss: 0.0201 - val_accuracy: 0.9946\n",
      "\n",
      "Epoch 00010: val_accuracy did not improve from 0.99580\n",
      "Epoch 11/50\n",
      "937/937 [==============================] - 29s 31ms/step - loss: 0.0060 - accuracy: 0.9980 - val_loss: 0.0274 - val_accuracy: 0.9930\n",
      "\n",
      "Epoch 00011: val_accuracy did not improve from 0.99580\n",
      "Epoch 12/50\n",
      "937/937 [==============================] - 29s 31ms/step - loss: 0.0065 - accuracy: 0.9981 - val_loss: 0.0191 - val_accuracy: 0.9955\n",
      "\n",
      "Epoch 00012: val_accuracy did not improve from 0.99580\n",
      "Epoch 13/50\n",
      "937/937 [==============================] - 29s 31ms/step - loss: 0.0048 - accuracy: 0.9984 - val_loss: 0.0172 - val_accuracy: 0.9962\n",
      "\n",
      "Epoch 00013: val_accuracy improved from 0.99580 to 0.99620, saving model to .\\checkpoint_Adam\n",
      "INFO:tensorflow:Assets written to: .\\checkpoint_Adam\\assets\n",
      "Epoch 14/50\n",
      "937/937 [==============================] - 29s 31ms/step - loss: 0.0051 - accuracy: 0.9983 - val_loss: 0.0223 - val_accuracy: 0.9941\n",
      "\n",
      "Epoch 00014: val_accuracy did not improve from 0.99620\n",
      "Epoch 15/50\n",
      "937/937 [==============================] - 29s 31ms/step - loss: 0.0054 - accuracy: 0.9982 - val_loss: 0.0197 - val_accuracy: 0.9957\n",
      "\n",
      "Epoch 00015: val_accuracy did not improve from 0.99620\n",
      "Epoch 16/50\n",
      "937/937 [==============================] - 29s 31ms/step - loss: 0.0038 - accuracy: 0.9987 - val_loss: 0.0197 - val_accuracy: 0.9955\n",
      "\n",
      "Epoch 00016: val_accuracy did not improve from 0.99620\n",
      "Epoch 17/50\n",
      "937/937 [==============================] - 29s 31ms/step - loss: 0.0032 - accuracy: 0.9989 - val_loss: 0.0213 - val_accuracy: 0.9954\n",
      "\n",
      "Epoch 00017: val_accuracy did not improve from 0.99620\n",
      "Epoch 18/50\n",
      "937/937 [==============================] - 29s 31ms/step - loss: 0.0030 - accuracy: 0.9989 - val_loss: 0.0244 - val_accuracy: 0.9945\n",
      "\n",
      "Epoch 00018: val_accuracy did not improve from 0.99620\n",
      "Epoch 00018: early stopping\n",
      "\n",
      "\n",
      "model evaluation :\n",
      "313/313 [==============================] - 2s 7ms/step - loss: 0.0244 - accuracy: 0.9945\n",
      "validation accuracy : 99.450\n"
     ]
    }
   ],
   "source": [
    "history = train_model(DCNN_model, train_images, train_labels, test_images, test_labels, val_images, val_labels)"
   ]
  },
  {
   "cell_type": "markdown",
   "id": "0279fb1b",
   "metadata": {},
   "source": [
    "### Plot of accuracy"
   ]
  },
  {
   "cell_type": "code",
   "execution_count": 18,
   "id": "8b29a8dc",
   "metadata": {
    "papermill": {
     "duration": 0.056951,
     "end_time": "2022-11-19T18:13:47.322487",
     "exception": false,
     "start_time": "2022-11-19T18:13:47.265536",
     "status": "completed"
    },
    "tags": []
   },
   "outputs": [
    {
     "data": {
      "image/png": "[encoded data removed]",
      "text/plain": [
       "<Figure size 720x432 with 1 Axes>"
      ]
     },
     "metadata": {
      "needs_background": "light"
     },
     "output_type": "display_data"
    }
   ],
   "source": [
    "plt.figure(figsize = (10,6))\n",
    "plt.plot(history.history['accuracy'], color = 'blue', label = 'train_acc')\n",
    "plt.plot(history.history['val_accuracy'], color = 'red', label = 'val_acc')\n",
    "plt.legend()\n",
    "plt.title('Accuracy')\n",
    "plt.show()"
   ]
  },
  {
   "cell_type": "markdown",
   "id": "18d7df88",
   "metadata": {},
   "source": [
    "### Plot of loss"
   ]
  },
  {
   "cell_type": "code",
   "execution_count": 19,
   "id": "ca263c4c",
   "metadata": {
    "scrolled": false
   },
   "outputs": [
    {
     "data": {
      "image/png": "[encoded data removed]",
      "text/plain": [
       "<Figure size 720x432 with 1 Axes>"
      ]
     },
     "metadata": {
      "needs_background": "light"
     },
     "output_type": "display_data"
    }
   ],
   "source": [
    "plt.figure(figsize = (10,6))\n",
    "plt.plot(history.history['loss'], color = 'blue', label = 'train_loss')\n",
    "plt.plot(history.history['val_loss'], color = 'red', label = 'val_loss')\n",
    "plt.legend()\n",
    "plt.title('Loss')\n",
    "plt.show()"
   ]
  },
  {
   "cell_type": "code",
   "execution_count": 20,
   "id": "d5cae897",
   "metadata": {
    "scrolled": true
   },
   "outputs": [],
   "source": [
    "with open(f'./logs_{optimization}/{optimization}.pickle', 'wb') as handle:\n",
    "    pickle.dump(history.history, handle, protocol=pickle.HIGHEST_PROTOCOL)"
   ]
  },
  {
   "cell_type": "markdown",
   "id": "26669ce4",
   "metadata": {},
   "source": [
    "## Test"
   ]
  },
  {
   "cell_type": "code",
   "execution_count": 21,
   "id": "6de67b67",
   "metadata": {},
   "outputs": [],
   "source": [
    "DCNN_model = tf.keras.models.load_model(f\"./checkpoint_{optimization}\")"
   ]
  },
  {
   "cell_type": "code",
   "execution_count": 22,
   "id": "4e4847e8",
   "metadata": {},
   "outputs": [
    {
     "name": "stdout",
     "output_type": "stream",
     "text": [
      "(20000, 40, 40, 1)\n"
     ]
    }
   ],
   "source": [
    "# load test images\n",
    "X_test, y_test = read_hoda_dataset(dataset_path=dataset_path+\"Test 20000.cdb\",\n",
    "                                images_height=image_size,\n",
    "                                images_width=image_size,\n",
    "                                one_hot=False,\n",
    "                                reshape=True)\n",
    "\n",
    "X_test = X_test.reshape(-1, image_size, image_size, 1)\n",
    "print(X_test.shape)"
   ]
  },
  {
   "cell_type": "code",
   "execution_count": 23,
   "id": "bc2adb23",
   "metadata": {},
   "outputs": [
    {
     "name": "stdout",
     "output_type": "stream",
     "text": [
      "625/625 [==============================] - 3s 5ms/step\n"
     ]
    }
   ],
   "source": [
    "y_pred = DCNN_model.predict(X_test, verbose=1)"
   ]
  },
  {
   "cell_type": "code",
   "execution_count": 24,
   "id": "9b9850ec",
   "metadata": {},
   "outputs": [],
   "source": [
    "y_pred = np.array([np.argmax(vector) for vector in (y_pred>=0.5)])"
   ]
  },
  {
   "cell_type": "markdown",
   "id": "01060b33",
   "metadata": {},
   "source": [
    "### Percision, Recall, F1 Score, Confusion matrix"
   ]
  },
  {
   "cell_type": "code",
   "execution_count": 25,
   "id": "2850dd09",
   "metadata": {
    "scrolled": true
   },
   "outputs": [
    {
     "name": "stdout",
     "output_type": "stream",
     "text": [
      "Percision Score : 0.99595\n",
      "\n",
      "Recall Score : 0.99595\n",
      "\n",
      "F1 Score : 0.99595\n",
      "\n",
      "Confusion Matrix : \n",
      "\n",
      "[[1994    0    0    0    2    4    0    0    0    0]\n",
      " [   2 1994    2    0    0    0    0    0    0    2]\n",
      " [   0    1 1981   12    5    0    0    0    0    1]\n",
      " [   0    0    5 1988    7    0    0    0    0    0]\n",
      " [   0    0    2    3 1994    1    0    0    0    0]\n",
      " [   4    0    0    0    2 1994    0    0    0    0]\n",
      " [   0    2    1    0    1    4 1987    0    0    5]\n",
      " [   1    1    1    0    0    0    1 1996    0    0]\n",
      " [   0    1    0    0    0    0    0    0 1998    1]\n",
      " [   1    5    0    0    0    1    0    0    0 1993]]\n"
     ]
    }
   ],
   "source": [
    "print('Percision Score : {}\\n'.format(precision_score(y_test, y_pred, labels=[0, 1, 2, 3, 4, 5, 6, 7, 8, 9], average='micro')))\n",
    "print('Recall Score : {}\\n'.format(recall_score(y_test, y_pred, labels=[0, 1, 2, 3, 4, 5, 6, 7, 8, 9], average='micro')))\n",
    "print('F1 Score : {}\\n'.format(f1_score(y_test, y_pred, labels=[0, 1, 2, 3, 4, 5, 6, 7, 8, 9], average='micro')))\n",
    "print('Confusion Matrix : \\n\\n{}'.format(confusion_matrix(y_test, y_pred, labels=[0, 1, 2, 3, 4, 5, 6, 7, 8, 9])))"
   ]
  },
  {
   "cell_type": "markdown",
   "id": "70cd693f",
   "metadata": {},
   "source": [
    "### Comparison between algorithms"
   ]
  },
  {
   "cell_type": "code",
   "execution_count": 39,
   "id": "7cb5dfaa",
   "metadata": {},
   "outputs": [],
   "source": [
    "with open(f'./out 1/logs_SGD/SGD.pickle', 'rb') as handle:\n",
    "    sgd_history = pickle.load(handle)\n",
    "\n",
    "with open(f'./out 1/logs_Adam/Adam.pickle', 'rb') as handle:\n",
    "    adam_history = pickle.load(handle)\n",
    "    \n",
    "with open(f'./out 1/logs_delta/delta.pickle', 'rb') as handle:\n",
    "    adadelta_history = pickle.load(handle)"
   ]
  },
  {
   "cell_type": "code",
   "execution_count": 41,
   "id": "cd2b0232",
   "metadata": {},
   "outputs": [
    {
     "data": {
      "image/png": "[encoded data removed]",
      "text/plain": [
       "<Figure size 720x432 with 1 Axes>"
      ]
     },
     "metadata": {
      "needs_background": "light"
     },
     "output_type": "display_data"
    }
   ],
   "source": [
    "plt.figure(figsize = (10,6))\n",
    "plt.plot(sgd_history['accuracy'], color = 'blue', label = 'accuracy of sgd')\n",
    "plt.plot(adadelta_history['accuracy'], color = 'red', label = 'accuracy of adadelta')\n",
    "plt.plot(adam_history['accuracy'], color = 'green', label = 'accuracy of adam')\n",
    "plt.legend()\n",
    "plt.title('Accuracy Comparison')\n",
    "plt.show()"
   ]
  },
  {
   "cell_type": "code",
   "execution_count": null,
   "id": "5783320d",
   "metadata": {},
   "outputs": [],
   "source": []
  }
 ],
 "metadata": {
  "kernelspec": {
   "display_name": "Python 3 (ipykernel)",
   "language": "python",
   "name": "python3"
  },
  "language_info": {
   "codemirror_mode": {
    "name": "ipython",
    "version": 3
   },
   "file_extension": ".py",
   "mimetype": "text/x-python",
   "name": "python",
   "nbconvert_exporter": "python",
   "pygments_lexer": "ipython3",
   "version": "3.9.6"
  },
  "papermill": {
   "default_parameters": {},
   "duration": 101.445899,
   "end_time": "2022-11-19T18:13:50.723116",
   "environment_variables": {},
   "exception": null,
   "input_path": "__notebook__.ipynb",
   "output_path": "__notebook__.ipynb",
   "parameters": {},
   "start_time": "2022-11-19T18:12:09.277217",
   "version": "2.3.4"
  },
  "vscode": {
   "interpreter": {
    "hash": "eaad02fa8db9cc5f6eaec66728a26705d1d226ad26e49b0f3a8a99320a7b4d72"
   }
  }
 },
 "nbformat": 4,
 "nbformat_minor": 5
}
