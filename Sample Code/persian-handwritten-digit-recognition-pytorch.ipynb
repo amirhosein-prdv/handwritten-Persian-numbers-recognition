{
 "cells": [
  {
   "cell_type": "markdown",
   "id": "f906e2ef",
   "metadata": {
    "_uuid": "65670791be0f9dbdabacec767b7aa930f88f57cb",
    "papermill": {
     "duration": 0.034574,
     "end_time": "2022-05-09T12:02:18.699520",
     "exception": false,
     "start_time": "2022-05-09T12:02:18.664946",
     "status": "completed"
    },
    "tags": []
   },
   "source": [
    "#### Imports"
   ]
  },
  {
   "cell_type": "code",
   "execution_count": 1,
   "id": "e53056c0",
   "metadata": {
    "execution": {
     "iopub.execute_input": "2022-05-09T12:02:18.765086Z",
     "iopub.status.busy": "2022-05-09T12:02:18.764287Z",
     "iopub.status.idle": "2022-05-09T12:02:18.820408Z",
     "shell.execute_reply": "2022-05-09T12:02:18.819482Z"
    },
    "papermill": {
     "duration": 0.092034,
     "end_time": "2022-05-09T12:02:18.823486",
     "exception": false,
     "start_time": "2022-05-09T12:02:18.731452",
     "status": "completed"
    },
    "tags": []
   },
   "outputs": [
    {
     "name": "stdout",
     "output_type": "stream",
     "text": [
      "/kaggle/input/persian-numbers/Train 60000.cdb\n",
      "/kaggle/input/persian-numbers/RemainingSamples.cdb\n",
      "/kaggle/input/persian-numbers/Test 20000.cdb\n",
      "/kaggle/input/persian-numbers/ReadCDB_VC/ReadCDB_VC.exe\n",
      "/kaggle/input/persian-numbers/ReadCDB_VC/resource.h\n",
      "/kaggle/input/persian-numbers/ReadCDB_VC/ReadCDB_VC.rc\n",
      "/kaggle/input/persian-numbers/ReadCDB_VC/stdafx.cpp\n",
      "/kaggle/input/persian-numbers/ReadCDB_VC/ReadMe.txt\n",
      "/kaggle/input/persian-numbers/ReadCDB_VC/ReadCDB_VC.cpp\n",
      "/kaggle/input/persian-numbers/ReadCDB_VC/ReadCDB_VCDlg.cpp\n",
      "/kaggle/input/persian-numbers/ReadCDB_VC/stdafx.h\n",
      "/kaggle/input/persian-numbers/ReadCDB_VC/ReadCDB_VC.sln\n",
      "/kaggle/input/persian-numbers/ReadCDB_VC/ReadCDB_VCDlg.h\n",
      "/kaggle/input/persian-numbers/ReadCDB_VC/ReadCDB_VC.vcproj\n",
      "/kaggle/input/persian-numbers/ReadCDB_VC/ReadCDB_VC.h\n",
      "/kaggle/input/persian-numbers/ReadCDB_VC/res/ReadCDB_VC.rc2\n",
      "/kaggle/input/persian-numbers/ReadCDB_VC/res/ReadCDB_VC.ico\n",
      "/kaggle/input/persian-numbers/ReadCDB_VC/res/ReadCDB_VC.manifest\n",
      "/kaggle/input/persian-numbers/ReadCDB_Matlab/ReadCDB_Matlab.m\n",
      "/kaggle/input/persian-numbers/ReadCDB_Delphi/ReadCDB-Delphi/ReadCDB_test.res\n",
      "/kaggle/input/persian-numbers/ReadCDB_Delphi/ReadCDB-Delphi/Main.dfm\n",
      "/kaggle/input/persian-numbers/ReadCDB_Delphi/ReadCDB-Delphi/Main.pas\n",
      "/kaggle/input/persian-numbers/ReadCDB_Delphi/ReadCDB-Delphi/ReadCDB.pas\n",
      "/kaggle/input/persian-numbers/ReadCDB_Delphi/ReadCDB-Delphi/ReadCDB_test.dpr\n",
      "/kaggle/input/persian-numbers/ReadCDB_Delphi/ReadCDB-Delphi/ReadCDB_test.exe\n"
     ]
    }
   ],
   "source": [
    "# This Python 3 environment comes with many helpful analytics libraries installed\n",
    "# It is defined by the kaggle/python Docker image: https://github.com/kaggle/docker-python\n",
    "# For example, here's several helpful packages to load\n",
    "\n",
    "import numpy as np # linear algebra\n",
    "import pandas as pd # data processing, CSV file I/O (e.g. pd.read_csv)\n",
    "\n",
    "# Input data files are available in the read-only \"../input/\" directory\n",
    "# For example, running this (by clicking run or pressing Shift+Enter) will list all files under the input directory\n",
    "\n",
    "import os\n",
    "for dirname, _, filenames in os.walk('/kaggle/input'):\n",
    "    for filename in filenames:\n",
    "        print(os.path.join(dirname, filename))\n",
    "\n",
    "# You can write up to 20GB to the current directory (/kaggle/working/) that gets preserved as output when you create a version using \"Save & Run All\" \n",
    "# You can also write temporary files to /kaggle/temp/, but they won't be saved outside of the current session"
   ]
  },
  {
   "cell_type": "code",
   "execution_count": 2,
   "id": "1f2e4fe9",
   "metadata": {
    "_uuid": "8b92df54d984e6e40ada9af22e0212e435dbf783",
    "execution": {
     "iopub.execute_input": "2022-05-09T12:02:18.892703Z",
     "iopub.status.busy": "2022-05-09T12:02:18.892405Z",
     "iopub.status.idle": "2022-05-09T12:02:21.954031Z",
     "shell.execute_reply": "2022-05-09T12:02:21.953164Z"
    },
    "papermill": {
     "duration": 3.099219,
     "end_time": "2022-05-09T12:02:21.956488",
     "exception": false,
     "start_time": "2022-05-09T12:02:18.857269",
     "status": "completed"
    },
    "tags": []
   },
   "outputs": [],
   "source": [
    "#pytorch utility imports\n",
    "import torch\n",
    "import torchvision\n",
    "import torchvision.transforms as transforms\n",
    "from torch.utils.data import DataLoader, TensorDataset\n",
    "from torchvision.utils import make_grid\n",
    "\n",
    "#neural net imports\n",
    "import torch.nn as nn\n",
    "import torch.nn.functional as F\n",
    "import torch.optim as optim\n",
    "from torch.autograd import Variable\n",
    "\n",
    "#import external libraries\n",
    "import matplotlib.pyplot as plt\n",
    "from sklearn.model_selection import train_test_split\n",
    "import math\n",
    "import time\n",
    "%matplotlib inline"
   ]
  },
  {
   "cell_type": "markdown",
   "id": "a27121a0",
   "metadata": {
    "_uuid": "a37121ac5ef70c0cb0899b0d8d996c40b450c826",
    "papermill": {
     "duration": 0.032122,
     "end_time": "2022-05-09T12:02:22.024578",
     "exception": false,
     "start_time": "2022-05-09T12:02:21.992456",
     "status": "completed"
    },
    "tags": []
   },
   "source": [
    "Check for CUDA"
   ]
  },
  {
   "cell_type": "code",
   "execution_count": 3,
   "id": "91f2ed55",
   "metadata": {
    "_uuid": "cc31bfe822c48ef3a7911eb3a3f62e4116f6befc",
    "execution": {
     "iopub.execute_input": "2022-05-09T12:02:22.094237Z",
     "iopub.status.busy": "2022-05-09T12:02:22.093928Z",
     "iopub.status.idle": "2022-05-09T12:02:22.170890Z",
     "shell.execute_reply": "2022-05-09T12:02:22.169962Z"
    },
    "papermill": {
     "duration": 0.114138,
     "end_time": "2022-05-09T12:02:22.173993",
     "exception": false,
     "start_time": "2022-05-09T12:02:22.059855",
     "status": "completed"
    },
    "tags": []
   },
   "outputs": [
    {
     "name": "stdout",
     "output_type": "stream",
     "text": [
      "True\n",
      "True\n",
      "cuda\n"
     ]
    }
   ],
   "source": [
    "print(torch.cuda.is_available())\n",
    "print(torch.backends.cudnn.enabled)\n",
    "\n",
    "if torch.cuda.is_available():\n",
    "    device = torch.device('cuda')\n",
    "    print(device)"
   ]
  },
  {
   "cell_type": "markdown",
   "id": "a8a25de5",
   "metadata": {
    "_uuid": "3f5ceccdfd524d9e51c2670a58449ce49e12363a",
    "papermill": {
     "duration": 0.031859,
     "end_time": "2022-05-09T12:02:22.239531",
     "exception": false,
     "start_time": "2022-05-09T12:02:22.207672",
     "status": "completed"
    },
    "tags": []
   },
   "source": [
    "#### Read inputs"
   ]
  },
  {
   "cell_type": "markdown",
   "id": "0bdaf23b",
   "metadata": {
    "_uuid": "d9dd9d5effcb7f16090ce11cfcd748ea7fc651e5",
    "papermill": {
     "duration": 0.033365,
     "end_time": "2022-05-09T12:02:22.304623",
     "exception": false,
     "start_time": "2022-05-09T12:02:22.271258",
     "status": "completed"
    },
    "tags": []
   },
   "source": [
    "#### Separate into labels and training images and reshape the images"
   ]
  },
  {
   "cell_type": "code",
   "execution_count": 4,
   "id": "a9c1834b",
   "metadata": {
    "execution": {
     "iopub.execute_input": "2022-05-09T12:02:22.371916Z",
     "iopub.status.busy": "2022-05-09T12:02:22.371680Z",
     "iopub.status.idle": "2022-05-09T12:02:22.732056Z",
     "shell.execute_reply": "2022-05-09T12:02:22.731057Z"
    },
    "papermill": {
     "duration": 0.397653,
     "end_time": "2022-05-09T12:02:22.734615",
     "exception": false,
     "start_time": "2022-05-09T12:02:22.336962",
     "status": "completed"
    },
    "tags": []
   },
   "outputs": [],
   "source": [
    "\n",
    "# Hoda Dataset Reader\n",
    "# Python code for reading Hoda farsi digit dataset.\n",
    "\n",
    "# Hoda Farsi Digit Dataset:\n",
    "# http://farsiocr.ir/\n",
    "# http://farsiocr.ir/مجموعه-داده/مجموعه-ارقام-دستنویس-هدی\n",
    "# http://dadegan.ir/catalog/hoda\n",
    "\n",
    "# Repository:\n",
    "# https://github.com/amir-saniyan/HodaDatasetReader\n",
    "\n",
    "import struct\n",
    "import numpy as np\n",
    "import cv2\n",
    "\n",
    "\n",
    "def __convert_to_one_hot(vector, num_classes):\n",
    "    result = np.zeros(shape=[len(vector), num_classes])\n",
    "    result[np.arange(len(vector)), vector] = 1\n",
    "    return result\n",
    "\n",
    "\n",
    "def __resize_image(src_image, dst_image_height, dst_image_width):\n",
    "    src_image_height = src_image.shape[0]\n",
    "    src_image_width = src_image.shape[1]\n",
    "\n",
    "    if src_image_height > dst_image_height or src_image_width > dst_image_width:\n",
    "        height_scale = dst_image_height / src_image_height\n",
    "        width_scale = dst_image_width / src_image_width\n",
    "        scale = min(height_scale, width_scale)\n",
    "        img = cv2.resize(src=src_image, dsize=(0, 0), fx=scale, fy=scale, interpolation=cv2.INTER_CUBIC)\n",
    "    else:\n",
    "        img = src_image\n",
    "\n",
    "    img_height = img.shape[0]\n",
    "    img_width = img.shape[1]\n",
    "\n",
    "    dst_image = np.zeros(shape=[dst_image_height, dst_image_width], dtype=np.uint8)\n",
    "\n",
    "    y_offset = (dst_image_height - img_height) // 2\n",
    "    x_offset = (dst_image_width - img_width) // 2\n",
    "\n",
    "    dst_image[y_offset:y_offset+img_height, x_offset:x_offset+img_width] = img\n",
    "\n",
    "    return dst_image\n",
    "\n",
    "\n",
    "def read_hoda_cdb(file_name):\n",
    "    with open(file_name, 'rb') as binary_file:\n",
    "\n",
    "        data = binary_file.read()\n",
    "\n",
    "        offset = 0\n",
    "\n",
    "        # read private header\n",
    "\n",
    "        yy = struct.unpack_from('H', data, offset)[0]\n",
    "        offset += 2\n",
    "\n",
    "        m = struct.unpack_from('B', data, offset)[0]\n",
    "        offset += 1\n",
    "\n",
    "        d = struct.unpack_from('B', data, offset)[0]\n",
    "        offset += 1\n",
    "\n",
    "        H = struct.unpack_from('B', data, offset)[0]\n",
    "        offset += 1\n",
    "\n",
    "        W = struct.unpack_from('B', data, offset)[0]\n",
    "        offset += 1\n",
    "\n",
    "        TotalRec = struct.unpack_from('I', data, offset)[0]\n",
    "        offset += 4\n",
    "\n",
    "        LetterCount = struct.unpack_from('128I', data, offset)\n",
    "        offset += 128 * 4\n",
    "\n",
    "        imgType = struct.unpack_from('B', data, offset)[0]  # 0: binary, 1: gray\n",
    "        offset += 1\n",
    "\n",
    "        Comments = struct.unpack_from('256c', data, offset)\n",
    "        offset += 256 * 1\n",
    "\n",
    "        Reserved = struct.unpack_from('245c', data, offset)\n",
    "        offset += 245 * 1\n",
    "\n",
    "        if (W > 0) and (H > 0):\n",
    "            normal = True\n",
    "        else:\n",
    "            normal = False\n",
    "\n",
    "        images = []\n",
    "        labels = []\n",
    "\n",
    "        for i in range(TotalRec):\n",
    "\n",
    "            StartByte = struct.unpack_from('B', data, offset)[0]  # must be 0xff\n",
    "            offset += 1\n",
    "\n",
    "            label = struct.unpack_from('B', data, offset)[0]\n",
    "            offset += 1\n",
    "\n",
    "            if not normal:\n",
    "                W = struct.unpack_from('B', data, offset)[0]\n",
    "                offset += 1\n",
    "\n",
    "                H = struct.unpack_from('B', data, offset)[0]\n",
    "                offset += 1\n",
    "\n",
    "            ByteCount = struct.unpack_from('H', data, offset)[0]\n",
    "            offset += 2\n",
    "\n",
    "            image = np.zeros(shape=[H, W], dtype=np.uint8)\n",
    "\n",
    "            if imgType == 0:\n",
    "                # Binary\n",
    "                for y in range(H):\n",
    "                    bWhite = True\n",
    "                    counter = 0\n",
    "                    while counter < W:\n",
    "                        WBcount = struct.unpack_from('B', data, offset)[0]\n",
    "                        offset += 1\n",
    "                        # x = 0\n",
    "                        # while x < WBcount:\n",
    "                        #     if bWhite:\n",
    "                        #         image[y, x + counter] = 0  # Background\n",
    "                        #     else:\n",
    "                        #         image[y, x + counter] = 255  # ForeGround\n",
    "                        #     x += 1\n",
    "                        if bWhite:\n",
    "                            image[y, counter:counter + WBcount] = 0  # Background\n",
    "                        else:\n",
    "                            image[y, counter:counter + WBcount] = 255  # ForeGround\n",
    "                        bWhite = not bWhite  # black white black white ...\n",
    "                        counter += WBcount\n",
    "            else:\n",
    "                # GrayScale mode\n",
    "                data = struct.unpack_from('{}B'.format(W * H), data, offset)\n",
    "                offset += W * H\n",
    "                image = np.asarray(data, dtype=np.uint8).reshape([W, H]).T\n",
    "\n",
    "            images.append(image)\n",
    "            labels.append(label)\n",
    "\n",
    "        return images, labels\n",
    "\n",
    "\n",
    "def read_hoda_dataset(dataset_path, images_height=32, images_width=32, one_hot=False, reshape=True):\n",
    "    images, labels = read_hoda_cdb(dataset_path)\n",
    "    assert len(images) == len(labels)\n",
    "\n",
    "    X = np.zeros(shape=[len(images), images_height, images_width], dtype=np.float32)\n",
    "    Y = np.zeros(shape=[len(labels)], dtype=int)\n",
    "\n",
    "    for i in range(len(images)):\n",
    "        image = images[i]\n",
    "        # Image resizing.\n",
    "        image = __resize_image(src_image=image, dst_image_height=images_height, dst_image_width=images_width)\n",
    "        # Image normalization.\n",
    "        image = image / 255\n",
    "        # Image binarization.\n",
    "        image = np.where(image >= 0.5, 1, 0)\n",
    "        # Image.\n",
    "        X[i] = image\n",
    "        # Label.\n",
    "        Y[i] = labels[i]\n",
    "\n",
    "    if one_hot:\n",
    "        Y = __convert_to_one_hot(Y, 10).astype(dtype=np.float32)\n",
    "    else:\n",
    "        Y = Y.astype(dtype=np.float32)\n",
    "\n",
    "    if reshape:\n",
    "        X = X.reshape(-1, images_height * images_width)\n",
    "    else:\n",
    "        X = X.reshape(-1, images_height, images_width, 1)\n",
    "\n",
    "    return X, Y"
   ]
  },
  {
   "cell_type": "code",
   "execution_count": 5,
   "id": "2a181689",
   "metadata": {
    "execution": {
     "iopub.execute_input": "2022-05-09T12:02:22.805773Z",
     "iopub.status.busy": "2022-05-09T12:02:22.804727Z",
     "iopub.status.idle": "2022-05-09T12:02:34.771273Z",
     "shell.execute_reply": "2022-05-09T12:02:34.770193Z"
    },
    "papermill": {
     "duration": 12.004128,
     "end_time": "2022-05-09T12:02:34.773981",
     "exception": false,
     "start_time": "2022-05-09T12:02:22.769853",
     "status": "completed"
    },
    "tags": []
   },
   "outputs": [],
   "source": [
    "X_train, y_train = read_hoda_dataset(dataset_path='/kaggle/input/persian-numbers/Train 60000.cdb',\n",
    "                                images_height=32,\n",
    "                                images_width=32,\n",
    "                                one_hot=False,\n",
    "                                reshape=True)"
   ]
  },
  {
   "cell_type": "code",
   "execution_count": 6,
   "id": "d66df787",
   "metadata": {
    "execution": {
     "iopub.execute_input": "2022-05-09T12:02:34.841382Z",
     "iopub.status.busy": "2022-05-09T12:02:34.841118Z",
     "iopub.status.idle": "2022-05-09T12:02:35.129254Z",
     "shell.execute_reply": "2022-05-09T12:02:35.128220Z"
    },
    "papermill": {
     "duration": 0.324069,
     "end_time": "2022-05-09T12:02:35.131853",
     "exception": false,
     "start_time": "2022-05-09T12:02:34.807784",
     "status": "completed"
    },
    "tags": []
   },
   "outputs": [],
   "source": [
    "train_images, test_images, train_labels, test_labels = train_test_split(\n",
    "    X_train.astype(np.float32), y_train, test_size=0.2, random_state=1374)\n",
    "\n",
    "train_images, val_images, train_labels, val_labels = train_test_split(\n",
    "    train_images, train_labels, test_size=0.2, random_state=1374)"
   ]
  },
  {
   "cell_type": "code",
   "execution_count": 7,
   "id": "c8a17b4a",
   "metadata": {
    "_uuid": "a0467a07f79074cb03dfafcf70a989a1de654e8e",
    "execution": {
     "iopub.execute_input": "2022-05-09T12:02:35.201989Z",
     "iopub.status.busy": "2022-05-09T12:02:35.201147Z",
     "iopub.status.idle": "2022-05-09T12:02:35.207360Z",
     "shell.execute_reply": "2022-05-09T12:02:35.206465Z"
    },
    "papermill": {
     "duration": 0.043284,
     "end_time": "2022-05-09T12:02:35.209420",
     "exception": false,
     "start_time": "2022-05-09T12:02:35.166136",
     "status": "completed"
    },
    "tags": []
   },
   "outputs": [],
   "source": [
    "train_images = train_images.reshape(train_images.shape[0], 32, 32)\n",
    "val_images = val_images.reshape(val_images.shape[0], 32, 32)\n",
    "test_images = test_images.reshape(test_images.shape[0], 32, 32)"
   ]
  },
  {
   "cell_type": "markdown",
   "id": "be52a9b4",
   "metadata": {
    "_uuid": "f5cc49c6ced3bbacfc4f2dbdfab19471ec4ddb04",
    "papermill": {
     "duration": 0.033579,
     "end_time": "2022-05-09T12:02:35.275860",
     "exception": false,
     "start_time": "2022-05-09T12:02:35.242281",
     "status": "completed"
    },
    "tags": []
   },
   "source": [
    "#### Plot some images to see samples"
   ]
  },
  {
   "cell_type": "code",
   "execution_count": 8,
   "id": "e9b5684c",
   "metadata": {
    "_uuid": "1de567ffcf179220917f3344066454f32a6127bb",
    "execution": {
     "iopub.execute_input": "2022-05-09T12:02:35.346067Z",
     "iopub.status.busy": "2022-05-09T12:02:35.345797Z",
     "iopub.status.idle": "2022-05-09T12:02:35.737136Z",
     "shell.execute_reply": "2022-05-09T12:02:35.736144Z"
    },
    "papermill": {
     "duration": 0.430442,
     "end_time": "2022-05-09T12:02:35.739446",
     "exception": false,
     "start_time": "2022-05-09T12:02:35.309004",
     "status": "completed"
    },
    "tags": []
   },
   "outputs": [
    {
     "data": {
      "image/png": "[encoded data removed]",
      "text/plain": [
       "<Figure size 432x288 with 3 Axes>"
      ]
     },
     "metadata": {
      "needs_background": "light"
     },
     "output_type": "display_data"
    }
   ],
   "source": [
    "#train samples\n",
    "for i in range(6, 9):\n",
    "    plt.subplot(330 + (i+1))\n",
    "    plt.imshow(train_images[i].squeeze(), cmap=plt.get_cmap('gray'))\n",
    "    plt.title(train_labels[i])"
   ]
  },
  {
   "cell_type": "code",
   "execution_count": 9,
   "id": "d7f40f72",
   "metadata": {
    "_uuid": "1ebccd63893509f0bddea4d0d6f783206796edf5",
    "execution": {
     "iopub.execute_input": "2022-05-09T12:02:35.809182Z",
     "iopub.status.busy": "2022-05-09T12:02:35.808882Z",
     "iopub.status.idle": "2022-05-09T12:02:36.142274Z",
     "shell.execute_reply": "2022-05-09T12:02:36.141321Z"
    },
    "papermill": {
     "duration": 0.370632,
     "end_time": "2022-05-09T12:02:36.144627",
     "exception": false,
     "start_time": "2022-05-09T12:02:35.773995",
     "status": "completed"
    },
    "tags": []
   },
   "outputs": [
    {
     "data": {
      "image/png": "[encoded data removed]",
      "text/plain": [
       "<Figure size 432x288 with 3 Axes>"
      ]
     },
     "metadata": {
      "needs_background": "light"
     },
     "output_type": "display_data"
    }
   ],
   "source": [
    "#test samples\n",
    "for i in range(6, 9):\n",
    "    plt.subplot(330 + (i+1))\n",
    "    plt.imshow(val_images[i].squeeze(), cmap=plt.get_cmap('gray'))"
   ]
  },
  {
   "cell_type": "markdown",
   "id": "dc3ab027",
   "metadata": {
    "_uuid": "fa81fe0a91f7894e144d09b9268d67a6773c51b6",
    "papermill": {
     "duration": 0.034062,
     "end_time": "2022-05-09T12:02:36.213389",
     "exception": false,
     "start_time": "2022-05-09T12:02:36.179327",
     "status": "completed"
    },
    "tags": []
   },
   "source": [
    "#### Convert images to tensors\n",
    "Normalize the images too"
   ]
  },
  {
   "cell_type": "code",
   "execution_count": 10,
   "id": "bdc20b9a",
   "metadata": {
    "_uuid": "d39d3fb5b0613fabf72d4a17ddf638bf4ad28700",
    "execution": {
     "iopub.execute_input": "2022-05-09T12:02:36.283176Z",
     "iopub.status.busy": "2022-05-09T12:02:36.282151Z",
     "iopub.status.idle": "2022-05-09T12:02:36.638669Z",
     "shell.execute_reply": "2022-05-09T12:02:36.637723Z"
    },
    "papermill": {
     "duration": 0.394683,
     "end_time": "2022-05-09T12:02:36.641392",
     "exception": false,
     "start_time": "2022-05-09T12:02:36.246709",
     "status": "completed"
    },
    "tags": []
   },
   "outputs": [],
   "source": [
    "#train\n",
    "train_images_tensor = torch.tensor(train_images)/255.0\n",
    "train_labels_tensor = torch.tensor(train_labels)\n",
    "train_tensor = TensorDataset(train_images_tensor, train_labels_tensor.type(torch.LongTensor))\n",
    "\n",
    "#val\n",
    "val_images_tensor = torch.tensor(val_images)/255.0\n",
    "val_labels_tensor = torch.tensor(val_labels)\n",
    "val_tensor = TensorDataset(val_images_tensor, val_labels_tensor.type(torch.LongTensor))\n",
    "\n",
    "#test\n",
    "test_images_tensor = torch.tensor(test_images)/255.0"
   ]
  },
  {
   "cell_type": "markdown",
   "id": "0cb81b6d",
   "metadata": {
    "_uuid": "eea027734384efcc2ff337c0211d2685d95989b0",
    "papermill": {
     "duration": 0.034263,
     "end_time": "2022-05-09T12:02:36.711175",
     "exception": false,
     "start_time": "2022-05-09T12:02:36.676912",
     "status": "completed"
    },
    "tags": []
   },
   "source": [
    "#### Load images into the data generator"
   ]
  },
  {
   "cell_type": "code",
   "execution_count": 11,
   "id": "7986f968",
   "metadata": {
    "_uuid": "62de8a26a44cafbf5274ee914142fb56a58b25d4",
    "execution": {
     "iopub.execute_input": "2022-05-09T12:02:36.782840Z",
     "iopub.status.busy": "2022-05-09T12:02:36.782323Z",
     "iopub.status.idle": "2022-05-09T12:02:36.788984Z",
     "shell.execute_reply": "2022-05-09T12:02:36.787908Z"
    },
    "papermill": {
     "duration": 0.046903,
     "end_time": "2022-05-09T12:02:36.791674",
     "exception": false,
     "start_time": "2022-05-09T12:02:36.744771",
     "status": "completed"
    },
    "tags": []
   },
   "outputs": [],
   "source": [
    "train_loader = DataLoader(train_tensor, batch_size=16, num_workers=2, shuffle=True)\n",
    "val_loader = DataLoader(val_tensor, batch_size=16, num_workers=2, shuffle=True)\n",
    "test_loader = DataLoader(test_images_tensor, batch_size=16, num_workers=2, shuffle=False)"
   ]
  },
  {
   "cell_type": "markdown",
   "id": "fc79675f",
   "metadata": {
    "_uuid": "7b72d3e520cb453ffa0ebc65d4809ccf7bb1aadd",
    "papermill": {
     "duration": 0.033893,
     "end_time": "2022-05-09T12:02:36.860229",
     "exception": false,
     "start_time": "2022-05-09T12:02:36.826336",
     "status": "completed"
    },
    "tags": []
   },
   "source": [
    "#### Plot some sample images using the data generator"
   ]
  },
  {
   "cell_type": "markdown",
   "id": "a393b19a",
   "metadata": {
    "_uuid": "f99f8c9b1bfe0474f27b72005e7708b6d9fd091a",
    "papermill": {
     "duration": 0.047608,
     "end_time": "2022-05-09T12:02:36.943584",
     "exception": false,
     "start_time": "2022-05-09T12:02:36.895976",
     "status": "completed"
    },
    "tags": []
   },
   "source": [
    "#### Define the CNN Model"
   ]
  },
  {
   "cell_type": "code",
   "execution_count": 12,
   "id": "3adeb18a",
   "metadata": {
    "_uuid": "16954f2ed80f6ecceff5b48e7566415857432a76",
    "execution": {
     "iopub.execute_input": "2022-05-09T12:02:37.011780Z",
     "iopub.status.busy": "2022-05-09T12:02:37.011442Z",
     "iopub.status.idle": "2022-05-09T12:02:37.022902Z",
     "shell.execute_reply": "2022-05-09T12:02:37.021801Z"
    },
    "papermill": {
     "duration": 0.04764,
     "end_time": "2022-05-09T12:02:37.025045",
     "exception": false,
     "start_time": "2022-05-09T12:02:36.977405",
     "status": "completed"
    },
    "tags": []
   },
   "outputs": [],
   "source": [
    "class Net(nn.Module):\n",
    "    def __init__(self):\n",
    "        super(Net, self).__init__()\n",
    "        \n",
    "        self.conv_block = nn.Sequential(\n",
    "            nn.Conv2d(1, 32, kernel_size=3, stride=1, padding=1),\n",
    "            nn.BatchNorm2d(32),\n",
    "            nn.ReLU(inplace=True),\n",
    "            nn.Conv2d(32, 64, kernel_size=3, stride=1, padding=1),\n",
    "            nn.BatchNorm2d(64),\n",
    "            nn.ReLU(inplace=True),\n",
    "            nn.MaxPool2d(kernel_size=2, stride=2),\n",
    "            nn.Conv2d(64, 128, kernel_size=3, stride=1, padding=1),\n",
    "            nn.BatchNorm2d(128),\n",
    "            nn.ReLU(inplace=True),\n",
    "            nn.MaxPool2d(kernel_size=2, stride=2) \n",
    "        )\n",
    "        \n",
    "        self.linear_block = nn.Sequential(\n",
    "            nn.Dropout(p=0.5),\n",
    "            nn.Linear(128*8*8, 128),\n",
    "            nn.BatchNorm1d(128),\n",
    "            nn.ReLU(inplace=True),\n",
    "            nn.Dropout(0.5),\n",
    "            nn.Linear(128, 64),\n",
    "            nn.BatchNorm1d(64),\n",
    "            nn.ReLU(inplace=True),\n",
    "            nn.Dropout(0.5),\n",
    "            nn.Linear(64, 10)\n",
    "        )\n",
    "        \n",
    "    def forward(self, x):\n",
    "        x = self.conv_block(x)\n",
    "        x = x.view(x.size(0), -1)\n",
    "        x = self.linear_block(x)\n",
    "        \n",
    "        return x"
   ]
  },
  {
   "cell_type": "code",
   "execution_count": 13,
   "id": "dcea0430",
   "metadata": {
    "_uuid": "5e5650a4bca10a0bae89ae6d384826128ab7f138",
    "execution": {
     "iopub.execute_input": "2022-05-09T12:02:37.095341Z",
     "iopub.status.busy": "2022-05-09T12:02:37.095123Z",
     "iopub.status.idle": "2022-05-09T12:02:37.130470Z",
     "shell.execute_reply": "2022-05-09T12:02:37.129499Z"
    },
    "papermill": {
     "duration": 0.073554,
     "end_time": "2022-05-09T12:02:37.132592",
     "exception": false,
     "start_time": "2022-05-09T12:02:37.059038",
     "status": "completed"
    },
    "tags": []
   },
   "outputs": [
    {
     "data": {
      "text/plain": [
       "Net(\n",
       "  (conv_block): Sequential(\n",
       "    (0): Conv2d(1, 32, kernel_size=(3, 3), stride=(1, 1), padding=(1, 1))\n",
       "    (1): BatchNorm2d(32, eps=1e-05, momentum=0.1, affine=True, track_running_stats=True)\n",
       "    (2): ReLU(inplace=True)\n",
       "    (3): Conv2d(32, 64, kernel_size=(3, 3), stride=(1, 1), padding=(1, 1))\n",
       "    (4): BatchNorm2d(64, eps=1e-05, momentum=0.1, affine=True, track_running_stats=True)\n",
       "    (5): ReLU(inplace=True)\n",
       "    (6): MaxPool2d(kernel_size=2, stride=2, padding=0, dilation=1, ceil_mode=False)\n",
       "    (7): Conv2d(64, 128, kernel_size=(3, 3), stride=(1, 1), padding=(1, 1))\n",
       "    (8): BatchNorm2d(128, eps=1e-05, momentum=0.1, affine=True, track_running_stats=True)\n",
       "    (9): ReLU(inplace=True)\n",
       "    (10): MaxPool2d(kernel_size=2, stride=2, padding=0, dilation=1, ceil_mode=False)\n",
       "  )\n",
       "  (linear_block): Sequential(\n",
       "    (0): Dropout(p=0.5, inplace=False)\n",
       "    (1): Linear(in_features=8192, out_features=128, bias=True)\n",
       "    (2): BatchNorm1d(128, eps=1e-05, momentum=0.1, affine=True, track_running_stats=True)\n",
       "    (3): ReLU(inplace=True)\n",
       "    (4): Dropout(p=0.5, inplace=False)\n",
       "    (5): Linear(in_features=128, out_features=64, bias=True)\n",
       "    (6): BatchNorm1d(64, eps=1e-05, momentum=0.1, affine=True, track_running_stats=True)\n",
       "    (7): ReLU(inplace=True)\n",
       "    (8): Dropout(p=0.5, inplace=False)\n",
       "    (9): Linear(in_features=64, out_features=10, bias=True)\n",
       "  )\n",
       ")"
      ]
     },
     "execution_count": 13,
     "metadata": {},
     "output_type": "execute_result"
    }
   ],
   "source": [
    "conv_model = Net()\n",
    "conv_model"
   ]
  },
  {
   "cell_type": "markdown",
   "id": "63688270",
   "metadata": {
    "_uuid": "8c78e04e0466bb60c949f78e0ebb68e1bf5f34a5",
    "papermill": {
     "duration": 0.035138,
     "end_time": "2022-05-09T12:02:37.202280",
     "exception": false,
     "start_time": "2022-05-09T12:02:37.167142",
     "status": "completed"
    },
    "tags": []
   },
   "source": [
    "#### Define the optimizer and loss functions"
   ]
  },
  {
   "cell_type": "code",
   "execution_count": 14,
   "id": "ee36e852",
   "metadata": {
    "_uuid": "c68365a15bee252bdbd5096228e5538ff695478f",
    "execution": {
     "iopub.execute_input": "2022-05-09T12:02:37.274941Z",
     "iopub.status.busy": "2022-05-09T12:02:37.274606Z",
     "iopub.status.idle": "2022-05-09T12:02:40.624985Z",
     "shell.execute_reply": "2022-05-09T12:02:40.623864Z"
    },
    "papermill": {
     "duration": 3.390775,
     "end_time": "2022-05-09T12:02:40.627723",
     "exception": false,
     "start_time": "2022-05-09T12:02:37.236948",
     "status": "completed"
    },
    "tags": []
   },
   "outputs": [],
   "source": [
    "optimizer = optim.Adam(params=conv_model.parameters(), lr=0.003)\n",
    "#optimizer = optim.RMSprop(params=conv_model.parameters(), lr=0.003)\n",
    "criterion = nn.CrossEntropyLoss()\n",
    "\n",
    "exp_lr_scheduler = optim.lr_scheduler.StepLR(optimizer, step_size=7, gamma=0.1)\n",
    "\n",
    "if torch.cuda.is_available():\n",
    "    conv_model = conv_model.cuda()\n",
    "    criterion = criterion.cuda()"
   ]
  },
  {
   "cell_type": "markdown",
   "id": "a918b14e",
   "metadata": {
    "_uuid": "ead9edefdda79f314421cefe8b174eb22f3502a5",
    "papermill": {
     "duration": 0.035704,
     "end_time": "2022-05-09T12:02:40.700746",
     "exception": false,
     "start_time": "2022-05-09T12:02:40.665042",
     "status": "completed"
    },
    "tags": []
   },
   "source": [
    "#### Training the Model"
   ]
  },
  {
   "cell_type": "code",
   "execution_count": 15,
   "id": "557c270b",
   "metadata": {
    "_uuid": "7a6d0608892e522c76c7616dcd67c740b792f528",
    "execution": {
     "iopub.execute_input": "2022-05-09T12:02:40.773164Z",
     "iopub.status.busy": "2022-05-09T12:02:40.772333Z",
     "iopub.status.idle": "2022-05-09T12:02:40.787008Z",
     "shell.execute_reply": "2022-05-09T12:02:40.786137Z"
    },
    "papermill": {
     "duration": 0.053176,
     "end_time": "2022-05-09T12:02:40.789195",
     "exception": false,
     "start_time": "2022-05-09T12:02:40.736019",
     "status": "completed"
    },
    "tags": []
   },
   "outputs": [],
   "source": [
    "acc={'Val_acc':[] , 'Loss':[]}\n",
    "def train_model(num_epoch):\n",
    "    conv_model.train()\n",
    "    \n",
    "    for batch_idx, (data, target) in enumerate(train_loader):\n",
    "        data = data.unsqueeze(1)\n",
    "        data, target = data, target\n",
    "        \n",
    "        if torch.cuda.is_available():\n",
    "            data = data.cuda()\n",
    "            target = target.cuda()\n",
    "            \n",
    "        optimizer.zero_grad()\n",
    "        output = conv_model(data)\n",
    "        loss = criterion(output, target)\n",
    "        loss.backward()\n",
    "        optimizer.step()\n",
    "        \n",
    "        if (batch_idx + 1)% 100 == 0:\n",
    "            print('Train Epoch: {} [{}/{} ({:.0f}%)]\\tLoss: {:.6f}'.format(\n",
    "                num_epoch, (batch_idx + 1) * len(data), len(train_loader.dataset),\n",
    "                100. * (batch_idx + 1) / len(train_loader), loss.data))\n",
    "    exp_lr_scheduler.step()\n",
    "def evaluate(data_loader):\n",
    "    conv_model.eval()\n",
    "    loss = 0\n",
    "    correct = 0\n",
    "    \n",
    "    for data, target in data_loader:\n",
    "        data = data.unsqueeze(1)\n",
    "        data, target = data, target\n",
    "        \n",
    "        if torch.cuda.is_available():\n",
    "            data = data.cuda()\n",
    "            target = target.cuda()\n",
    "        \n",
    "        output = conv_model(data)\n",
    "        \n",
    "        loss += F.cross_entropy(output, target, reduction='sum').data\n",
    "\n",
    "        pred = output.data.max(1, keepdim=True)[1]\n",
    "        correct += pred.eq(target.data.view_as(pred)).cpu().sum()\n",
    "        \n",
    "    loss /= len(data_loader.dataset)\n",
    "    \n",
    "    acc['Val_acc'].append(100. * correct / len(data_loader.dataset))\n",
    "    acc['Loss'].append(loss)\n",
    "        \n",
    "    print('\\nAverage Val Loss: {:.4f}, Val Accuracy: {}/{} ({:.3f}%)\\n'.format(\n",
    "        loss, correct, len(data_loader.dataset),\n",
    "        100. * correct / len(data_loader.dataset)))\n",
    "    "
   ]
  },
  {
   "cell_type": "markdown",
   "id": "7fba3397",
   "metadata": {
    "papermill": {
     "duration": 0.034322,
     "end_time": "2022-05-09T12:02:40.859374",
     "exception": false,
     "start_time": "2022-05-09T12:02:40.825052",
     "status": "completed"
    },
    "tags": []
   },
   "source": [
    "**after 8 epoch we get to 99 percent accuracy so we decrease the num_epoch from 25 to 10**"
   ]
  },
  {
   "cell_type": "code",
   "execution_count": 16,
   "id": "04382410",
   "metadata": {
    "_uuid": "aa9e16954b11b99d018779f3322285a6c6ddfaf2",
    "execution": {
     "iopub.execute_input": "2022-05-09T12:02:40.942911Z",
     "iopub.status.busy": "2022-05-09T12:02:40.942509Z",
     "iopub.status.idle": "2022-05-09T12:07:07.707275Z",
     "shell.execute_reply": "2022-05-09T12:07:07.704541Z"
    },
    "papermill": {
     "duration": 266.814823,
     "end_time": "2022-05-09T12:07:07.709913",
     "exception": false,
     "start_time": "2022-05-09T12:02:40.895090",
     "status": "completed"
    },
    "tags": []
   },
   "outputs": [
    {
     "name": "stdout",
     "output_type": "stream",
     "text": [
      "Train Epoch: 0 [1600/38400 (4%)]\tLoss: 0.538880\n",
      "Train Epoch: 0 [3200/38400 (8%)]\tLoss: 0.285790\n",
      "Train Epoch: 0 [4800/38400 (12%)]\tLoss: 0.443951\n",
      "Train Epoch: 0 [6400/38400 (17%)]\tLoss: 0.174274\n",
      "Train Epoch: 0 [8000/38400 (21%)]\tLoss: 0.636379\n",
      "Train Epoch: 0 [9600/38400 (25%)]\tLoss: 0.133667\n",
      "Train Epoch: 0 [11200/38400 (29%)]\tLoss: 0.051756\n",
      "Train Epoch: 0 [12800/38400 (33%)]\tLoss: 0.417113\n",
      "Train Epoch: 0 [14400/38400 (38%)]\tLoss: 0.053242\n",
      "Train Epoch: 0 [16000/38400 (42%)]\tLoss: 0.337165\n",
      "Train Epoch: 0 [17600/38400 (46%)]\tLoss: 0.191935\n",
      "Train Epoch: 0 [19200/38400 (50%)]\tLoss: 0.221756\n",
      "Train Epoch: 0 [20800/38400 (54%)]\tLoss: 0.173856\n",
      "Train Epoch: 0 [22400/38400 (58%)]\tLoss: 0.303092\n",
      "Train Epoch: 0 [24000/38400 (62%)]\tLoss: 0.247558\n",
      "Train Epoch: 0 [25600/38400 (67%)]\tLoss: 0.074553\n",
      "Train Epoch: 0 [27200/38400 (71%)]\tLoss: 0.060501\n",
      "Train Epoch: 0 [28800/38400 (75%)]\tLoss: 0.186660\n",
      "Train Epoch: 0 [30400/38400 (79%)]\tLoss: 0.046407\n",
      "Train Epoch: 0 [32000/38400 (83%)]\tLoss: 0.100640\n",
      "Train Epoch: 0 [33600/38400 (88%)]\tLoss: 0.208886\n",
      "Train Epoch: 0 [35200/38400 (92%)]\tLoss: 0.113876\n",
      "Train Epoch: 0 [36800/38400 (96%)]\tLoss: 0.104933\n",
      "Train Epoch: 0 [38400/38400 (100%)]\tLoss: 0.073049\n",
      "\n",
      "Average Val Loss: 56.1696, Val Accuracy: 1901/9600 (19.802%)\n",
      "\n",
      "Train Epoch: 1 [1600/38400 (4%)]\tLoss: 0.203932\n",
      "Train Epoch: 1 [3200/38400 (8%)]\tLoss: 0.065868\n",
      "Train Epoch: 1 [4800/38400 (12%)]\tLoss: 0.017953\n",
      "Train Epoch: 1 [6400/38400 (17%)]\tLoss: 0.138692\n",
      "Train Epoch: 1 [8000/38400 (21%)]\tLoss: 0.040270\n",
      "Train Epoch: 1 [9600/38400 (25%)]\tLoss: 0.117710\n",
      "Train Epoch: 1 [11200/38400 (29%)]\tLoss: 0.053986\n",
      "Train Epoch: 1 [12800/38400 (33%)]\tLoss: 0.262057\n",
      "Train Epoch: 1 [14400/38400 (38%)]\tLoss: 0.043723\n",
      "Train Epoch: 1 [16000/38400 (42%)]\tLoss: 0.197474\n",
      "Train Epoch: 1 [17600/38400 (46%)]\tLoss: 0.009221\n",
      "Train Epoch: 1 [19200/38400 (50%)]\tLoss: 0.050788\n",
      "Train Epoch: 1 [20800/38400 (54%)]\tLoss: 0.026550\n",
      "Train Epoch: 1 [22400/38400 (58%)]\tLoss: 0.074539\n",
      "Train Epoch: 1 [24000/38400 (62%)]\tLoss: 0.334247\n",
      "Train Epoch: 1 [25600/38400 (67%)]\tLoss: 0.035980\n",
      "Train Epoch: 1 [27200/38400 (71%)]\tLoss: 0.041242\n",
      "Train Epoch: 1 [28800/38400 (75%)]\tLoss: 0.085331\n",
      "Train Epoch: 1 [30400/38400 (79%)]\tLoss: 0.243371\n",
      "Train Epoch: 1 [32000/38400 (83%)]\tLoss: 0.146835\n",
      "Train Epoch: 1 [33600/38400 (88%)]\tLoss: 0.007831\n",
      "Train Epoch: 1 [35200/38400 (92%)]\tLoss: 0.095241\n",
      "Train Epoch: 1 [36800/38400 (96%)]\tLoss: 0.032124\n",
      "Train Epoch: 1 [38400/38400 (100%)]\tLoss: 0.069144\n",
      "\n",
      "Average Val Loss: 22.6806, Val Accuracy: 964/9600 (10.042%)\n",
      "\n",
      "Train Epoch: 2 [1600/38400 (4%)]\tLoss: 0.013633\n",
      "Train Epoch: 2 [3200/38400 (8%)]\tLoss: 0.174340\n",
      "Train Epoch: 2 [4800/38400 (12%)]\tLoss: 0.002237\n",
      "Train Epoch: 2 [6400/38400 (17%)]\tLoss: 0.003941\n",
      "Train Epoch: 2 [8000/38400 (21%)]\tLoss: 0.019878\n",
      "Train Epoch: 2 [9600/38400 (25%)]\tLoss: 0.010814\n",
      "Train Epoch: 2 [11200/38400 (29%)]\tLoss: 0.009505\n",
      "Train Epoch: 2 [12800/38400 (33%)]\tLoss: 0.019331\n",
      "Train Epoch: 2 [14400/38400 (38%)]\tLoss: 0.084071\n",
      "Train Epoch: 2 [16000/38400 (42%)]\tLoss: 0.008416\n",
      "Train Epoch: 2 [17600/38400 (46%)]\tLoss: 0.037518\n",
      "Train Epoch: 2 [19200/38400 (50%)]\tLoss: 0.041620\n",
      "Train Epoch: 2 [20800/38400 (54%)]\tLoss: 0.169039\n",
      "Train Epoch: 2 [22400/38400 (58%)]\tLoss: 0.016720\n",
      "Train Epoch: 2 [24000/38400 (62%)]\tLoss: 0.018797\n",
      "Train Epoch: 2 [25600/38400 (67%)]\tLoss: 0.043877\n",
      "Train Epoch: 2 [27200/38400 (71%)]\tLoss: 0.009774\n",
      "Train Epoch: 2 [28800/38400 (75%)]\tLoss: 0.004433\n",
      "Train Epoch: 2 [30400/38400 (79%)]\tLoss: 0.192363\n",
      "Train Epoch: 2 [32000/38400 (83%)]\tLoss: 0.050485\n",
      "Train Epoch: 2 [33600/38400 (88%)]\tLoss: 0.013244\n",
      "Train Epoch: 2 [35200/38400 (92%)]\tLoss: 0.012400\n",
      "Train Epoch: 2 [36800/38400 (96%)]\tLoss: 0.080740\n",
      "Train Epoch: 2 [38400/38400 (100%)]\tLoss: 0.012798\n",
      "\n",
      "Average Val Loss: 24.6530, Val Accuracy: 941/9600 (9.802%)\n",
      "\n",
      "Train Epoch: 3 [1600/38400 (4%)]\tLoss: 0.015762\n",
      "Train Epoch: 3 [3200/38400 (8%)]\tLoss: 0.005836\n",
      "Train Epoch: 3 [4800/38400 (12%)]\tLoss: 0.010559\n",
      "Train Epoch: 3 [6400/38400 (17%)]\tLoss: 0.015236\n",
      "Train Epoch: 3 [8000/38400 (21%)]\tLoss: 0.107850\n",
      "Train Epoch: 3 [9600/38400 (25%)]\tLoss: 0.005882\n",
      "Train Epoch: 3 [11200/38400 (29%)]\tLoss: 0.043225\n",
      "Train Epoch: 3 [12800/38400 (33%)]\tLoss: 0.031085\n",
      "Train Epoch: 3 [14400/38400 (38%)]\tLoss: 0.083602\n",
      "Train Epoch: 3 [16000/38400 (42%)]\tLoss: 0.059446\n",
      "Train Epoch: 3 [17600/38400 (46%)]\tLoss: 0.002744\n",
      "Train Epoch: 3 [19200/38400 (50%)]\tLoss: 0.054824\n",
      "Train Epoch: 3 [20800/38400 (54%)]\tLoss: 0.378031\n",
      "Train Epoch: 3 [22400/38400 (58%)]\tLoss: 0.367271\n",
      "Train Epoch: 3 [24000/38400 (62%)]\tLoss: 0.009463\n",
      "Train Epoch: 3 [25600/38400 (67%)]\tLoss: 0.013636\n",
      "Train Epoch: 3 [27200/38400 (71%)]\tLoss: 0.011187\n",
      "Train Epoch: 3 [28800/38400 (75%)]\tLoss: 0.016828\n",
      "Train Epoch: 3 [30400/38400 (79%)]\tLoss: 0.083917\n",
      "Train Epoch: 3 [32000/38400 (83%)]\tLoss: 0.004492\n",
      "Train Epoch: 3 [33600/38400 (88%)]\tLoss: 0.018285\n",
      "Train Epoch: 3 [35200/38400 (92%)]\tLoss: 0.139580\n",
      "Train Epoch: 3 [36800/38400 (96%)]\tLoss: 0.232030\n",
      "Train Epoch: 3 [38400/38400 (100%)]\tLoss: 0.070538\n",
      "\n",
      "Average Val Loss: 172.9839, Val Accuracy: 941/9600 (9.802%)\n",
      "\n",
      "Train Epoch: 4 [1600/38400 (4%)]\tLoss: 0.200009\n",
      "Train Epoch: 4 [3200/38400 (8%)]\tLoss: 0.039583\n",
      "Train Epoch: 4 [4800/38400 (12%)]\tLoss: 0.086923\n",
      "Train Epoch: 4 [6400/38400 (17%)]\tLoss: 0.027490\n",
      "Train Epoch: 4 [8000/38400 (21%)]\tLoss: 0.002968\n",
      "Train Epoch: 4 [9600/38400 (25%)]\tLoss: 0.474996\n",
      "Train Epoch: 4 [11200/38400 (29%)]\tLoss: 0.051779\n",
      "Train Epoch: 4 [12800/38400 (33%)]\tLoss: 0.003098\n",
      "Train Epoch: 4 [14400/38400 (38%)]\tLoss: 0.108042\n",
      "Train Epoch: 4 [16000/38400 (42%)]\tLoss: 0.039205\n",
      "Train Epoch: 4 [17600/38400 (46%)]\tLoss: 0.026097\n",
      "Train Epoch: 4 [19200/38400 (50%)]\tLoss: 0.435719\n",
      "Train Epoch: 4 [20800/38400 (54%)]\tLoss: 0.522035\n",
      "Train Epoch: 4 [22400/38400 (58%)]\tLoss: 0.008019\n",
      "Train Epoch: 4 [24000/38400 (62%)]\tLoss: 0.024151\n",
      "Train Epoch: 4 [25600/38400 (67%)]\tLoss: 0.050658\n",
      "Train Epoch: 4 [27200/38400 (71%)]\tLoss: 0.008932\n",
      "Train Epoch: 4 [28800/38400 (75%)]\tLoss: 0.342667\n",
      "Train Epoch: 4 [30400/38400 (79%)]\tLoss: 0.045521\n",
      "Train Epoch: 4 [32000/38400 (83%)]\tLoss: 0.178947\n",
      "Train Epoch: 4 [33600/38400 (88%)]\tLoss: 0.017311\n",
      "Train Epoch: 4 [35200/38400 (92%)]\tLoss: 0.087841\n",
      "Train Epoch: 4 [36800/38400 (96%)]\tLoss: 0.096690\n",
      "Train Epoch: 4 [38400/38400 (100%)]\tLoss: 0.039779\n",
      "\n",
      "Average Val Loss: 62.4454, Val Accuracy: 941/9600 (9.802%)\n",
      "\n",
      "Train Epoch: 5 [1600/38400 (4%)]\tLoss: 1.044048\n",
      "Train Epoch: 5 [3200/38400 (8%)]\tLoss: 0.007275\n",
      "Train Epoch: 5 [4800/38400 (12%)]\tLoss: 0.021003\n",
      "Train Epoch: 5 [6400/38400 (17%)]\tLoss: 0.243796\n",
      "Train Epoch: 5 [8000/38400 (21%)]\tLoss: 0.019017\n",
      "Train Epoch: 5 [9600/38400 (25%)]\tLoss: 0.004259\n",
      "Train Epoch: 5 [11200/38400 (29%)]\tLoss: 0.006628\n",
      "Train Epoch: 5 [12800/38400 (33%)]\tLoss: 0.021423\n",
      "Train Epoch: 5 [14400/38400 (38%)]\tLoss: 0.007463\n",
      "Train Epoch: 5 [16000/38400 (42%)]\tLoss: 0.013739\n",
      "Train Epoch: 5 [17600/38400 (46%)]\tLoss: 0.038207\n",
      "Train Epoch: 5 [19200/38400 (50%)]\tLoss: 0.025949\n",
      "Train Epoch: 5 [20800/38400 (54%)]\tLoss: 0.429603\n",
      "Train Epoch: 5 [22400/38400 (58%)]\tLoss: 0.003290\n",
      "Train Epoch: 5 [24000/38400 (62%)]\tLoss: 0.088816\n",
      "Train Epoch: 5 [25600/38400 (67%)]\tLoss: 0.021690\n",
      "Train Epoch: 5 [27200/38400 (71%)]\tLoss: 0.000165\n",
      "Train Epoch: 5 [28800/38400 (75%)]\tLoss: 0.006993\n",
      "Train Epoch: 5 [30400/38400 (79%)]\tLoss: 0.004488\n",
      "Train Epoch: 5 [32000/38400 (83%)]\tLoss: 0.025976\n",
      "Train Epoch: 5 [33600/38400 (88%)]\tLoss: 0.309811\n",
      "Train Epoch: 5 [35200/38400 (92%)]\tLoss: 0.042034\n",
      "Train Epoch: 5 [36800/38400 (96%)]\tLoss: 0.098719\n",
      "Train Epoch: 5 [38400/38400 (100%)]\tLoss: 0.096642\n",
      "\n",
      "Average Val Loss: 27.4319, Val Accuracy: 1801/9600 (18.760%)\n",
      "\n",
      "Train Epoch: 6 [1600/38400 (4%)]\tLoss: 0.002404\n",
      "Train Epoch: 6 [3200/38400 (8%)]\tLoss: 0.028929\n",
      "Train Epoch: 6 [4800/38400 (12%)]\tLoss: 0.027893\n",
      "Train Epoch: 6 [6400/38400 (17%)]\tLoss: 0.018908\n",
      "Train Epoch: 6 [8000/38400 (21%)]\tLoss: 0.013375\n",
      "Train Epoch: 6 [9600/38400 (25%)]\tLoss: 0.180474\n",
      "Train Epoch: 6 [11200/38400 (29%)]\tLoss: 0.154989\n",
      "Train Epoch: 6 [12800/38400 (33%)]\tLoss: 0.054771\n",
      "Train Epoch: 6 [14400/38400 (38%)]\tLoss: 0.000955\n",
      "Train Epoch: 6 [16000/38400 (42%)]\tLoss: 0.082244\n",
      "Train Epoch: 6 [17600/38400 (46%)]\tLoss: 0.007192\n",
      "Train Epoch: 6 [19200/38400 (50%)]\tLoss: 0.209021\n",
      "Train Epoch: 6 [20800/38400 (54%)]\tLoss: 0.097361\n",
      "Train Epoch: 6 [22400/38400 (58%)]\tLoss: 0.006173\n",
      "Train Epoch: 6 [24000/38400 (62%)]\tLoss: 0.078303\n",
      "Train Epoch: 6 [25600/38400 (67%)]\tLoss: 0.039837\n",
      "Train Epoch: 6 [27200/38400 (71%)]\tLoss: 0.014864\n",
      "Train Epoch: 6 [28800/38400 (75%)]\tLoss: 0.035465\n",
      "Train Epoch: 6 [30400/38400 (79%)]\tLoss: 0.012812\n",
      "Train Epoch: 6 [32000/38400 (83%)]\tLoss: 0.005454\n",
      "Train Epoch: 6 [33600/38400 (88%)]\tLoss: 0.003205\n",
      "Train Epoch: 6 [35200/38400 (92%)]\tLoss: 0.243729\n",
      "Train Epoch: 6 [36800/38400 (96%)]\tLoss: 0.002431\n",
      "Train Epoch: 6 [38400/38400 (100%)]\tLoss: 0.327075\n",
      "\n",
      "Average Val Loss: 13.4609, Val Accuracy: 2039/9600 (21.240%)\n",
      "\n",
      "Train Epoch: 7 [1600/38400 (4%)]\tLoss: 0.002557\n",
      "Train Epoch: 7 [3200/38400 (8%)]\tLoss: 0.008820\n",
      "Train Epoch: 7 [4800/38400 (12%)]\tLoss: 0.037968\n",
      "Train Epoch: 7 [6400/38400 (17%)]\tLoss: 0.002792\n",
      "Train Epoch: 7 [8000/38400 (21%)]\tLoss: 0.157693\n",
      "Train Epoch: 7 [9600/38400 (25%)]\tLoss: 0.080774\n",
      "Train Epoch: 7 [11200/38400 (29%)]\tLoss: 0.108308\n",
      "Train Epoch: 7 [12800/38400 (33%)]\tLoss: 0.004503\n",
      "Train Epoch: 7 [14400/38400 (38%)]\tLoss: 0.005659\n",
      "Train Epoch: 7 [16000/38400 (42%)]\tLoss: 0.301394\n",
      "Train Epoch: 7 [17600/38400 (46%)]\tLoss: 0.046835\n",
      "Train Epoch: 7 [19200/38400 (50%)]\tLoss: 0.003139\n",
      "Train Epoch: 7 [20800/38400 (54%)]\tLoss: 0.548017\n",
      "Train Epoch: 7 [22400/38400 (58%)]\tLoss: 0.005161\n",
      "Train Epoch: 7 [24000/38400 (62%)]\tLoss: 0.027144\n",
      "Train Epoch: 7 [25600/38400 (67%)]\tLoss: 0.085391\n",
      "Train Epoch: 7 [27200/38400 (71%)]\tLoss: 0.360176\n",
      "Train Epoch: 7 [28800/38400 (75%)]\tLoss: 0.008935\n",
      "Train Epoch: 7 [30400/38400 (79%)]\tLoss: 0.003496\n",
      "Train Epoch: 7 [32000/38400 (83%)]\tLoss: 0.008562\n",
      "Train Epoch: 7 [33600/38400 (88%)]\tLoss: 0.000190\n",
      "Train Epoch: 7 [35200/38400 (92%)]\tLoss: 0.177298\n",
      "Train Epoch: 7 [36800/38400 (96%)]\tLoss: 0.006926\n",
      "Train Epoch: 7 [38400/38400 (100%)]\tLoss: 0.002851\n",
      "\n",
      "Average Val Loss: 0.0145, Val Accuracy: 9551/9600 (99.490%)\n",
      "\n",
      "Train Epoch: 8 [1600/38400 (4%)]\tLoss: 0.004831\n",
      "Train Epoch: 8 [3200/38400 (8%)]\tLoss: 0.011879\n",
      "Train Epoch: 8 [4800/38400 (12%)]\tLoss: 0.018323\n",
      "Train Epoch: 8 [6400/38400 (17%)]\tLoss: 0.001821\n",
      "Train Epoch: 8 [8000/38400 (21%)]\tLoss: 0.012833\n",
      "Train Epoch: 8 [9600/38400 (25%)]\tLoss: 0.000817\n",
      "Train Epoch: 8 [11200/38400 (29%)]\tLoss: 0.006770\n",
      "Train Epoch: 8 [12800/38400 (33%)]\tLoss: 0.001571\n",
      "Train Epoch: 8 [14400/38400 (38%)]\tLoss: 0.016547\n",
      "Train Epoch: 8 [16000/38400 (42%)]\tLoss: 0.001579\n",
      "Train Epoch: 8 [17600/38400 (46%)]\tLoss: 0.003025\n",
      "Train Epoch: 8 [19200/38400 (50%)]\tLoss: 0.003698\n",
      "Train Epoch: 8 [20800/38400 (54%)]\tLoss: 0.001216\n",
      "Train Epoch: 8 [22400/38400 (58%)]\tLoss: 0.122111\n",
      "Train Epoch: 8 [24000/38400 (62%)]\tLoss: 0.405406\n",
      "Train Epoch: 8 [25600/38400 (67%)]\tLoss: 0.001038\n",
      "Train Epoch: 8 [27200/38400 (71%)]\tLoss: 0.046607\n",
      "Train Epoch: 8 [28800/38400 (75%)]\tLoss: 0.004169\n",
      "Train Epoch: 8 [30400/38400 (79%)]\tLoss: 0.000358\n",
      "Train Epoch: 8 [32000/38400 (83%)]\tLoss: 0.002189\n",
      "Train Epoch: 8 [33600/38400 (88%)]\tLoss: 0.000271\n",
      "Train Epoch: 8 [35200/38400 (92%)]\tLoss: 0.157528\n",
      "Train Epoch: 8 [36800/38400 (96%)]\tLoss: 0.028869\n",
      "Train Epoch: 8 [38400/38400 (100%)]\tLoss: 0.004398\n",
      "\n",
      "Average Val Loss: 0.0159, Val Accuracy: 9551/9600 (99.490%)\n",
      "\n",
      "Train Epoch: 9 [1600/38400 (4%)]\tLoss: 0.000609\n",
      "Train Epoch: 9 [3200/38400 (8%)]\tLoss: 0.012543\n",
      "Train Epoch: 9 [4800/38400 (12%)]\tLoss: 0.003080\n",
      "Train Epoch: 9 [6400/38400 (17%)]\tLoss: 0.019836\n",
      "Train Epoch: 9 [8000/38400 (21%)]\tLoss: 0.004160\n",
      "Train Epoch: 9 [9600/38400 (25%)]\tLoss: 0.244032\n",
      "Train Epoch: 9 [11200/38400 (29%)]\tLoss: 0.004869\n",
      "Train Epoch: 9 [12800/38400 (33%)]\tLoss: 0.000691\n",
      "Train Epoch: 9 [14400/38400 (38%)]\tLoss: 0.000097\n",
      "Train Epoch: 9 [16000/38400 (42%)]\tLoss: 0.007582\n",
      "Train Epoch: 9 [17600/38400 (46%)]\tLoss: 0.014389\n",
      "Train Epoch: 9 [19200/38400 (50%)]\tLoss: 0.005811\n",
      "Train Epoch: 9 [20800/38400 (54%)]\tLoss: 0.006407\n",
      "Train Epoch: 9 [22400/38400 (58%)]\tLoss: 0.011532\n",
      "Train Epoch: 9 [24000/38400 (62%)]\tLoss: 0.021359\n",
      "Train Epoch: 9 [25600/38400 (67%)]\tLoss: 0.112663\n",
      "Train Epoch: 9 [27200/38400 (71%)]\tLoss: 0.002266\n",
      "Train Epoch: 9 [28800/38400 (75%)]\tLoss: 0.003449\n",
      "Train Epoch: 9 [30400/38400 (79%)]\tLoss: 0.020551\n",
      "Train Epoch: 9 [32000/38400 (83%)]\tLoss: 0.007314\n",
      "Train Epoch: 9 [33600/38400 (88%)]\tLoss: 0.036379\n",
      "Train Epoch: 9 [35200/38400 (92%)]\tLoss: 0.025216\n",
      "Train Epoch: 9 [36800/38400 (96%)]\tLoss: 0.001666\n",
      "Train Epoch: 9 [38400/38400 (100%)]\tLoss: 0.002950\n",
      "\n",
      "Average Val Loss: 0.0208, Val Accuracy: 9547/9600 (99.448%)\n",
      "\n",
      "--- 266.7536461353302 seconds ---\n"
     ]
    }
   ],
   "source": [
    "#num_epochs = 25\n",
    "start_time = time.time()\n",
    "while(True):\n",
    "    try:\n",
    "        num_epochs = 10\n",
    "        for n in range(num_epochs):\n",
    "            train_model(n)\n",
    "            evaluate(val_loader)\n",
    "        break\n",
    "    except:\n",
    "        pass\n",
    "print(\"--- %s seconds ---\" % (time.time() - start_time))"
   ]
  },
  {
   "cell_type": "markdown",
   "id": "88219cb1",
   "metadata": {
    "_uuid": "fee45fa16f75c08e1a9c628d88bb9d3176ee3a79",
    "papermill": {
     "duration": 0.151917,
     "end_time": "2022-05-09T12:07:08.016292",
     "exception": false,
     "start_time": "2022-05-09T12:07:07.864375",
     "status": "completed"
    },
    "tags": []
   },
   "source": [
    "#### Make predictions on the test set"
   ]
  },
  {
   "cell_type": "code",
   "execution_count": 17,
   "id": "65915343",
   "metadata": {
    "_uuid": "ff6cd03cb966c7f9c728f014c74edf87546c3d54",
    "execution": {
     "iopub.execute_input": "2022-05-09T12:07:08.325086Z",
     "iopub.status.busy": "2022-05-09T12:07:08.324193Z",
     "iopub.status.idle": "2022-05-09T12:07:08.333100Z",
     "shell.execute_reply": "2022-05-09T12:07:08.332148Z"
    },
    "papermill": {
     "duration": 0.166299,
     "end_time": "2022-05-09T12:07:08.335647",
     "exception": false,
     "start_time": "2022-05-09T12:07:08.169348",
     "status": "completed"
    },
    "tags": []
   },
   "outputs": [],
   "source": [
    "def make_predictions(data_loader):\n",
    "    conv_model.eval()\n",
    "    test_preds = torch.LongTensor()\n",
    "    \n",
    "    for i, data in enumerate(data_loader):\n",
    "        data = data.unsqueeze(1)\n",
    "        \n",
    "        if torch.cuda.is_available():\n",
    "            data = data.cuda()\n",
    "            \n",
    "        output = conv_model(data)\n",
    "        \n",
    "        preds = output.cpu().data.max(1, keepdim=True)[1]\n",
    "        test_preds = torch.cat((test_preds, preds), dim=0)\n",
    "        \n",
    "    return test_preds"
   ]
  },
  {
   "cell_type": "code",
   "execution_count": 18,
   "id": "28c6705e",
   "metadata": {
    "_uuid": "5b624de03cbfef7b1e11f1bcf0efa6721c8112bd",
    "execution": {
     "iopub.execute_input": "2022-05-09T12:07:08.710539Z",
     "iopub.status.busy": "2022-05-09T12:07:08.710137Z",
     "iopub.status.idle": "2022-05-09T12:07:11.417290Z",
     "shell.execute_reply": "2022-05-09T12:07:11.416193Z"
    },
    "papermill": {
     "duration": 2.932859,
     "end_time": "2022-05-09T12:07:11.419977",
     "exception": false,
     "start_time": "2022-05-09T12:07:08.487118",
     "status": "completed"
    },
    "tags": []
   },
   "outputs": [],
   "source": [
    "test_set_preds = make_predictions(test_loader)"
   ]
  },
  {
   "cell_type": "code",
   "execution_count": 19,
   "id": "af03566f",
   "metadata": {
    "execution": {
     "iopub.execute_input": "2022-05-09T12:07:11.685486Z",
     "iopub.status.busy": "2022-05-09T12:07:11.685157Z",
     "iopub.status.idle": "2022-05-09T12:07:12.074060Z",
     "shell.execute_reply": "2022-05-09T12:07:12.072870Z"
    },
    "papermill": {
     "duration": 0.523798,
     "end_time": "2022-05-09T12:07:12.076404",
     "exception": false,
     "start_time": "2022-05-09T12:07:11.552606",
     "status": "completed"
    },
    "tags": []
   },
   "outputs": [
    {
     "name": "stdout",
     "output_type": "stream",
     "text": [
      " 0    9    2    3    6    1    9    8    4   "
     ]
    },
    {
     "data": {
      "image/png": "[encoded data removed]",
      "text/plain": [
       "<Figure size 432x288 with 9 Axes>"
      ]
     },
     "metadata": {},
     "output_type": "display_data"
    }
   ],
   "source": [
    "#test samples\n",
    "for i in range(9):\n",
    "    plt.subplot(1,9,i+1, xticks=[], yticks=[])\n",
    "    print(f' {test_set_preds[i].item()}' , end=\"   \")\n",
    "    plt.imshow(test_images[i].squeeze(), cmap=plt.get_cmap('gray'))\n",
    "plt.show()\n",
    "\n",
    "\n"
   ]
  },
  {
   "cell_type": "code",
   "execution_count": 20,
   "id": "b33370ba",
   "metadata": {
    "execution": {
     "iopub.execute_input": "2022-05-09T12:07:12.369909Z",
     "iopub.status.busy": "2022-05-09T12:07:12.369340Z",
     "iopub.status.idle": "2022-05-09T12:07:12.379357Z",
     "shell.execute_reply": "2022-05-09T12:07:12.378238Z"
    },
    "papermill": {
     "duration": 0.14983,
     "end_time": "2022-05-09T12:07:12.381649",
     "exception": false,
     "start_time": "2022-05-09T12:07:12.231819",
     "status": "completed"
    },
    "tags": []
   },
   "outputs": [
    {
     "data": {
      "text/plain": [
       "0.9945833333333334"
      ]
     },
     "execution_count": 20,
     "metadata": {},
     "output_type": "execute_result"
    }
   ],
   "source": [
    "from sklearn.metrics import accuracy_score\n",
    "\n",
    "\n",
    "accuracy_score(test_labels , test_set_preds)"
   ]
  },
  {
   "cell_type": "code",
   "execution_count": 21,
   "id": "08e37fbf",
   "metadata": {
    "execution": {
     "iopub.execute_input": "2022-05-09T12:07:12.650720Z",
     "iopub.status.busy": "2022-05-09T12:07:12.650405Z",
     "iopub.status.idle": "2022-05-09T12:07:12.724989Z",
     "shell.execute_reply": "2022-05-09T12:07:12.724123Z"
    },
    "papermill": {
     "duration": 0.210448,
     "end_time": "2022-05-09T12:07:12.727049",
     "exception": false,
     "start_time": "2022-05-09T12:07:12.516601",
     "status": "completed"
    },
    "tags": []
   },
   "outputs": [],
   "source": [
    "wrongs=[]\n",
    "for i,v in enumerate(test_set_preds):\n",
    "    if v.item() != test_labels[i]:\n",
    "        wrongs.append(i)"
   ]
  },
  {
   "cell_type": "code",
   "execution_count": 22,
   "id": "c7169410",
   "metadata": {
    "execution": {
     "iopub.execute_input": "2022-05-09T12:07:12.997664Z",
     "iopub.status.busy": "2022-05-09T12:07:12.997279Z",
     "iopub.status.idle": "2022-05-09T12:07:13.384586Z",
     "shell.execute_reply": "2022-05-09T12:07:13.383377Z"
    },
    "papermill": {
     "duration": 0.523867,
     "end_time": "2022-05-09T12:07:13.387155",
     "exception": false,
     "start_time": "2022-05-09T12:07:12.863288",
     "status": "completed"
    },
    "tags": []
   },
   "outputs": [
    {
     "name": "stdout",
     "output_type": "stream",
     "text": [
      " 3    3    4    5    5    3    9    7    6   "
     ]
    },
    {
     "data": {
      "image/png": "[encoded data removed]",
      "text/plain": [
       "<Figure size 432x288 with 9 Axes>"
      ]
     },
     "metadata": {},
     "output_type": "display_data"
    }
   ],
   "source": [
    "#Mistakes\n",
    "for i,value in enumerate(wrongs[:9]):\n",
    "    plt.subplot(1,9,i+1, xticks=[], yticks=[])\n",
    "    print(f' {test_set_preds[value].item()}' , end=\"   \")\n",
    "    plt.imshow(test_images[value].squeeze(), cmap=plt.get_cmap('gray'))\n",
    "plt.show()\n"
   ]
  }
 ],
 "metadata": {
  "kernelspec": {
   "display_name": "Python 3",
   "language": "python",
   "name": "python3"
  },
  "language_info": {
   "codemirror_mode": {
    "name": "ipython",
    "version": 3
   },
   "file_extension": ".py",
   "mimetype": "text/x-python",
   "name": "python",
   "nbconvert_exporter": "python",
   "pygments_lexer": "ipython3",
   "version": "3.7.12"
  },
  "papermill": {
   "default_parameters": {},
   "duration": 306.418504,
   "end_time": "2022-05-09T12:07:15.167891",
   "environment_variables": {},
   "exception": null,
   "input_path": "__notebook__.ipynb",
   "output_path": "__notebook__.ipynb",
   "parameters": {},
   "start_time": "2022-05-09T12:02:08.749387",
   "version": "2.3.4"
  }
 },
 "nbformat": 4,
 "nbformat_minor": 5
}
