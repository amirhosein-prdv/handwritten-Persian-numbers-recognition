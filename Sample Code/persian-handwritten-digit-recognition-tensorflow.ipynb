{
 "cells": [
  {
   "cell_type": "code",
   "execution_count": 1,
   "id": "4e84d566",
   "metadata": {
    "_cell_guid": "b1076dfc-b9ad-4769-8c92-a6c4dae69d19",
    "_uuid": "8f2839f25d086af736a60e9eeb907d3b93b6e0e5",
    "execution": {
     "iopub.execute_input": "2022-11-19T18:12:16.774311Z",
     "iopub.status.busy": "2022-11-19T18:12:16.773854Z",
     "iopub.status.idle": "2022-11-19T18:12:23.055918Z",
     "shell.execute_reply": "2022-11-19T18:12:23.054935Z"
    },
    "papermill": {
     "duration": 6.292464,
     "end_time": "2022-11-19T18:12:23.058352",
     "exception": false,
     "start_time": "2022-11-19T18:12:16.765888",
     "status": "completed"
    },
    "tags": []
   },
   "outputs": [],
   "source": [
    "import tensorflow as tf\n",
    "from tensorflow.keras.models import Sequential\n",
    "from tensorflow.keras.callbacks import TensorBoard\n",
    "from tensorflow.keras.layers import Dense,Dropout,Activation,Flatten,Conv2D,MaxPooling2D\n",
    "from tensorflow.keras.utils import to_categorical\n",
    "from tensorflow.keras.optimizers import SGD,Adam\n",
    "from tensorflow.keras.metrics import categorical_crossentropy\n",
    "import matplotlib.pyplot as plt\n",
    "import numpy as np\n",
    "import pandas as pd \n",
    "import os\n",
    "import cv2\n",
    "import pickle\n",
    "import random \n",
    "import time\n",
    "import zipfile\n",
    "from shutil import copyfile\n",
    "from sklearn.model_selection import train_test_split\n"
   ]
  },
  {
   "cell_type": "code",
   "execution_count": 2,
   "id": "5aac56be",
   "metadata": {
    "execution": {
     "iopub.execute_input": "2022-11-19T18:12:23.070047Z",
     "iopub.status.busy": "2022-11-19T18:12:23.069081Z",
     "iopub.status.idle": "2022-11-19T18:12:23.093265Z",
     "shell.execute_reply": "2022-11-19T18:12:23.092328Z"
    },
    "papermill": {
     "duration": 0.032222,
     "end_time": "2022-11-19T18:12:23.095340",
     "exception": false,
     "start_time": "2022-11-19T18:12:23.063118",
     "status": "completed"
    },
    "tags": []
   },
   "outputs": [],
   "source": [
    "# Hoda Dataset Reader\n",
    "# Python code for reading Hoda farsi digit dataset.\n",
    "\n",
    "# Hoda Farsi Digit Dataset:\n",
    "# http://farsiocr.ir/\n",
    "# http://farsiocr.ir/مجموعه-داده/مجموعه-ارقام-دستنویس-هدی\n",
    "# http://dadegan.ir/catalog/hoda\n",
    "\n",
    "# Repository:\n",
    "# https://github.com/amir-saniyan/HodaDatasetReader\n",
    "\n",
    "import struct\n",
    "import numpy as np\n",
    "import cv2\n",
    "\n",
    "\n",
    "def __convert_to_one_hot(vector, num_classes):\n",
    "    result = np.zeros(shape=[len(vector), num_classes])\n",
    "    result[np.arange(len(vector)), vector] = 1\n",
    "    return result\n",
    "\n",
    "\n",
    "def __resize_image(src_image, dst_image_height, dst_image_width):\n",
    "    src_image_height = src_image.shape[0]\n",
    "    src_image_width = src_image.shape[1]\n",
    "\n",
    "    if src_image_height > dst_image_height or src_image_width > dst_image_width:\n",
    "        height_scale = dst_image_height / src_image_height\n",
    "        width_scale = dst_image_width / src_image_width\n",
    "        scale = min(height_scale, width_scale)\n",
    "        img = cv2.resize(src=src_image, dsize=(0, 0), fx=scale, fy=scale, interpolation=cv2.INTER_CUBIC)\n",
    "    else:\n",
    "        img = src_image\n",
    "\n",
    "    img_height = img.shape[0]\n",
    "    img_width = img.shape[1]\n",
    "\n",
    "    dst_image = np.zeros(shape=[dst_image_height, dst_image_width], dtype=np.uint8)\n",
    "\n",
    "    y_offset = (dst_image_height - img_height) // 2\n",
    "    x_offset = (dst_image_width - img_width) // 2\n",
    "\n",
    "    dst_image[y_offset:y_offset+img_height, x_offset:x_offset+img_width] = img\n",
    "\n",
    "    return dst_image\n",
    "\n",
    "\n",
    "def read_hoda_cdb(file_name):\n",
    "    with open(file_name, 'rb') as binary_file:\n",
    "\n",
    "        data = binary_file.read()\n",
    "\n",
    "        offset = 0\n",
    "\n",
    "        # read private header\n",
    "\n",
    "        yy = struct.unpack_from('H', data, offset)[0]\n",
    "        offset += 2\n",
    "\n",
    "        m = struct.unpack_from('B', data, offset)[0]\n",
    "        offset += 1\n",
    "\n",
    "        d = struct.unpack_from('B', data, offset)[0]\n",
    "        offset += 1\n",
    "\n",
    "        H = struct.unpack_from('B', data, offset)[0]\n",
    "        offset += 1\n",
    "\n",
    "        W = struct.unpack_from('B', data, offset)[0]\n",
    "        offset += 1\n",
    "\n",
    "        TotalRec = struct.unpack_from('I', data, offset)[0]\n",
    "        offset += 4\n",
    "\n",
    "        LetterCount = struct.unpack_from('128I', data, offset)\n",
    "        offset += 128 * 4\n",
    "\n",
    "        imgType = struct.unpack_from('B', data, offset)[0]  # 0: binary, 1: gray\n",
    "        offset += 1\n",
    "\n",
    "        Comments = struct.unpack_from('256c', data, offset)\n",
    "        offset += 256 * 1\n",
    "\n",
    "        Reserved = struct.unpack_from('245c', data, offset)\n",
    "        offset += 245 * 1\n",
    "\n",
    "        if (W > 0) and (H > 0):\n",
    "            normal = True\n",
    "        else:\n",
    "            normal = False\n",
    "\n",
    "        images = []\n",
    "        labels = []\n",
    "\n",
    "        for i in range(TotalRec):\n",
    "\n",
    "            StartByte = struct.unpack_from('B', data, offset)[0]  # must be 0xff\n",
    "            offset += 1\n",
    "\n",
    "            label = struct.unpack_from('B', data, offset)[0]\n",
    "            offset += 1\n",
    "\n",
    "            if not normal:\n",
    "                W = struct.unpack_from('B', data, offset)[0]\n",
    "                offset += 1\n",
    "\n",
    "                H = struct.unpack_from('B', data, offset)[0]\n",
    "                offset += 1\n",
    "\n",
    "            ByteCount = struct.unpack_from('H', data, offset)[0]\n",
    "            offset += 2\n",
    "\n",
    "            image = np.zeros(shape=[H, W], dtype=np.uint8)\n",
    "\n",
    "            if imgType == 0:\n",
    "                # Binary\n",
    "                for y in range(H):\n",
    "                    bWhite = True\n",
    "                    counter = 0\n",
    "                    while counter < W:\n",
    "                        WBcount = struct.unpack_from('B', data, offset)[0]\n",
    "                        offset += 1\n",
    "                        # x = 0\n",
    "                        # while x < WBcount:\n",
    "                        #     if bWhite:\n",
    "                        #         image[y, x + counter] = 0  # Background\n",
    "                        #     else:\n",
    "                        #         image[y, x + counter] = 255  # ForeGround\n",
    "                        #     x += 1\n",
    "                        if bWhite:\n",
    "                            image[y, counter:counter + WBcount] = 0  # Background\n",
    "                        else:\n",
    "                            image[y, counter:counter + WBcount] = 255  # ForeGround\n",
    "                        bWhite = not bWhite  # black white black white ...\n",
    "                        counter += WBcount\n",
    "            else:\n",
    "                # GrayScale mode\n",
    "                data = struct.unpack_from('{}B'.format(W * H), data, offset)\n",
    "                offset += W * H\n",
    "                image = np.asarray(data, dtype=np.uint8).reshape([W, H]).T\n",
    "\n",
    "            images.append(image)\n",
    "            labels.append(label)\n",
    "\n",
    "        return images, labels\n",
    "\n",
    "\n",
    "def read_hoda_dataset(dataset_path, images_height=32, images_width=32, one_hot=False, reshape=True):\n",
    "    images, labels = read_hoda_cdb(dataset_path)\n",
    "    assert len(images) == len(labels)\n",
    "\n",
    "    X = np.zeros(shape=[len(images), images_height, images_width], dtype=np.float32)\n",
    "    Y = np.zeros(shape=[len(labels)], dtype=int)\n",
    "\n",
    "    for i in range(len(images)):\n",
    "        image = images[i]\n",
    "        # Image resizing.\n",
    "        image = __resize_image(src_image=image, dst_image_height=images_height, dst_image_width=images_width)\n",
    "        # Image normalization.\n",
    "        image = image / 255\n",
    "        # Image binarization.\n",
    "        image = np.where(image >= 0.5, 1, 0)\n",
    "        # Image.\n",
    "        X[i] = image\n",
    "        # Label.\n",
    "        Y[i] = labels[i]\n",
    "\n",
    "    if one_hot:\n",
    "        Y = __convert_to_one_hot(Y, 10).astype(dtype=np.float32)\n",
    "    else:\n",
    "        Y = Y.astype(dtype=np.float32)\n",
    "\n",
    "    if reshape:\n",
    "        X = X.reshape(-1, images_height * images_width)\n",
    "    else:\n",
    "        X = X.reshape(-1, images_height, images_width, 1)\n",
    "\n",
    "    return X, Y"
   ]
  },
  {
   "cell_type": "code",
   "execution_count": 3,
   "id": "c293c693",
   "metadata": {
    "execution": {
     "iopub.execute_input": "2022-11-19T18:12:23.105060Z",
     "iopub.status.busy": "2022-11-19T18:12:23.104797Z",
     "iopub.status.idle": "2022-11-19T18:12:23.109933Z",
     "shell.execute_reply": "2022-11-19T18:12:23.109107Z"
    },
    "papermill": {
     "duration": 0.012108,
     "end_time": "2022-11-19T18:12:23.111754",
     "exception": false,
     "start_time": "2022-11-19T18:12:23.099646",
     "status": "completed"
    },
    "tags": []
   },
   "outputs": [],
   "source": [
    "IMG_SIZE=32"
   ]
  },
  {
   "cell_type": "code",
   "execution_count": 4,
   "id": "b2e789e8",
   "metadata": {
    "execution": {
     "iopub.execute_input": "2022-11-19T18:12:23.121925Z",
     "iopub.status.busy": "2022-11-19T18:12:23.121161Z",
     "iopub.status.idle": "2022-11-19T18:12:29.377521Z",
     "shell.execute_reply": "2022-11-19T18:12:29.376553Z"
    },
    "papermill": {
     "duration": 6.263903,
     "end_time": "2022-11-19T18:12:29.380021",
     "exception": false,
     "start_time": "2022-11-19T18:12:23.116118",
     "status": "completed"
    },
    "tags": []
   },
   "outputs": [],
   "source": [
    "X_train, y_train = read_hoda_dataset(dataset_path='../input/persian-numbers/Train 60000.cdb',\n",
    "                                images_height=IMG_SIZE,\n",
    "                                images_width=IMG_SIZE,\n",
    "                                one_hot=False,\n",
    "                                reshape=True)\n",
    "\n",
    "X_val = X_train[45000:]\n",
    "y_val = y_train[45000:]\n",
    "X_train = X_train[:45000]\n",
    "y_train = y_train[:45000]\n"
   ]
  },
  {
   "cell_type": "code",
   "execution_count": 5,
   "id": "a08fcacb",
   "metadata": {
    "execution": {
     "iopub.execute_input": "2022-11-19T18:12:29.391065Z",
     "iopub.status.busy": "2022-11-19T18:12:29.390772Z",
     "iopub.status.idle": "2022-11-19T18:12:31.733489Z",
     "shell.execute_reply": "2022-11-19T18:12:31.732470Z"
    },
    "papermill": {
     "duration": 2.350926,
     "end_time": "2022-11-19T18:12:31.736095",
     "exception": false,
     "start_time": "2022-11-19T18:12:29.385169",
     "status": "completed"
    },
    "tags": []
   },
   "outputs": [],
   "source": [
    "X_test, y_test = read_hoda_dataset(dataset_path='../input/persian-numbers/Test 20000.cdb',\n",
    "                                images_height=IMG_SIZE,\n",
    "                                images_width=IMG_SIZE,\n",
    "                                one_hot=False,\n",
    "                                reshape=True)"
   ]
  },
  {
   "cell_type": "code",
   "execution_count": 6,
   "id": "1ba603f0",
   "metadata": {
    "execution": {
     "iopub.execute_input": "2022-11-19T18:12:31.746510Z",
     "iopub.status.busy": "2022-11-19T18:12:31.746210Z",
     "iopub.status.idle": "2022-11-19T18:12:31.753824Z",
     "shell.execute_reply": "2022-11-19T18:12:31.752893Z"
    },
    "papermill": {
     "duration": 0.01571,
     "end_time": "2022-11-19T18:12:31.756454",
     "exception": false,
     "start_time": "2022-11-19T18:12:31.740744",
     "status": "completed"
    },
    "tags": []
   },
   "outputs": [
    {
     "data": {
      "text/plain": [
       "(1024,)"
      ]
     },
     "execution_count": 6,
     "metadata": {},
     "output_type": "execute_result"
    }
   ],
   "source": [
    "X_train[0].shape"
   ]
  },
  {
   "cell_type": "markdown",
   "id": "96536f8f",
   "metadata": {
    "papermill": {
     "duration": 0.004114,
     "end_time": "2022-11-19T18:12:31.764875",
     "exception": false,
     "start_time": "2022-11-19T18:12:31.760761",
     "status": "completed"
    },
    "tags": []
   },
   "source": [
    "reshape images => (32,32)"
   ]
  },
  {
   "cell_type": "code",
   "execution_count": 7,
   "id": "744d9bff",
   "metadata": {
    "execution": {
     "iopub.execute_input": "2022-11-19T18:12:31.775426Z",
     "iopub.status.busy": "2022-11-19T18:12:31.774773Z",
     "iopub.status.idle": "2022-11-19T18:12:31.780346Z",
     "shell.execute_reply": "2022-11-19T18:12:31.779538Z"
    },
    "papermill": {
     "duration": 0.013161,
     "end_time": "2022-11-19T18:12:31.782295",
     "exception": false,
     "start_time": "2022-11-19T18:12:31.769134",
     "status": "completed"
    },
    "tags": []
   },
   "outputs": [],
   "source": [
    "X_train = X_train.reshape(X_train.shape[0], IMG_SIZE, IMG_SIZE)\n",
    "X_test = X_test.reshape(X_test.shape[0], IMG_SIZE,IMG_SIZE)\n",
    "X_val=X_val.reshape(X_val.shape[0], IMG_SIZE,IMG_SIZE)"
   ]
  },
  {
   "cell_type": "code",
   "execution_count": 8,
   "id": "40a32ba7",
   "metadata": {
    "execution": {
     "iopub.execute_input": "2022-11-19T18:12:31.791932Z",
     "iopub.status.busy": "2022-11-19T18:12:31.791680Z",
     "iopub.status.idle": "2022-11-19T18:12:31.797345Z",
     "shell.execute_reply": "2022-11-19T18:12:31.796407Z"
    },
    "papermill": {
     "duration": 0.012769,
     "end_time": "2022-11-19T18:12:31.799298",
     "exception": false,
     "start_time": "2022-11-19T18:12:31.786529",
     "status": "completed"
    },
    "tags": []
   },
   "outputs": [
    {
     "data": {
      "text/plain": [
       "(32, 32)"
      ]
     },
     "execution_count": 8,
     "metadata": {},
     "output_type": "execute_result"
    }
   ],
   "source": [
    "X_train[0].shape"
   ]
  },
  {
   "cell_type": "markdown",
   "id": "adee84f2",
   "metadata": {
    "papermill": {
     "duration": 0.004197,
     "end_time": "2022-11-19T18:12:31.807870",
     "exception": false,
     "start_time": "2022-11-19T18:12:31.803673",
     "status": "completed"
    },
    "tags": []
   },
   "source": [
    "Plot some images to see samples"
   ]
  },
  {
   "cell_type": "code",
   "execution_count": 9,
   "id": "6f4a4a12",
   "metadata": {
    "execution": {
     "iopub.execute_input": "2022-11-19T18:12:31.818833Z",
     "iopub.status.busy": "2022-11-19T18:12:31.818085Z",
     "iopub.status.idle": "2022-11-19T18:12:32.537517Z",
     "shell.execute_reply": "2022-11-19T18:12:32.536575Z"
    },
    "papermill": {
     "duration": 0.727218,
     "end_time": "2022-11-19T18:12:32.539675",
     "exception": false,
     "start_time": "2022-11-19T18:12:31.812457",
     "status": "completed"
    },
    "tags": []
   },
   "outputs": [
    {
     "data": {
      "image/png": "[encoded data removed]",
      "text/plain": [
       "<Figure size 432x288 with 9 Axes>"
      ]
     },
     "metadata": {
      "needs_background": "light"
     },
     "output_type": "display_data"
    }
   ],
   "source": [
    "#train samples\n",
    "for i in range(9):\n",
    "    plt.subplot(330 + (i+1))\n",
    "    plt.imshow(X_train[i].squeeze(), cmap=plt.get_cmap('gray'))\n",
    "    plt.title(y_train[i])"
   ]
  },
  {
   "cell_type": "markdown",
   "id": "0c1ae316",
   "metadata": {
    "papermill": {
     "duration": 0.004535,
     "end_time": "2022-11-19T18:12:32.549123",
     "exception": false,
     "start_time": "2022-11-19T18:12:32.544588",
     "status": "completed"
    },
    "tags": []
   },
   "source": [
    "Preprocessing data"
   ]
  },
  {
   "cell_type": "code",
   "execution_count": 10,
   "id": "8739ecbb",
   "metadata": {
    "execution": {
     "iopub.execute_input": "2022-11-19T18:12:32.559931Z",
     "iopub.status.busy": "2022-11-19T18:12:32.559384Z",
     "iopub.status.idle": "2022-11-19T18:12:32.566588Z",
     "shell.execute_reply": "2022-11-19T18:12:32.565769Z"
    },
    "papermill": {
     "duration": 0.014836,
     "end_time": "2022-11-19T18:12:32.568577",
     "exception": false,
     "start_time": "2022-11-19T18:12:32.553741",
     "status": "completed"
    },
    "tags": []
   },
   "outputs": [],
   "source": [
    "def preprocess_data(X_train, y_train, X_test, y_test,X_val,y_val):\n",
    "  # reshape images to the required size \n",
    "  X_train = X_train.reshape(X_train.shape[0], X_train.shape[1], X_train.shape[2], 1)\n",
    "  X_test = X_test.reshape(X_test.shape[0], X_test.shape[1], X_test.shape[2], 1)\n",
    "  X_val = X_val.reshape(X_val.shape[0], X_val.shape[1], X_val.shape[2], 1)\n",
    "\n",
    "\n",
    "  \n",
    "  # convert image values from integers to floats\n",
    "  X_train = X_train.astype('float32')\n",
    "  X_test = X_test.astype('float32')\n",
    "  X_val = X_val.astype('float32')\n",
    "\n",
    "\n",
    "  \n",
    "#   # normalization\n",
    "#   X_train = X_train/255.0\n",
    "#   X_test_norm = X_test/255.0\n",
    "  \n",
    "  # One-hot encoding label \n",
    "  y_train = to_categorical(y_train)\n",
    "  y_test = to_categorical(y_test)\n",
    "  y_val = to_categorical(y_val)\n",
    "\n",
    "  \n",
    "  return X_train, y_train, X_test, y_test,X_val,y_val"
   ]
  },
  {
   "cell_type": "markdown",
   "id": "d0b5b786",
   "metadata": {
    "papermill": {
     "duration": 0.004461,
     "end_time": "2022-11-19T18:12:32.577642",
     "exception": false,
     "start_time": "2022-11-19T18:12:32.573181",
     "status": "completed"
    },
    "tags": []
   },
   "source": [
    "Define Model"
   ]
  },
  {
   "cell_type": "code",
   "execution_count": 11,
   "id": "5b590ac0",
   "metadata": {
    "execution": {
     "iopub.execute_input": "2022-11-19T18:12:32.589672Z",
     "iopub.status.busy": "2022-11-19T18:12:32.588897Z",
     "iopub.status.idle": "2022-11-19T18:12:32.596806Z",
     "shell.execute_reply": "2022-11-19T18:12:32.595961Z"
    },
    "papermill": {
     "duration": 0.016165,
     "end_time": "2022-11-19T18:12:32.598750",
     "exception": false,
     "start_time": "2022-11-19T18:12:32.582585",
     "status": "completed"
    },
    "tags": []
   },
   "outputs": [],
   "source": [
    "def LeNet():\n",
    "    model = Sequential()\n",
    "\n",
    "    # Convolutional layer 1\n",
    "    model.add(Conv2D(64,(5,5),input_shape=(32, 32,1),padding='same'))\n",
    "    model.add(Activation('relu'))\n",
    "    model.add(MaxPooling2D(pool_size=(2,2)))\n",
    "\n",
    "    # Convolutional layer 2\n",
    "    model.add(Conv2D(32,(3,3),padding='same'))\n",
    "    model.add(Activation('relu'))\n",
    "    model.add(MaxPooling2D(pool_size=(2,2)))\n",
    "    \n",
    "    # Dropout layer \n",
    "    model.add(Dropout(0.25))\n",
    "    \n",
    "    # Flatten layer \n",
    "    model.add(Flatten()) # 3D feature => 1D feature vector\n",
    "\n",
    "    # Fully connected layer 1\n",
    "    model.add(Dense(128, activation='relu'))  \n",
    "    \n",
    "    # Fully connected layer 2\n",
    "    model.add(Dense(64, activation='relu'))  \n",
    " \n",
    "\n",
    "    # The output layer  \n",
    "    model.add(Dense(10, activation = 'softmax'))\n",
    "\n",
    "#     opt = SGD(learning_rate = lrate, momentum=0.9, decay=decay, nesterov=False)\n",
    "    opt = Adam()\n",
    "\n",
    "    model.compile(loss = 'categorical_crossentropy', \n",
    "                    optimizer = opt, \n",
    "                    metrics = ['accuracy']) \n",
    "    return model\n"
   ]
  },
  {
   "cell_type": "code",
   "execution_count": 12,
   "id": "9d509d5b",
   "metadata": {
    "execution": {
     "iopub.execute_input": "2022-11-19T18:12:32.609903Z",
     "iopub.status.busy": "2022-11-19T18:12:32.609099Z",
     "iopub.status.idle": "2022-11-19T18:12:35.553949Z",
     "shell.execute_reply": "2022-11-19T18:12:35.552768Z"
    },
    "papermill": {
     "duration": 2.952509,
     "end_time": "2022-11-19T18:12:35.556035",
     "exception": false,
     "start_time": "2022-11-19T18:12:32.603526",
     "status": "completed"
    },
    "tags": []
   },
   "outputs": [
    {
     "name": "stderr",
     "output_type": "stream",
     "text": [
      "2022-11-19 18:12:32.702621: I tensorflow/stream_executor/cuda/cuda_gpu_executor.cc:937] successful NUMA node read from SysFS had negative value (-1), but there must be at least one NUMA node, so returning NUMA node zero\n",
      "2022-11-19 18:12:32.860652: I tensorflow/stream_executor/cuda/cuda_gpu_executor.cc:937] successful NUMA node read from SysFS had negative value (-1), but there must be at least one NUMA node, so returning NUMA node zero\n",
      "2022-11-19 18:12:32.861424: I tensorflow/stream_executor/cuda/cuda_gpu_executor.cc:937] successful NUMA node read from SysFS had negative value (-1), but there must be at least one NUMA node, so returning NUMA node zero\n",
      "2022-11-19 18:12:32.863278: I tensorflow/core/platform/cpu_feature_guard.cc:142] This TensorFlow binary is optimized with oneAPI Deep Neural Network Library (oneDNN) to use the following CPU instructions in performance-critical operations:  AVX2 AVX512F FMA\n",
      "To enable them in other operations, rebuild TensorFlow with the appropriate compiler flags.\n"
     ]
    },
    {
     "name": "stdout",
     "output_type": "stream",
     "text": [
      "Model: \"sequential\"\n",
      "_________________________________________________________________\n",
      "Layer (type)                 Output Shape              Param #   \n",
      "=================================================================\n",
      "conv2d (Conv2D)              (None, 32, 32, 64)        1664      \n",
      "_________________________________________________________________\n",
      "activation (Activation)      (None, 32, 32, 64)        0         \n",
      "_________________________________________________________________\n",
      "max_pooling2d (MaxPooling2D) (None, 16, 16, 64)        0         \n",
      "_________________________________________________________________\n",
      "conv2d_1 (Conv2D)            (None, 16, 16, 32)        18464     \n",
      "_________________________________________________________________\n",
      "activation_1 (Activation)    (None, 16, 16, 32)        0         \n",
      "_________________________________________________________________\n",
      "max_pooling2d_1 (MaxPooling2 (None, 8, 8, 32)          0         \n",
      "_________________________________________________________________\n",
      "dropout (Dropout)            (None, 8, 8, 32)          0         \n",
      "_________________________________________________________________\n",
      "flatten (Flatten)            (None, 2048)              0         \n",
      "_________________________________________________________________\n",
      "dense (Dense)                (None, 128)               262272    \n",
      "_________________________________________________________________\n",
      "dense_1 (Dense)              (None, 64)                8256      \n",
      "_________________________________________________________________\n",
      "dense_2 (Dense)              (None, 10)                650       \n",
      "=================================================================\n",
      "Total params: 291,306\n",
      "Trainable params: 291,306\n",
      "Non-trainable params: 0\n",
      "_________________________________________________________________\n"
     ]
    },
    {
     "name": "stderr",
     "output_type": "stream",
     "text": [
      "2022-11-19 18:12:32.863678: I tensorflow/stream_executor/cuda/cuda_gpu_executor.cc:937] successful NUMA node read from SysFS had negative value (-1), but there must be at least one NUMA node, so returning NUMA node zero\n",
      "2022-11-19 18:12:32.864639: I tensorflow/stream_executor/cuda/cuda_gpu_executor.cc:937] successful NUMA node read from SysFS had negative value (-1), but there must be at least one NUMA node, so returning NUMA node zero\n",
      "2022-11-19 18:12:32.866647: I tensorflow/stream_executor/cuda/cuda_gpu_executor.cc:937] successful NUMA node read from SysFS had negative value (-1), but there must be at least one NUMA node, so returning NUMA node zero\n",
      "2022-11-19 18:12:35.083287: I tensorflow/stream_executor/cuda/cuda_gpu_executor.cc:937] successful NUMA node read from SysFS had negative value (-1), but there must be at least one NUMA node, so returning NUMA node zero\n",
      "2022-11-19 18:12:35.084177: I tensorflow/stream_executor/cuda/cuda_gpu_executor.cc:937] successful NUMA node read from SysFS had negative value (-1), but there must be at least one NUMA node, so returning NUMA node zero\n",
      "2022-11-19 18:12:35.084857: I tensorflow/stream_executor/cuda/cuda_gpu_executor.cc:937] successful NUMA node read from SysFS had negative value (-1), but there must be at least one NUMA node, so returning NUMA node zero\n",
      "2022-11-19 18:12:35.085439: I tensorflow/core/common_runtime/gpu/gpu_device.cc:1510] Created device /job:localhost/replica:0/task:0/device:GPU:0 with 15401 MB memory:  -> device: 0, name: Tesla P100-PCIE-16GB, pci bus id: 0000:00:04.0, compute capability: 6.0\n"
     ]
    }
   ],
   "source": [
    "LeNet_model = LeNet()\n",
    "LeNet_model.summary()"
   ]
  },
  {
   "cell_type": "markdown",
   "id": "82735c1b",
   "metadata": {
    "papermill": {
     "duration": 0.005199,
     "end_time": "2022-11-19T18:12:35.566411",
     "exception": false,
     "start_time": "2022-11-19T18:12:35.561212",
     "status": "completed"
    },
    "tags": []
   },
   "source": [
    "Training model"
   ]
  },
  {
   "cell_type": "code",
   "execution_count": 13,
   "id": "e520adea",
   "metadata": {
    "execution": {
     "iopub.execute_input": "2022-11-19T18:12:35.577395Z",
     "iopub.status.busy": "2022-11-19T18:12:35.577107Z",
     "iopub.status.idle": "2022-11-19T18:12:35.586019Z",
     "shell.execute_reply": "2022-11-19T18:12:35.585160Z"
    },
    "papermill": {
     "duration": 0.016642,
     "end_time": "2022-11-19T18:12:35.588008",
     "exception": false,
     "start_time": "2022-11-19T18:12:35.571366",
     "status": "completed"
    },
    "tags": []
   },
   "outputs": [],
   "source": [
    "def summary_history(history):\n",
    "  plt.figure(figsize = (10,6))\n",
    "  plt.plot(history.history['accuracy'], color = 'blue', label = 'train_acc')\n",
    "  plt.plot(history.history['val_accuracy'], color = 'red', label = 'val_acc')\n",
    "  plt.legend()\n",
    "  plt.title('Accuracy')\n",
    "  plt.show()\n",
    "\n",
    "def train_model(model, X_train, y_train, X_test, y_test,X_val,y_val, epochs = 30, batch_size = 128):\n",
    "  # Rescaling all training and testing data\n",
    "  X_train, y_train, X_test, y_test,X_val,y_val= preprocess_data(X_train, y_train, X_test, y_test,X_val,y_val)\n",
    "  # Fitting the model on the training set\n",
    "  history = model.fit(X_train, y_train, epochs = epochs, batch_size = batch_size, \n",
    "                      steps_per_epoch = X_train.shape[0]//batch_size, \n",
    "                      validation_data = (X_val,y_val), \n",
    "                      validation_steps = X_val.shape[0]//batch_size)\n",
    "  # evaluating the model\n",
    "  _, acc = model.evaluate(X_test, y_test, verbose = 1)\n",
    "  print('%.3f' % (acc * 100.0))\n",
    "  summary_history(history)"
   ]
  },
  {
   "cell_type": "code",
   "execution_count": 14,
   "id": "9064c0bb",
   "metadata": {
    "execution": {
     "iopub.execute_input": "2022-11-19T18:12:35.599117Z",
     "iopub.status.busy": "2022-11-19T18:12:35.598849Z",
     "iopub.status.idle": "2022-11-19T18:13:47.089018Z",
     "shell.execute_reply": "2022-11-19T18:13:47.088132Z"
    },
    "papermill": {
     "duration": 71.497949,
     "end_time": "2022-11-19T18:13:47.091117",
     "exception": false,
     "start_time": "2022-11-19T18:12:35.593168",
     "status": "completed"
    },
    "tags": []
   },
   "outputs": [
    {
     "name": "stderr",
     "output_type": "stream",
     "text": [
      "2022-11-19 18:12:36.136445: I tensorflow/compiler/mlir/mlir_graph_optimization_pass.cc:185] None of the MLIR Optimization Passes are enabled (registered 2)\n"
     ]
    },
    {
     "name": "stdout",
     "output_type": "stream",
     "text": [
      "Epoch 1/30\n"
     ]
    },
    {
     "name": "stderr",
     "output_type": "stream",
     "text": [
      "2022-11-19 18:12:37.431210: I tensorflow/stream_executor/cuda/cuda_dnn.cc:369] Loaded cuDNN version 8005\n"
     ]
    },
    {
     "name": "stdout",
     "output_type": "stream",
     "text": [
      "351/351 [==============================] - 9s 7ms/step - loss: 0.1618 - accuracy: 0.9526 - val_loss: 0.0403 - val_accuracy: 0.9874\n",
      "Epoch 2/30\n",
      "351/351 [==============================] - 2s 6ms/step - loss: 0.0340 - accuracy: 0.9893 - val_loss: 0.0270 - val_accuracy: 0.9911\n",
      "Epoch 3/30\n",
      "351/351 [==============================] - 2s 6ms/step - loss: 0.0221 - accuracy: 0.9926 - val_loss: 0.0220 - val_accuracy: 0.9933\n",
      "Epoch 4/30\n",
      "351/351 [==============================] - 2s 6ms/step - loss: 0.0183 - accuracy: 0.9936 - val_loss: 0.0193 - val_accuracy: 0.9938\n",
      "Epoch 5/30\n",
      "351/351 [==============================] - 2s 6ms/step - loss: 0.0133 - accuracy: 0.9956 - val_loss: 0.0190 - val_accuracy: 0.9949\n",
      "Epoch 6/30\n",
      "351/351 [==============================] - 2s 6ms/step - loss: 0.0102 - accuracy: 0.9966 - val_loss: 0.0172 - val_accuracy: 0.9948\n",
      "Epoch 7/30\n",
      "351/351 [==============================] - 2s 6ms/step - loss: 0.0096 - accuracy: 0.9969 - val_loss: 0.0171 - val_accuracy: 0.9951\n",
      "Epoch 8/30\n",
      "351/351 [==============================] - 2s 6ms/step - loss: 0.0083 - accuracy: 0.9973 - val_loss: 0.0155 - val_accuracy: 0.9958\n",
      "Epoch 9/30\n",
      "351/351 [==============================] - 2s 6ms/step - loss: 0.0083 - accuracy: 0.9971 - val_loss: 0.0161 - val_accuracy: 0.9952\n",
      "Epoch 10/30\n",
      "351/351 [==============================] - 2s 6ms/step - loss: 0.0074 - accuracy: 0.9977 - val_loss: 0.0142 - val_accuracy: 0.9957\n",
      "Epoch 11/30\n",
      "351/351 [==============================] - 2s 6ms/step - loss: 0.0068 - accuracy: 0.9975 - val_loss: 0.0134 - val_accuracy: 0.9959\n",
      "Epoch 12/30\n",
      "351/351 [==============================] - 2s 6ms/step - loss: 0.0060 - accuracy: 0.9977 - val_loss: 0.0156 - val_accuracy: 0.9953\n",
      "Epoch 13/30\n",
      "351/351 [==============================] - 2s 6ms/step - loss: 0.0061 - accuracy: 0.9980 - val_loss: 0.0184 - val_accuracy: 0.9957\n",
      "Epoch 14/30\n",
      "351/351 [==============================] - 2s 6ms/step - loss: 0.0042 - accuracy: 0.9988 - val_loss: 0.0191 - val_accuracy: 0.9950\n",
      "Epoch 15/30\n",
      "351/351 [==============================] - 2s 6ms/step - loss: 0.0046 - accuracy: 0.9986 - val_loss: 0.0174 - val_accuracy: 0.9959\n",
      "Epoch 16/30\n",
      "351/351 [==============================] - 2s 6ms/step - loss: 0.0040 - accuracy: 0.9987 - val_loss: 0.0221 - val_accuracy: 0.9953\n",
      "Epoch 17/30\n",
      "351/351 [==============================] - 2s 6ms/step - loss: 0.0048 - accuracy: 0.9985 - val_loss: 0.0192 - val_accuracy: 0.9958\n",
      "Epoch 18/30\n",
      "351/351 [==============================] - 2s 6ms/step - loss: 0.0033 - accuracy: 0.9989 - val_loss: 0.0241 - val_accuracy: 0.9946\n",
      "Epoch 19/30\n",
      "351/351 [==============================] - 2s 6ms/step - loss: 0.0047 - accuracy: 0.9985 - val_loss: 0.0220 - val_accuracy: 0.9957\n",
      "Epoch 20/30\n",
      "351/351 [==============================] - 2s 6ms/step - loss: 0.0041 - accuracy: 0.9986 - val_loss: 0.0186 - val_accuracy: 0.9962\n",
      "Epoch 21/30\n",
      "351/351 [==============================] - 2s 6ms/step - loss: 0.0026 - accuracy: 0.9991 - val_loss: 0.0203 - val_accuracy: 0.9959\n",
      "Epoch 22/30\n",
      "351/351 [==============================] - 2s 6ms/step - loss: 0.0039 - accuracy: 0.9987 - val_loss: 0.0171 - val_accuracy: 0.9965\n",
      "Epoch 23/30\n",
      "351/351 [==============================] - 2s 6ms/step - loss: 9.3440e-04 - accuracy: 0.9998 - val_loss: 0.0206 - val_accuracy: 0.9961\n",
      "Epoch 24/30\n",
      "351/351 [==============================] - 2s 6ms/step - loss: 8.3097e-04 - accuracy: 0.9997 - val_loss: 0.0194 - val_accuracy: 0.9960\n",
      "Epoch 25/30\n",
      "351/351 [==============================] - 2s 6ms/step - loss: 0.0029 - accuracy: 0.9990 - val_loss: 0.0203 - val_accuracy: 0.9957\n",
      "Epoch 26/30\n",
      "351/351 [==============================] - 2s 6ms/step - loss: 0.0036 - accuracy: 0.9988 - val_loss: 0.0190 - val_accuracy: 0.9961\n",
      "Epoch 27/30\n",
      "351/351 [==============================] - 2s 6ms/step - loss: 0.0027 - accuracy: 0.9992 - val_loss: 0.0220 - val_accuracy: 0.9959\n",
      "Epoch 28/30\n",
      "351/351 [==============================] - 2s 6ms/step - loss: 0.0041 - accuracy: 0.9988 - val_loss: 0.0253 - val_accuracy: 0.9953\n",
      "Epoch 29/30\n",
      "351/351 [==============================] - 2s 6ms/step - loss: 0.0028 - accuracy: 0.9992 - val_loss: 0.0239 - val_accuracy: 0.9961\n",
      "Epoch 30/30\n",
      "351/351 [==============================] - 2s 6ms/step - loss: 0.0015 - accuracy: 0.9995 - val_loss: 0.0228 - val_accuracy: 0.9962\n",
      "625/625 [==============================] - 2s 2ms/step - loss: 0.0504 - accuracy: 0.9923\n",
      "99.225\n"
     ]
    },
    {
     "data": {
      "image/png": "[encoded data removed]",
      "text/plain": [
       "<Figure size 720x432 with 1 Axes>"
      ]
     },
     "metadata": {
      "needs_background": "light"
     },
     "output_type": "display_data"
    }
   ],
   "source": [
    "train_model(LeNet_model, X_train, y_train, X_test, y_test,X_val,y_val)"
   ]
  },
  {
   "cell_type": "code",
   "execution_count": null,
   "id": "11d7a0ae",
   "metadata": {
    "papermill": {
     "duration": 0.058589,
     "end_time": "2022-11-19T18:13:47.208282",
     "exception": false,
     "start_time": "2022-11-19T18:13:47.149693",
     "status": "completed"
    },
    "tags": []
   },
   "outputs": [],
   "source": []
  },
  {
   "cell_type": "code",
   "execution_count": null,
   "id": "8b29a8dc",
   "metadata": {
    "papermill": {
     "duration": 0.056951,
     "end_time": "2022-11-19T18:13:47.322487",
     "exception": false,
     "start_time": "2022-11-19T18:13:47.265536",
     "status": "completed"
    },
    "tags": []
   },
   "outputs": [],
   "source": []
  }
 ],
 "metadata": {
  "kernelspec": {
   "display_name": "Python 3",
   "language": "python",
   "name": "python3"
  },
  "language_info": {
   "codemirror_mode": {
    "name": "ipython",
    "version": 3
   },
   "file_extension": ".py",
   "mimetype": "text/x-python",
   "name": "python",
   "nbconvert_exporter": "python",
   "pygments_lexer": "ipython3",
   "version": "3.7.12"
  },
  "papermill": {
   "default_parameters": {},
   "duration": 101.445899,
   "end_time": "2022-11-19T18:13:50.723116",
   "environment_variables": {},
   "exception": null,
   "input_path": "__notebook__.ipynb",
   "output_path": "__notebook__.ipynb",
   "parameters": {},
   "start_time": "2022-11-19T18:12:09.277217",
   "version": "2.3.4"
  }
 },
 "nbformat": 4,
 "nbformat_minor": 5
}
